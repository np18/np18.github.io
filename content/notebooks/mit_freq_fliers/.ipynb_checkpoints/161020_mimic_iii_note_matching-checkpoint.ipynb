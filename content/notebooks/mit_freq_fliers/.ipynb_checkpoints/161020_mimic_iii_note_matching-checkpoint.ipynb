{
 "cells": [
  {
   "cell_type": "markdown",
   "metadata": {},
   "source": [
    "# Introduction"
   ]
  },
  {
   "cell_type": "markdown",
   "metadata": {},
   "source": [
    "Notes that were evaluated were pulled from both MIMIC 2 and MIMIC 3 due to availablity of data at the time of extraction.  This causes difficulty when trying to pair the notes with structured data for the purposes of relating the notes to the overall patient context.  \n",
    "\n",
    "This notebook takes annotated note files as input, collects the necessary information from MIMIC 2 and 3 to find the note in MIMIC 3, and creates a new annotation file with the MIMIC 3 data."
   ]
  },
  {
   "cell_type": "markdown",
   "metadata": {},
   "source": [
    "**Authors**\n",
    "- Eric Carlson"
   ]
  },
  {
   "cell_type": "code",
   "execution_count": 1,
   "metadata": {
    "collapsed": false
   },
   "outputs": [],
   "source": [
    "from datetime import datetime\n",
    "import configparser\n",
    "import hashlib\n",
    "from importlib import reload\n",
    "import logging\n",
    "import numpy as np\n",
    "import os\n",
    "import pandas as pd\n",
    "import pathlib as pl\n",
    "import sys\n",
    "import yaml\n",
    "\n",
    "from IPython import display\n",
    "\n",
    "import etc_utils as eu\n",
    "import mimic_extraction_utils as meu"
   ]
  },
  {
   "cell_type": "code",
   "execution_count": 2,
   "metadata": {
    "collapsed": true
   },
   "outputs": [],
   "source": [
    "import sqlalchemy as sa\n",
    "from sqlalchemy.engine import reflection\n",
    "from sqlalchemy.ext.declarative import declarative_base\n",
    "from sqlalchemy import create_engine, MetaData, inspect\n",
    "from sqlalchemy.orm import sessionmaker\n",
    "from sqlalchemy.ext.automap import automap_base"
   ]
  },
  {
   "cell_type": "code",
   "execution_count": 3,
   "metadata": {
    "collapsed": false
   },
   "outputs": [
    {
     "data": {
      "text/plain": [
       "<module 'etc_utils' from '/Users/ecarlson/code/etc/ektar-pelican/content/notebooks/mit_freq_fliers/etc_utils.py'>"
      ]
     },
     "execution_count": 3,
     "metadata": {},
     "output_type": "execute_result"
    }
   ],
   "source": [
    "reload(eu)\n",
    "#%cat etc_utils.py"
   ]
  },
  {
   "cell_type": "code",
   "execution_count": 4,
   "metadata": {
    "collapsed": false
   },
   "outputs": [
    {
     "data": {
      "text/plain": [
       "<module 'mimic_extraction_utils' from '/Users/ecarlson/code/etc/ektar-pelican/content/notebooks/mit_freq_fliers/mimic_extraction_utils.py'>"
      ]
     },
     "execution_count": 4,
     "metadata": {},
     "output_type": "execute_result"
    }
   ],
   "source": [
    "reload(meu)"
   ]
  },
  {
   "cell_type": "markdown",
   "metadata": {},
   "source": [
    "## Configure pandas and matplot lib for nice web printing"
   ]
  },
  {
   "cell_type": "code",
   "execution_count": 5,
   "metadata": {
    "collapsed": true
   },
   "outputs": [],
   "source": [
    "pd.options.display.max_rows = 1000\n",
    "pd.options.display.max_columns = 50\n",
    "pd.options.display.max_colwidth = 100"
   ]
  },
  {
   "cell_type": "code",
   "execution_count": 6,
   "metadata": {
    "collapsed": true
   },
   "outputs": [],
   "source": [
    "%matplotlib inline"
   ]
  },
  {
   "cell_type": "markdown",
   "metadata": {},
   "source": [
    "## Load config files, configure logging"
   ]
  },
  {
   "cell_type": "code",
   "execution_count": 7,
   "metadata": {
    "collapsed": true
   },
   "outputs": [],
   "source": [
    "work_desc = \"mimic_iii_note_conversion\""
   ]
  },
  {
   "cell_type": "code",
   "execution_count": 24,
   "metadata": {
    "collapsed": false
   },
   "outputs": [
    {
     "name": "stdout",
     "output_type": "stream",
     "text": [
      "Time string: 2016-12-31-11-20\n",
      "Paths:\n",
      "repo_data_dir: /Users/ecarlson/code/etc/mit_frequent_fliers/mit-team-code/data\n",
      "input_dir: /Users/ecarlson/data/mit_frequent_fliers\n",
      "results_dir: /Users/ecarlson/results/mit_frequent_fliers\n",
      "log_dir: /Users/ecarlson/logs/mit_frequent_fliers\n"
     ]
    }
   ],
   "source": [
    "time_str, path_config, creds = eu.load_config_v2(creds_file='../../private/mit_freq_fliers/credentials.yaml')\n",
    "print('Time string: {}'.format(time_str))\n",
    "\n",
    "print('Paths:')\n",
    "for k, item in path_config.items():\n",
    "    print('{}: {}'.format(k, item))"
   ]
  },
  {
   "cell_type": "code",
   "execution_count": 9,
   "metadata": {
    "collapsed": false
   },
   "outputs": [
    {
     "name": "stdout",
     "output_type": "stream",
     "text": [
      "Logging to /Users/ecarlson/logs/mit_frequent_fliers/2016-12-31-11-04_mimic_iii_note_conversion.log\n"
     ]
    }
   ],
   "source": [
    "logger = logging.getLogger()\n",
    "\n",
    "eu.configure_logging(logger, work_desc=work_desc, log_directory=path_config['log_dir'], time_str=time_str)"
   ]
  },
  {
   "cell_type": "code",
   "execution_count": 10,
   "metadata": {
    "collapsed": false
   },
   "outputs": [
    {
     "data": {
      "text/plain": [
       "['mimic3_v1_4', 'mimic2_v2_6', 'postgres']"
      ]
     },
     "execution_count": 10,
     "metadata": {},
     "output_type": "execute_result"
    }
   ],
   "source": [
    "[k for k in creds.keys()]"
   ]
  },
  {
   "cell_type": "code",
   "execution_count": 11,
   "metadata": {
    "collapsed": false
   },
   "outputs": [
    {
     "data": {
      "text/plain": [
       "['dbname', 'username', 'sa_driver', 'password', 'hostname']"
      ]
     },
     "execution_count": 11,
     "metadata": {},
     "output_type": "execute_result"
    }
   ],
   "source": [
    "[k for k in creds['mimic3_v1_4'].keys()]"
   ]
  },
  {
   "cell_type": "markdown",
   "metadata": {},
   "source": [
    "# Connect to databases"
   ]
  },
  {
   "cell_type": "code",
   "execution_count": 12,
   "metadata": {
    "collapsed": false
   },
   "outputs": [],
   "source": [
    "db3_path = '{sa_driver}://{username}:{password}@{hostname}/{dbname}'.format(**creds['mimic3_v1_4'])\n",
    "engine3 = create_engine(db3_path)\n",
    "sm3 = sessionmaker(bind=engine3)\n",
    "s3 = sm3()\n",
    "conn3 = s3.connection()\n",
    "\n",
    "meta3 = MetaData(schema=\"mimiciii\", bind=engine3)\n",
    "meta3.reflect(bind=engine3)"
   ]
  },
  {
   "cell_type": "code",
   "execution_count": 13,
   "metadata": {
    "collapsed": true
   },
   "outputs": [],
   "source": [
    "base3 = automap_base(metadata=meta3)\n",
    "base3.prepare(engine3, reflect=True)"
   ]
  },
  {
   "cell_type": "code",
   "execution_count": 14,
   "metadata": {
    "collapsed": false
   },
   "outputs": [
    {
     "name": "stdout",
     "output_type": "stream",
     "text": [
      "admissions\n",
      "callout\n",
      "caregivers\n",
      "chartevents\n",
      "cptevents\n",
      "d_cpt\n",
      "d_icd_diagnoses\n",
      "d_icd_procedures\n",
      "d_items\n",
      "d_labitems\n",
      "datetimeevents\n",
      "diagnoses_icd\n",
      "drgcodes\n",
      "icustays\n",
      "inputevents_cv\n",
      "inputevents_mv\n",
      "labevents\n",
      "microbiologyevents\n",
      "noteevents\n",
      "outputevents\n",
      "patients\n",
      "prescriptions\n",
      "procedureevents_mv\n",
      "procedures_icd\n",
      "services\n",
      "transfers\n"
     ]
    }
   ],
   "source": [
    "for cls_name in sorted(base3.classes.keys()):\n",
    "    print(cls_name)"
   ]
  },
  {
   "cell_type": "code",
   "execution_count": 15,
   "metadata": {
    "collapsed": false
   },
   "outputs": [],
   "source": [
    "note_tb = base3.classes['noteevents']"
   ]
  },
  {
   "cell_type": "code",
   "execution_count": 16,
   "metadata": {
    "collapsed": false,
    "scrolled": true
   },
   "outputs": [
    {
     "data": {
      "text/plain": [
       "2083180"
      ]
     },
     "execution_count": 16,
     "metadata": {},
     "output_type": "execute_result"
    }
   ],
   "source": [
    "s3.query(note_tb.category).count()"
   ]
  },
  {
   "cell_type": "code",
   "execution_count": 17,
   "metadata": {
    "collapsed": false
   },
   "outputs": [],
   "source": [
    "db2_path = '{sa_driver}://{username}:{password}@{hostname}/{dbname}'.format(**creds['mimic2_v2_6'])\n",
    "engine2 = create_engine(db2_path)\n",
    "sm2 = sessionmaker(bind=engine2)\n",
    "s2 = sm2()\n",
    "conn2 = s2.connection()\n",
    "\n",
    "meta2 = MetaData(schema=\"mimic2v26\", bind=engine2)\n",
    "meta2.reflect(bind=engine2)"
   ]
  },
  {
   "cell_type": "code",
   "execution_count": 18,
   "metadata": {
    "collapsed": true
   },
   "outputs": [],
   "source": [
    "base2 = automap_base(metadata=meta2)\n",
    "base2.prepare(engine2, reflect=True)"
   ]
  },
  {
   "cell_type": "code",
   "execution_count": 19,
   "metadata": {
    "collapsed": false
   },
   "outputs": [
    {
     "name": "stdout",
     "output_type": "stream",
     "text": [
      "admissions\n",
      "censusevents\n",
      "d_caregivers\n",
      "d_careunits\n",
      "d_chartitems\n",
      "d_codeditems\n",
      "d_demographicitems\n",
      "d_ioitems\n",
      "d_labitems\n",
      "d_meditems\n",
      "d_patients\n",
      "demographicevents\n",
      "drgevents\n",
      "icustayevents\n",
      "poe_order\n",
      "procedureevents\n"
     ]
    }
   ],
   "source": [
    "for cls_name in sorted(base2.classes.keys()):\n",
    "    print(cls_name)"
   ]
  },
  {
   "cell_type": "code",
   "execution_count": 20,
   "metadata": {
    "collapsed": false
   },
   "outputs": [
    {
     "data": {
      "text/plain": [
       "[(1239502,)]"
      ]
     },
     "execution_count": 20,
     "metadata": {},
     "output_type": "execute_result"
    }
   ],
   "source": [
    "conn2.execute('select count(*) from mimic2v26.noteevents').fetchall()"
   ]
  },
  {
   "cell_type": "markdown",
   "metadata": {},
   "source": [
    "# Load labeled notes"
   ]
  },
  {
   "cell_type": "code",
   "execution_count": 21,
   "metadata": {
    "collapsed": true
   },
   "outputs": [],
   "source": [
    "categories = ['Advanced.Cancer', 'Advanced.Heart.Disease', 'Advanced.Lung.Disease',\n",
    "       'Alcohol.Abuse',\n",
    "       'Chronic.Neurological.Dystrophies', 'Chronic.Pain.Fibromyalgia',\n",
    "       'Dementia', 'Depression', 'Developmental.Delay.Retardation',\n",
    "       'Non.Adherence', 'None',\n",
    "       'Obesity', 'Other.Substance.Abuse', \n",
    "       'Schizophrenia.and.other.Psychiatric.Disorders', 'Unsure',]"
   ]
  },
  {
   "cell_type": "code",
   "execution_count": 25,
   "metadata": {
    "collapsed": true
   },
   "outputs": [],
   "source": [
    "data_path = pl.Path(path_config['repo_data_dir'])"
   ]
  },
  {
   "cell_type": "code",
   "execution_count": 26,
   "metadata": {
    "collapsed": false
   },
   "outputs": [
    {
     "data": {
      "text/plain": [
       "[PosixPath('/Users/ecarlson/code/etc/mit_frequent_fliers/mit-team-code/data/AllnursingFinal27Sep16.csv'),\n",
       " PosixPath('/Users/ecarlson/code/etc/mit_frequent_fliers/mit-team-code/data/combined_label_data_2016-10-24-16-35.csv'),\n",
       " PosixPath('/Users/ecarlson/code/etc/mit_frequent_fliers/mit-team-code/data/dischargeSummariesClean.csv'),\n",
       " PosixPath('/Users/ecarlson/code/etc/mit_frequent_fliers/mit-team-code/data/mimic3_note_equivs_2016-10-22-03-39.csv'),\n",
       " PosixPath('/Users/ecarlson/code/etc/mit_frequent_fliers/mit-team-code/data/mimic3_note_metadata_2016-10-24-16-35.csv'),\n",
       " PosixPath('/Users/ecarlson/code/etc/mit_frequent_fliers/mit-team-code/data/notes_icd9_codes_2016-10-24-16-35.csv'),\n",
       " PosixPath('/Users/ecarlson/code/etc/mit_frequent_fliers/mit-team-code/data/nursingNotesClean.csv')]"
      ]
     },
     "execution_count": 26,
     "metadata": {},
     "output_type": "execute_result"
    }
   ],
   "source": [
    "[p for p in data_path.glob('*csv')]"
   ]
  },
  {
   "cell_type": "code",
   "execution_count": 27,
   "metadata": {
    "collapsed": true
   },
   "outputs": [],
   "source": [
    "nursing_notes_path = data_path.joinpath('nursingNotesClean.csv')\n",
    "discharge_notes_path = data_path.joinpath('dischargeSummariesClean.csv')"
   ]
  },
  {
   "cell_type": "code",
   "execution_count": 28,
   "metadata": {
    "collapsed": true
   },
   "outputs": [],
   "source": [
    "nursing_notes = pd.read_csv(nursing_notes_path.as_posix())\n",
    "disch_notes = pd.read_csv(discharge_notes_path.as_posix()).rename(columns={'subject.id':'subject_id'})"
   ]
  },
  {
   "cell_type": "code",
   "execution_count": 29,
   "metadata": {
    "collapsed": false
   },
   "outputs": [
    {
     "data": {
      "text/html": [
       "<div>\n",
       "<table border=\"1\" class=\"dataframe\">\n",
       "  <thead>\n",
       "    <tr style=\"text-align: right;\">\n",
       "      <th></th>\n",
       "      <th>Hospital.Admission.ID</th>\n",
       "      <th>subject_id</th>\n",
       "      <th>icustay_id</th>\n",
       "      <th>charttime</th>\n",
       "      <th>realtime</th>\n",
       "      <th>category</th>\n",
       "      <th>title</th>\n",
       "      <th>text</th>\n",
       "      <th>cohort</th>\n",
       "      <th>rand</th>\n",
       "      <th>Subject.ID</th>\n",
       "      <th>ICU.ID</th>\n",
       "      <th>Note.Type</th>\n",
       "      <th>Chart.time</th>\n",
       "      <th>Category</th>\n",
       "      <th>Real.time</th>\n",
       "      <th>None</th>\n",
       "      <th>Obesity</th>\n",
       "      <th>Non.Adherence</th>\n",
       "      <th>Developmental.Delay.Retardation</th>\n",
       "      <th>Advanced.Heart.Disease</th>\n",
       "      <th>Advanced.Lung.Disease</th>\n",
       "      <th>Schizophrenia.and.other.Psychiatric.Disorders</th>\n",
       "      <th>Alcohol.Abuse</th>\n",
       "      <th>Other.Substance.Abuse</th>\n",
       "      <th>Chronic.Pain.Fibromyalgia</th>\n",
       "      <th>Chronic.Neurological.Dystrophies</th>\n",
       "      <th>Advanced.Cancer</th>\n",
       "      <th>Depression</th>\n",
       "      <th>Dementia</th>\n",
       "      <th>Unsure</th>\n",
       "      <th>operator</th>\n",
       "    </tr>\n",
       "  </thead>\n",
       "  <tbody>\n",
       "    <tr>\n",
       "      <th>0</th>\n",
       "      <td>2</td>\n",
       "      <td>24807</td>\n",
       "      <td>30800.0</td>\n",
       "      <td>7/9/33 0:56</td>\n",
       "      <td>7/9/33 1:22</td>\n",
       "      <td>Nursing/Other</td>\n",
       "      <td>MICU/SICU NURSING PROGRESS NOTE.</td>\n",
       "      <td>\\nMICU/SICU NURSING PROGRESS NOTE.\\n     SEE CAREVIEW FOR OBJECTIVE DATA.\\n     Neuro: Arouses w...</td>\n",
       "      <td>1</td>\n",
       "      <td>0.330879</td>\n",
       "      <td>24807</td>\n",
       "      <td>30800.0</td>\n",
       "      <td>Nursing/Other</td>\n",
       "      <td>7/9/33 0:56</td>\n",
       "      <td>Nursing/Other</td>\n",
       "      <td>7/9/33 1:22</td>\n",
       "      <td>1</td>\n",
       "      <td>0</td>\n",
       "      <td>0</td>\n",
       "      <td>0</td>\n",
       "      <td>0</td>\n",
       "      <td>0</td>\n",
       "      <td>0</td>\n",
       "      <td>0</td>\n",
       "      <td>0</td>\n",
       "      <td>0</td>\n",
       "      <td>0</td>\n",
       "      <td>0</td>\n",
       "      <td>0</td>\n",
       "      <td>0</td>\n",
       "      <td>0</td>\n",
       "      <td>ETM</td>\n",
       "    </tr>\n",
       "    <tr>\n",
       "      <th>1</th>\n",
       "      <td>2</td>\n",
       "      <td>24807</td>\n",
       "      <td>30800.0</td>\n",
       "      <td>7/9/33 0:56</td>\n",
       "      <td>7/9/33 1:22</td>\n",
       "      <td>Nursing/Other</td>\n",
       "      <td>MICU/SICU NURSING PROGRESS NOTE.</td>\n",
       "      <td>\\nMICU/SICU NURSING PROGRESS NOTE.\\n     SEE CAREVIEW FOR OBJECTIVE DATA.\\n     Neuro: Arouses w...</td>\n",
       "      <td>1</td>\n",
       "      <td>0.330879</td>\n",
       "      <td>24807</td>\n",
       "      <td>30800.0</td>\n",
       "      <td>Nursing/Other</td>\n",
       "      <td>7/9/33 0:56</td>\n",
       "      <td>Nursing/Other</td>\n",
       "      <td>7/9/33 1:22</td>\n",
       "      <td>1</td>\n",
       "      <td>0</td>\n",
       "      <td>0</td>\n",
       "      <td>0</td>\n",
       "      <td>0</td>\n",
       "      <td>0</td>\n",
       "      <td>0</td>\n",
       "      <td>0</td>\n",
       "      <td>0</td>\n",
       "      <td>0</td>\n",
       "      <td>0</td>\n",
       "      <td>0</td>\n",
       "      <td>0</td>\n",
       "      <td>0</td>\n",
       "      <td>0</td>\n",
       "      <td>JTW</td>\n",
       "    </tr>\n",
       "    <tr>\n",
       "      <th>2</th>\n",
       "      <td>18</td>\n",
       "      <td>5097</td>\n",
       "      <td>6331.0</td>\n",
       "      <td>6/9/24 18:12</td>\n",
       "      <td>6/9/24 18:29</td>\n",
       "      <td>Nursing/Other</td>\n",
       "      <td>NaN</td>\n",
       "      <td>\\n\\nNURSING ACCEPTANCE NOTE.\\n\\nPT TRANSFERRED  FROM [**Hospital 254**] HOSPITAL TRANSFERRED WIT...</td>\n",
       "      <td>0</td>\n",
       "      <td>0.315757</td>\n",
       "      <td>5097</td>\n",
       "      <td>6331.0</td>\n",
       "      <td>Nursing/Other</td>\n",
       "      <td>6/9/24 18:12</td>\n",
       "      <td>Nursing/Other</td>\n",
       "      <td>6/9/24 18:29</td>\n",
       "      <td>0</td>\n",
       "      <td>0</td>\n",
       "      <td>0</td>\n",
       "      <td>0</td>\n",
       "      <td>0</td>\n",
       "      <td>0</td>\n",
       "      <td>0</td>\n",
       "      <td>0</td>\n",
       "      <td>0</td>\n",
       "      <td>1</td>\n",
       "      <td>1</td>\n",
       "      <td>0</td>\n",
       "      <td>0</td>\n",
       "      <td>0</td>\n",
       "      <td>1</td>\n",
       "      <td>JTW</td>\n",
       "    </tr>\n",
       "    <tr>\n",
       "      <th>3</th>\n",
       "      <td>18</td>\n",
       "      <td>5097</td>\n",
       "      <td>6331.0</td>\n",
       "      <td>6/9/24 18:12</td>\n",
       "      <td>6/9/24 18:29</td>\n",
       "      <td>Nursing/Other</td>\n",
       "      <td>NaN</td>\n",
       "      <td>\\n\\nNURSING ACCEPTANCE NOTE.\\n\\nPT TRANSFERRED  FROM [**Hospital 254**] HOSPITAL TRANSFERRED WIT...</td>\n",
       "      <td>0</td>\n",
       "      <td>0.315757</td>\n",
       "      <td>5097</td>\n",
       "      <td>6331.0</td>\n",
       "      <td>Nursing/Other</td>\n",
       "      <td>6/9/24 18:12</td>\n",
       "      <td>Nursing/Other</td>\n",
       "      <td>6/9/24 18:29</td>\n",
       "      <td>0</td>\n",
       "      <td>0</td>\n",
       "      <td>0</td>\n",
       "      <td>0</td>\n",
       "      <td>0</td>\n",
       "      <td>1</td>\n",
       "      <td>1</td>\n",
       "      <td>0</td>\n",
       "      <td>0</td>\n",
       "      <td>0</td>\n",
       "      <td>0</td>\n",
       "      <td>0</td>\n",
       "      <td>0</td>\n",
       "      <td>0</td>\n",
       "      <td>1</td>\n",
       "      <td>ETM</td>\n",
       "    </tr>\n",
       "    <tr>\n",
       "      <th>4</th>\n",
       "      <td>45</td>\n",
       "      <td>23014</td>\n",
       "      <td>28601.0</td>\n",
       "      <td>5/1/08 9:51</td>\n",
       "      <td>5/1/08 9:57</td>\n",
       "      <td>Nursing/Other</td>\n",
       "      <td>NaN</td>\n",
       "      <td>\\n\\nNEURO; PT ON PROPFOL AT 25 MCG/KG/MIN, GTT OFF PER SICU AND NEURO TEAM, PT UNRESPONSIVE, WIT...</td>\n",
       "      <td>1</td>\n",
       "      <td>0.435921</td>\n",
       "      <td>23014</td>\n",
       "      <td>28601.0</td>\n",
       "      <td>Nursing/Other</td>\n",
       "      <td>5/1/08 9:51</td>\n",
       "      <td>Nursing/Other</td>\n",
       "      <td>5/1/08 9:57</td>\n",
       "      <td>1</td>\n",
       "      <td>0</td>\n",
       "      <td>0</td>\n",
       "      <td>0</td>\n",
       "      <td>0</td>\n",
       "      <td>0</td>\n",
       "      <td>0</td>\n",
       "      <td>0</td>\n",
       "      <td>0</td>\n",
       "      <td>0</td>\n",
       "      <td>0</td>\n",
       "      <td>0</td>\n",
       "      <td>0</td>\n",
       "      <td>0</td>\n",
       "      <td>0</td>\n",
       "      <td>JF</td>\n",
       "    </tr>\n",
       "  </tbody>\n",
       "</table>\n",
       "</div>"
      ],
      "text/plain": [
       "   Hospital.Admission.ID  subject_id  icustay_id     charttime      realtime  \\\n",
       "0                      2       24807     30800.0   7/9/33 0:56   7/9/33 1:22   \n",
       "1                      2       24807     30800.0   7/9/33 0:56   7/9/33 1:22   \n",
       "2                     18        5097      6331.0  6/9/24 18:12  6/9/24 18:29   \n",
       "3                     18        5097      6331.0  6/9/24 18:12  6/9/24 18:29   \n",
       "4                     45       23014     28601.0   5/1/08 9:51   5/1/08 9:57   \n",
       "\n",
       "        category                             title  \\\n",
       "0  Nursing/Other  MICU/SICU NURSING PROGRESS NOTE.   \n",
       "1  Nursing/Other  MICU/SICU NURSING PROGRESS NOTE.   \n",
       "2  Nursing/Other                               NaN   \n",
       "3  Nursing/Other                               NaN   \n",
       "4  Nursing/Other                               NaN   \n",
       "\n",
       "                                                                                                  text  \\\n",
       "0  \\nMICU/SICU NURSING PROGRESS NOTE.\\n     SEE CAREVIEW FOR OBJECTIVE DATA.\\n     Neuro: Arouses w...   \n",
       "1  \\nMICU/SICU NURSING PROGRESS NOTE.\\n     SEE CAREVIEW FOR OBJECTIVE DATA.\\n     Neuro: Arouses w...   \n",
       "2  \\n\\nNURSING ACCEPTANCE NOTE.\\n\\nPT TRANSFERRED  FROM [**Hospital 254**] HOSPITAL TRANSFERRED WIT...   \n",
       "3  \\n\\nNURSING ACCEPTANCE NOTE.\\n\\nPT TRANSFERRED  FROM [**Hospital 254**] HOSPITAL TRANSFERRED WIT...   \n",
       "4  \\n\\nNEURO; PT ON PROPFOL AT 25 MCG/KG/MIN, GTT OFF PER SICU AND NEURO TEAM, PT UNRESPONSIVE, WIT...   \n",
       "\n",
       "   cohort      rand  Subject.ID   ICU.ID      Note.Type    Chart.time  \\\n",
       "0       1  0.330879       24807  30800.0  Nursing/Other   7/9/33 0:56   \n",
       "1       1  0.330879       24807  30800.0  Nursing/Other   7/9/33 0:56   \n",
       "2       0  0.315757        5097   6331.0  Nursing/Other  6/9/24 18:12   \n",
       "3       0  0.315757        5097   6331.0  Nursing/Other  6/9/24 18:12   \n",
       "4       1  0.435921       23014  28601.0  Nursing/Other   5/1/08 9:51   \n",
       "\n",
       "        Category     Real.time  None  Obesity  Non.Adherence  \\\n",
       "0  Nursing/Other   7/9/33 1:22     1        0              0   \n",
       "1  Nursing/Other   7/9/33 1:22     1        0              0   \n",
       "2  Nursing/Other  6/9/24 18:29     0        0              0   \n",
       "3  Nursing/Other  6/9/24 18:29     0        0              0   \n",
       "4  Nursing/Other   5/1/08 9:57     1        0              0   \n",
       "\n",
       "   Developmental.Delay.Retardation  Advanced.Heart.Disease  \\\n",
       "0                                0                       0   \n",
       "1                                0                       0   \n",
       "2                                0                       0   \n",
       "3                                0                       0   \n",
       "4                                0                       0   \n",
       "\n",
       "   Advanced.Lung.Disease  Schizophrenia.and.other.Psychiatric.Disorders  \\\n",
       "0                      0                                              0   \n",
       "1                      0                                              0   \n",
       "2                      0                                              0   \n",
       "3                      1                                              1   \n",
       "4                      0                                              0   \n",
       "\n",
       "   Alcohol.Abuse  Other.Substance.Abuse  Chronic.Pain.Fibromyalgia  \\\n",
       "0              0                      0                          0   \n",
       "1              0                      0                          0   \n",
       "2              0                      0                          1   \n",
       "3              0                      0                          0   \n",
       "4              0                      0                          0   \n",
       "\n",
       "   Chronic.Neurological.Dystrophies  Advanced.Cancer  Depression  Dementia  \\\n",
       "0                                 0                0           0         0   \n",
       "1                                 0                0           0         0   \n",
       "2                                 1                0           0         0   \n",
       "3                                 0                0           0         0   \n",
       "4                                 0                0           0         0   \n",
       "\n",
       "   Unsure operator  \n",
       "0       0      ETM  \n",
       "1       0      JTW  \n",
       "2       1      JTW  \n",
       "3       1      ETM  \n",
       "4       0       JF  "
      ]
     },
     "metadata": {},
     "output_type": "display_data"
    },
    {
     "name": "stdout",
     "output_type": "stream",
     "text": [
      "\n",
      "MICU/SICU NURSING PROGRESS NOTE.\n",
      "     SEE CAREVIEW FOR OBJECTIVE DATA.\n",
      "     Neuro: Arouses with verbal stimuli, ms is variable and changes from a&o x 3 to a&o x 1 with moaning episodes, repetitive speach and repetative motions with rue.  Pupils are rt 4mm, lt 3mm and sluggish bilat.  Head ct completed and was negative.  Was given versed 1 mg during ct and pt became much more calm and was able to answer questions appropriatly. Reports able to feel in all 4 extrem., Partial movement of rt ue and lt ue.\n",
      "     Respiratory:  Lung sounds are coarse throughout, diminished in lt base.  RR 12-24 and non-labored except when having moaning episodes.  O2 saturation is 94-100% on 4l nc.  Cxr in ed showed persistent lll pneumonia and atelectasis in rt upper field.  Expectorating thick tan sputum in abundant amounts.\n",
      "     CV:  Sinus rythm, rate 70-98 with no ectopy noted.  Nbp 104- 134 systolic.  Good pulses all 4 extrem.  \n",
      "      GI/GU:  Abdomen si softly distended with + bs.  Pt is able to take regular meals, is full feed, but must be bolt upright.  Able to take meds with custard or jello.  No bm this shift but reports bm yesterday.  Foley catheter is 30fr placed at os facility, occn leaks around catheter.  Patetn and draing clear amber urine.  ? uti, leuks and  blood in ua.\n",
      "      Integument:  Multiple skin issues.  Stage 3 decubiti below lt glutael, rash on lt and rty gluteals extending down to just above knee joint, raised and pink area in rt lower abdomen, blister type area on rt upper thigh.  Lidocaine patches on mid thorax and lumbar spine.  \n",
      "       Plan:  Monitor respiratory status and tx pnuemonia with abx, Tx uti, Assess present pain control methods and find alteratives.  Obtain first step bed if to be pt here for any lenght of time.\n",
      "\n"
     ]
    }
   ],
   "source": [
    "display.display(nursing_notes.head(5))\n",
    "print(nursing_notes.loc[0,'text'])"
   ]
  },
  {
   "cell_type": "code",
   "execution_count": 30,
   "metadata": {
    "collapsed": false
   },
   "outputs": [
    {
     "data": {
      "text/html": [
       "<div>\n",
       "<table border=\"1\" class=\"dataframe\">\n",
       "  <thead>\n",
       "    <tr style=\"text-align: right;\">\n",
       "      <th></th>\n",
       "      <th>Hospital.Admission.ID</th>\n",
       "      <th>batch.id</th>\n",
       "      <th>subject_id</th>\n",
       "      <th>category</th>\n",
       "      <th>text</th>\n",
       "      <th>cohort</th>\n",
       "      <th>Subject.ID</th>\n",
       "      <th>ICU.ID</th>\n",
       "      <th>Note.Type</th>\n",
       "      <th>Chart.time</th>\n",
       "      <th>Category</th>\n",
       "      <th>Real.time</th>\n",
       "      <th>None</th>\n",
       "      <th>Obesity</th>\n",
       "      <th>Non.Adherence</th>\n",
       "      <th>Developmental.Delay.Retardation</th>\n",
       "      <th>Advanced.Heart.Disease</th>\n",
       "      <th>Advanced.Lung.Disease</th>\n",
       "      <th>Schizophrenia.and.other.Psychiatric.Disorders</th>\n",
       "      <th>Alcohol.Abuse</th>\n",
       "      <th>Other.Substance.Abuse</th>\n",
       "      <th>Chronic.Pain.Fibromyalgia</th>\n",
       "      <th>Chronic.Neurological.Dystrophies</th>\n",
       "      <th>Advanced.Cancer</th>\n",
       "      <th>Depression</th>\n",
       "      <th>Dementia</th>\n",
       "      <th>Unsure</th>\n",
       "      <th>operator</th>\n",
       "    </tr>\n",
       "  </thead>\n",
       "  <tbody>\n",
       "    <tr>\n",
       "      <th>0</th>\n",
       "      <td>100020</td>\n",
       "      <td>dis08apr16</td>\n",
       "      <td>9973</td>\n",
       "      <td>Discharge</td>\n",
       "      <td>\\r\\r\\r\\rAdmission Date:  [**2512-1-8**]              Discharge Date:   [**2512-1-18**]\\r\\rDate o...</td>\n",
       "      <td>1</td>\n",
       "      <td>9973</td>\n",
       "      <td>100020</td>\n",
       "      <td>Discharge</td>\n",
       "      <td>100020</td>\n",
       "      <td>Discharge</td>\n",
       "      <td>12/10/42 0:00</td>\n",
       "      <td>0</td>\n",
       "      <td>0</td>\n",
       "      <td>0</td>\n",
       "      <td>0</td>\n",
       "      <td>0</td>\n",
       "      <td>0</td>\n",
       "      <td>0</td>\n",
       "      <td>0</td>\n",
       "      <td>0</td>\n",
       "      <td>1</td>\n",
       "      <td>1</td>\n",
       "      <td>0</td>\n",
       "      <td>0</td>\n",
       "      <td>0</td>\n",
       "      <td>0</td>\n",
       "      <td>ETM</td>\n",
       "    </tr>\n",
       "    <tr>\n",
       "      <th>1</th>\n",
       "      <td>100020</td>\n",
       "      <td>dis08apr16</td>\n",
       "      <td>9973</td>\n",
       "      <td>Discharge</td>\n",
       "      <td>\\r\\r\\r\\rAdmission Date:  [**2512-1-8**]              Discharge Date:   [**2512-1-18**]\\r\\rDate o...</td>\n",
       "      <td>1</td>\n",
       "      <td>9973</td>\n",
       "      <td>100020</td>\n",
       "      <td>Discharge</td>\n",
       "      <td>100020</td>\n",
       "      <td>Discharge</td>\n",
       "      <td>12/10/42 0:00</td>\n",
       "      <td>0</td>\n",
       "      <td>0</td>\n",
       "      <td>0</td>\n",
       "      <td>0</td>\n",
       "      <td>0</td>\n",
       "      <td>0</td>\n",
       "      <td>0</td>\n",
       "      <td>0</td>\n",
       "      <td>0</td>\n",
       "      <td>1</td>\n",
       "      <td>1</td>\n",
       "      <td>0</td>\n",
       "      <td>0</td>\n",
       "      <td>0</td>\n",
       "      <td>0</td>\n",
       "      <td>JTW</td>\n",
       "    </tr>\n",
       "    <tr>\n",
       "      <th>2</th>\n",
       "      <td>100103</td>\n",
       "      <td>dis08apr16</td>\n",
       "      <td>3365</td>\n",
       "      <td>Discharge</td>\n",
       "      <td>\\r\\r\\rAdmission Date:  [**3006-11-24**]       Discharge Date:  [**3006-12-4**]\\r\\rDate of Birth:...</td>\n",
       "      <td>1</td>\n",
       "      <td>3365</td>\n",
       "      <td>100103</td>\n",
       "      <td>Discharge</td>\n",
       "      <td>100103</td>\n",
       "      <td>Discharge</td>\n",
       "      <td>12/23/79 0:00</td>\n",
       "      <td>1</td>\n",
       "      <td>0</td>\n",
       "      <td>0</td>\n",
       "      <td>0</td>\n",
       "      <td>0</td>\n",
       "      <td>0</td>\n",
       "      <td>0</td>\n",
       "      <td>0</td>\n",
       "      <td>0</td>\n",
       "      <td>0</td>\n",
       "      <td>0</td>\n",
       "      <td>0</td>\n",
       "      <td>0</td>\n",
       "      <td>0</td>\n",
       "      <td>0</td>\n",
       "      <td>ETM</td>\n",
       "    </tr>\n",
       "    <tr>\n",
       "      <th>3</th>\n",
       "      <td>100103</td>\n",
       "      <td>dis08apr16</td>\n",
       "      <td>3365</td>\n",
       "      <td>Discharge</td>\n",
       "      <td>\\r\\r\\rAdmission Date:  [**3006-11-24**]       Discharge Date:  [**3006-12-4**]\\r\\rDate of Birth:...</td>\n",
       "      <td>1</td>\n",
       "      <td>3365</td>\n",
       "      <td>100103</td>\n",
       "      <td>Discharge</td>\n",
       "      <td>100103</td>\n",
       "      <td>Discharge</td>\n",
       "      <td>12/23/79 0:00</td>\n",
       "      <td>1</td>\n",
       "      <td>0</td>\n",
       "      <td>0</td>\n",
       "      <td>0</td>\n",
       "      <td>0</td>\n",
       "      <td>0</td>\n",
       "      <td>0</td>\n",
       "      <td>0</td>\n",
       "      <td>0</td>\n",
       "      <td>0</td>\n",
       "      <td>0</td>\n",
       "      <td>0</td>\n",
       "      <td>0</td>\n",
       "      <td>0</td>\n",
       "      <td>0</td>\n",
       "      <td>JTW</td>\n",
       "    </tr>\n",
       "    <tr>\n",
       "      <th>4</th>\n",
       "      <td>100137</td>\n",
       "      <td>dis08apr16</td>\n",
       "      <td>27290</td>\n",
       "      <td>Discharge</td>\n",
       "      <td>\\r\\r\\r\\rAdmission Date:  [**2751-12-21**]              Discharge Date:   [**2751-12-29**]\\r\\rDat...</td>\n",
       "      <td>0</td>\n",
       "      <td>27290</td>\n",
       "      <td>100137</td>\n",
       "      <td>Discharge</td>\n",
       "      <td>100137</td>\n",
       "      <td>Discharge</td>\n",
       "      <td>1/19/15 0:00</td>\n",
       "      <td>1</td>\n",
       "      <td>0</td>\n",
       "      <td>0</td>\n",
       "      <td>0</td>\n",
       "      <td>0</td>\n",
       "      <td>0</td>\n",
       "      <td>0</td>\n",
       "      <td>0</td>\n",
       "      <td>0</td>\n",
       "      <td>0</td>\n",
       "      <td>0</td>\n",
       "      <td>0</td>\n",
       "      <td>0</td>\n",
       "      <td>0</td>\n",
       "      <td>0</td>\n",
       "      <td>JFF</td>\n",
       "    </tr>\n",
       "  </tbody>\n",
       "</table>\n",
       "</div>"
      ],
      "text/plain": [
       "   Hospital.Admission.ID    batch.id  subject_id   category  \\\n",
       "0                 100020  dis08apr16        9973  Discharge   \n",
       "1                 100020  dis08apr16        9973  Discharge   \n",
       "2                 100103  dis08apr16        3365  Discharge   \n",
       "3                 100103  dis08apr16        3365  Discharge   \n",
       "4                 100137  dis08apr16       27290  Discharge   \n",
       "\n",
       "                                                                                                  text  \\\n",
       "0  \\r\\r\\r\\rAdmission Date:  [**2512-1-8**]              Discharge Date:   [**2512-1-18**]\\r\\rDate o...   \n",
       "1  \\r\\r\\r\\rAdmission Date:  [**2512-1-8**]              Discharge Date:   [**2512-1-18**]\\r\\rDate o...   \n",
       "2  \\r\\r\\rAdmission Date:  [**3006-11-24**]       Discharge Date:  [**3006-12-4**]\\r\\rDate of Birth:...   \n",
       "3  \\r\\r\\rAdmission Date:  [**3006-11-24**]       Discharge Date:  [**3006-12-4**]\\r\\rDate of Birth:...   \n",
       "4  \\r\\r\\r\\rAdmission Date:  [**2751-12-21**]              Discharge Date:   [**2751-12-29**]\\r\\rDat...   \n",
       "\n",
       "   cohort  Subject.ID  ICU.ID  Note.Type Chart.time   Category      Real.time  \\\n",
       "0       1        9973  100020  Discharge     100020  Discharge  12/10/42 0:00   \n",
       "1       1        9973  100020  Discharge     100020  Discharge  12/10/42 0:00   \n",
       "2       1        3365  100103  Discharge     100103  Discharge  12/23/79 0:00   \n",
       "3       1        3365  100103  Discharge     100103  Discharge  12/23/79 0:00   \n",
       "4       0       27290  100137  Discharge     100137  Discharge   1/19/15 0:00   \n",
       "\n",
       "   None  Obesity  Non.Adherence  Developmental.Delay.Retardation  \\\n",
       "0     0        0              0                                0   \n",
       "1     0        0              0                                0   \n",
       "2     1        0              0                                0   \n",
       "3     1        0              0                                0   \n",
       "4     1        0              0                                0   \n",
       "\n",
       "   Advanced.Heart.Disease  Advanced.Lung.Disease  \\\n",
       "0                       0                      0   \n",
       "1                       0                      0   \n",
       "2                       0                      0   \n",
       "3                       0                      0   \n",
       "4                       0                      0   \n",
       "\n",
       "   Schizophrenia.and.other.Psychiatric.Disorders  Alcohol.Abuse  \\\n",
       "0                                              0              0   \n",
       "1                                              0              0   \n",
       "2                                              0              0   \n",
       "3                                              0              0   \n",
       "4                                              0              0   \n",
       "\n",
       "   Other.Substance.Abuse  Chronic.Pain.Fibromyalgia  \\\n",
       "0                      0                          1   \n",
       "1                      0                          1   \n",
       "2                      0                          0   \n",
       "3                      0                          0   \n",
       "4                      0                          0   \n",
       "\n",
       "   Chronic.Neurological.Dystrophies  Advanced.Cancer  Depression  Dementia  \\\n",
       "0                                 1                0           0         0   \n",
       "1                                 1                0           0         0   \n",
       "2                                 0                0           0         0   \n",
       "3                                 0                0           0         0   \n",
       "4                                 0                0           0         0   \n",
       "\n",
       "   Unsure operator  \n",
       "0       0      ETM  \n",
       "1       0      JTW  \n",
       "2       0      ETM  \n",
       "3       0      JTW  \n",
       "4       0      JFF  "
      ]
     },
     "metadata": {},
     "output_type": "display_data"
    },
    {
     "name": "stdout",
     "output_type": "stream",
     "text": [
      "\r",
      "\r",
      "\r",
      "\r",
      "Admission Date:  [**2512-1-8**]              Discharge Date:   [**2512-1-18**]\r",
      "\r",
      "Date of Birth:  [**2453-6-10**]             Sex:   M\r",
      "\r",
      "Service: MEDICINE\r",
      "\r",
      "Allergies:\r",
      "Percocet / Bactrim Ds / Lisinopril\r",
      "\r",
      "Attending:[**First Name3 (LF) 886**]\r",
      "Chief Complaint:\r",
      "hypotension\r",
      "\r",
      "Major Surgical or Invasive Procedure:\r",
      "none\r",
      "\r",
      "History of Present Illness:\r",
      "Mr. [**Known patient lastname 25575**] is a 58 yo m w/ multiple sclerosis and seizure\r",
      "disorder who presented to an OSH for delusions and AMS x 2 days.\r",
      "At OSH\n"
     ]
    }
   ],
   "source": [
    "display.display(disch_notes.head(5))\n",
    "print(disch_notes.loc[0,'text'][:500])"
   ]
  },
  {
   "cell_type": "markdown",
   "metadata": {},
   "source": [
    "# Gather those patient's data from the database and export"
   ]
  },
  {
   "cell_type": "markdown",
   "metadata": {},
   "source": [
    "From extracts above, see that nursing notes are from MIMIC II (indicated by dates, also from Slack discussion).  Discharge notes seem to be a combination, with chartdate in MIMIC III format, but MIMIC II dates in the notes themselves.\n",
    "\n",
    "Joy (via Slack):\n",
    "\n",
    "    When we first pulled the notes,  only MIMIC II was available. However, MIMIC II did not have very good notes pulled from the raw clinical data. In particular, lots of discharge notes were missing. Nursing notes were more decent so we started annotating the nursing notes first. Then we got Leo's people to pull discharge notes from MIMIC III for us when it became ready\n",
    "\n",
    "Approach:\n",
    "\n",
    "1. Extract list of all patients (`subject_id`) from notes files\n",
    "1. Extract those patients' note metadata: note id, text md5sum, dates, type, icustayid, hadm_id\n",
    "1. Extract those patients' icustayid info, including dates\n",
    "1. For each note in the notes file, try to match against a note in one of the databases\n",
    "1. Find the MIMIC III id data (subject_id, hadm_id, icustay_id, note_id)\n",
    "1. Output consistent file with annotations and MIMIC III metadata"
   ]
  },
  {
   "cell_type": "markdown",
   "metadata": {},
   "source": [
    "Create union of all subject IDs in either set:"
   ]
  },
  {
   "cell_type": "code",
   "execution_count": 28,
   "metadata": {
    "collapsed": false
   },
   "outputs": [
    {
     "data": {
      "text/plain": [
       "850"
      ]
     },
     "execution_count": 28,
     "metadata": {},
     "output_type": "execute_result"
    }
   ],
   "source": [
    "subject_ids = set(nursing_notes['subject_id']) | set(disch_notes['subject_id'])\n",
    "len(subject_ids)"
   ]
  },
  {
   "cell_type": "markdown",
   "metadata": {},
   "source": [
    "## Gather metadata from MIMIC II"
   ]
  },
  {
   "cell_type": "markdown",
   "metadata": {
    "collapsed": true
   },
   "source": [
    "Extract existing metadata, as well as information that can be used for matching:\n",
    "\n",
    "- md5 hash of original text - only useful if unchanged\n",
    "- text length, very rough matching\n",
    "- beginning and end of string, stripped of whitespace, template words (e.g. Admission Date), and de-id templates (e.g. [** <date> **])"
   ]
  },
  {
   "cell_type": "code",
   "execution_count": 29,
   "metadata": {
    "collapsed": true
   },
   "outputs": [],
   "source": [
    "query = \"\"\"\n",
    "select subject_id, hadm_id, icustay_id, realtime, charttime, category, \n",
    "    md5(text) as \"md5\", length(text) as \"length\", \n",
    "    left(strip_text, 50) as \"str_start\", \n",
    "    right(strip_text, 50) as \"str_end\"\n",
    "from (\n",
    "    select *, regexp_replace(text, '\\s|\\[\\*\\*[^\\*]+\\*\\*\\]|Admission Date|Discharge Date|Date of Birth', '', 'g') as strip_text\n",
    "    from mimic2v26.noteevents\n",
    "    where category in ('Nursing/Other', 'DISCHARGE_SUMMARY')\n",
    "    and subject_id in ({})\n",
    "    ) as a\n",
    "\"\"\""
   ]
  },
  {
   "cell_type": "code",
   "execution_count": 30,
   "metadata": {
    "collapsed": false
   },
   "outputs": [],
   "source": [
    "m2_notes_meta = pd.read_sql(query.format(','.join([str(sid) for sid in subject_ids])), engine2)"
   ]
  },
  {
   "cell_type": "code",
   "execution_count": 31,
   "metadata": {
    "collapsed": true
   },
   "outputs": [],
   "source": [
    "m2_notes_meta.loc[m2_notes_meta['category'] == 'Nursing/Other','category'] = \\\n",
    "  'Nursing/other'\n",
    "m2_notes_meta.loc[m2_notes_meta['category'] == 'DISCHARGE_SUMMARY','category'] = \\\n",
    "  'Discharge summary'    "
   ]
  },
  {
   "cell_type": "code",
   "execution_count": 32,
   "metadata": {
    "collapsed": false
   },
   "outputs": [
    {
     "data": {
      "text/html": [
       "<div>\n",
       "<table border=\"1\" class=\"dataframe\">\n",
       "  <thead>\n",
       "    <tr style=\"text-align: right;\">\n",
       "      <th></th>\n",
       "      <th>subject_id</th>\n",
       "      <th>hadm_id</th>\n",
       "      <th>icustay_id</th>\n",
       "      <th>realtime</th>\n",
       "      <th>charttime</th>\n",
       "      <th>category</th>\n",
       "      <th>md5</th>\n",
       "      <th>length</th>\n",
       "      <th>str_start</th>\n",
       "      <th>str_end</th>\n",
       "    </tr>\n",
       "  </thead>\n",
       "  <tbody>\n",
       "    <tr>\n",
       "      <th>0</th>\n",
       "      <td>68</td>\n",
       "      <td>26139.0</td>\n",
       "      <td>80.0</td>\n",
       "      <td>2729-01-10 17:27:00</td>\n",
       "      <td>2729-01-10 17:15:00</td>\n",
       "      <td>Nursing/other</td>\n",
       "      <td>96be337b87d1cb0d5b75f4a78d3ea086</td>\n",
       "      <td>743</td>\n",
       "      <td>MICUnpn0700-1900EVENTS:CRRTd/cat11:00,familymeetin</td>\n",
       "      <td>N:contsupportivecare,DNR/DNI,followlytes,cr,ph,I/O</td>\n",
       "    </tr>\n",
       "    <tr>\n",
       "      <th>1</th>\n",
       "      <td>68</td>\n",
       "      <td>26139.0</td>\n",
       "      <td>80.0</td>\n",
       "      <td>2729-01-10 17:47:00</td>\n",
       "      <td>2729-01-10 17:44:00</td>\n",
       "      <td>Nursing/other</td>\n",
       "      <td>c292663acd8a7f0588c0d1d3540e7972</td>\n",
       "      <td>201</td>\n",
       "      <td>RespiratorytherapistPatientawakeandalertfullycoope</td>\n",
       "      <td>kygreen,isonaerosolsetup,nebtxgivenviaaerosolmask.</td>\n",
       "    </tr>\n",
       "    <tr>\n",
       "      <th>2</th>\n",
       "      <td>68</td>\n",
       "      <td>26139.0</td>\n",
       "      <td>80.0</td>\n",
       "      <td>2729-01-05 18:41:00</td>\n",
       "      <td>2729-01-05 18:38:00</td>\n",
       "      <td>Nursing/other</td>\n",
       "      <td>6a4f1cba58521271a70c5bcab0731f83</td>\n",
       "      <td>308</td>\n",
       "      <td>focus;addendumtoabovenoteACID/BASE-PATIENTGIVEN1AM</td>\n",
       "      <td>T.PATIENTUNABLETORAISESPUTUMSPEC.CUPLEFTATBEDSIDE.</td>\n",
       "    </tr>\n",
       "    <tr>\n",
       "      <th>3</th>\n",
       "      <td>68</td>\n",
       "      <td>20075.0</td>\n",
       "      <td>NaN</td>\n",
       "      <td>None</td>\n",
       "      <td>2728-08-06 00:00:00</td>\n",
       "      <td>Discharge summary</td>\n",
       "      <td>c3d30dddf890e3e0df9e55f002282c71</td>\n",
       "      <td>12695</td>\n",
       "      <td>:::Sex:FService:MEDICINEAllergies:Nevirapine/Abaca</td>\n",
       "      <td>gnedelectronicallyby:DR.on:FRI12:26PM(EndofReport)</td>\n",
       "    </tr>\n",
       "    <tr>\n",
       "      <th>4</th>\n",
       "      <td>68</td>\n",
       "      <td>17608.0</td>\n",
       "      <td>78.0</td>\n",
       "      <td>2728-12-13 17:08:00</td>\n",
       "      <td>2728-12-13 16:51:00</td>\n",
       "      <td>Nursing/other</td>\n",
       "      <td>27572b36bd4c26c322f50cf65d095d16</td>\n",
       "      <td>1666</td>\n",
       "      <td>NSG0700-1900Events:Attemptedeatingbreakfastbutbeca</td>\n",
       "      <td>ine..?doubleorsinglelumen.Continuetomonitoroutput.</td>\n",
       "    </tr>\n",
       "  </tbody>\n",
       "</table>\n",
       "</div>"
      ],
      "text/plain": [
       "   subject_id  hadm_id  icustay_id             realtime            charttime  \\\n",
       "0          68  26139.0        80.0  2729-01-10 17:27:00  2729-01-10 17:15:00   \n",
       "1          68  26139.0        80.0  2729-01-10 17:47:00  2729-01-10 17:44:00   \n",
       "2          68  26139.0        80.0  2729-01-05 18:41:00  2729-01-05 18:38:00   \n",
       "3          68  20075.0         NaN                 None  2728-08-06 00:00:00   \n",
       "4          68  17608.0        78.0  2728-12-13 17:08:00  2728-12-13 16:51:00   \n",
       "\n",
       "            category                               md5  length  \\\n",
       "0      Nursing/other  96be337b87d1cb0d5b75f4a78d3ea086     743   \n",
       "1      Nursing/other  c292663acd8a7f0588c0d1d3540e7972     201   \n",
       "2      Nursing/other  6a4f1cba58521271a70c5bcab0731f83     308   \n",
       "3  Discharge summary  c3d30dddf890e3e0df9e55f002282c71   12695   \n",
       "4      Nursing/other  27572b36bd4c26c322f50cf65d095d16    1666   \n",
       "\n",
       "                                            str_start  \\\n",
       "0  MICUnpn0700-1900EVENTS:CRRTd/cat11:00,familymeetin   \n",
       "1  RespiratorytherapistPatientawakeandalertfullycoope   \n",
       "2  focus;addendumtoabovenoteACID/BASE-PATIENTGIVEN1AM   \n",
       "3  :::Sex:FService:MEDICINEAllergies:Nevirapine/Abaca   \n",
       "4  NSG0700-1900Events:Attemptedeatingbreakfastbutbeca   \n",
       "\n",
       "                                              str_end  \n",
       "0  N:contsupportivecare,DNR/DNI,followlytes,cr,ph,I/O  \n",
       "1  kygreen,isonaerosolsetup,nebtxgivenviaaerosolmask.  \n",
       "2  T.PATIENTUNABLETORAISESPUTUMSPEC.CUPLEFTATBEDSIDE.  \n",
       "3  gnedelectronicallyby:DR.on:FRI12:26PM(EndofReport)  \n",
       "4  ine..?doubleorsinglelumen.Continuetomonitoroutput.  "
      ]
     },
     "execution_count": 32,
     "metadata": {},
     "output_type": "execute_result"
    }
   ],
   "source": [
    "m2_notes_meta.head(5)"
   ]
  },
  {
   "cell_type": "markdown",
   "metadata": {},
   "source": [
    "## Gather metadata from MIMIC III"
   ]
  },
  {
   "cell_type": "code",
   "execution_count": 33,
   "metadata": {
    "collapsed": true
   },
   "outputs": [],
   "source": [
    "query = \"\"\"\n",
    "select row_id, subject_id, hadm_id, chartdate, charttime, storetime, category,\n",
    "    md5(text) as \"md5\", length(text) as \"length\", \n",
    "    left(strip_text, 50) as \"str_start\", \n",
    "    right(strip_text, 50) as \"str_end\"\n",
    "from (\n",
    "    select *, regexp_replace(text, '\\s|\\[\\*\\*[^\\*]+\\*\\*\\]|Admission Date|Discharge Date|Date of Birth', '', 'g') as strip_text\n",
    "    from mimiciii.noteevents\n",
    "    where category in ('Nursing/other', 'Discharge summary')\n",
    "    and subject_id in ({})\n",
    "    ) as a\n",
    "\"\"\""
   ]
  },
  {
   "cell_type": "code",
   "execution_count": 34,
   "metadata": {
    "collapsed": false
   },
   "outputs": [],
   "source": [
    "m3_notes_meta = pd.read_sql(query.format(','.join([str(sid) for sid in subject_ids])), engine3)"
   ]
  },
  {
   "cell_type": "code",
   "execution_count": 35,
   "metadata": {
    "collapsed": false
   },
   "outputs": [
    {
     "data": {
      "text/html": [
       "<div>\n",
       "<table border=\"1\" class=\"dataframe\">\n",
       "  <thead>\n",
       "    <tr style=\"text-align: right;\">\n",
       "      <th></th>\n",
       "      <th>row_id</th>\n",
       "      <th>subject_id</th>\n",
       "      <th>hadm_id</th>\n",
       "      <th>chartdate</th>\n",
       "      <th>charttime</th>\n",
       "      <th>storetime</th>\n",
       "      <th>category</th>\n",
       "      <th>md5</th>\n",
       "      <th>length</th>\n",
       "      <th>str_start</th>\n",
       "      <th>str_end</th>\n",
       "    </tr>\n",
       "  </thead>\n",
       "  <tbody>\n",
       "    <tr>\n",
       "      <th>0</th>\n",
       "      <td>206</td>\n",
       "      <td>5239</td>\n",
       "      <td>129387.0</td>\n",
       "      <td>2189-02-25</td>\n",
       "      <td>None</td>\n",
       "      <td>None</td>\n",
       "      <td>Discharge summary</td>\n",
       "      <td>5270bc4c100a7596abe47a8a35fb7b2b</td>\n",
       "      <td>11294</td>\n",
       "      <td>::Service:CCUHISTORYOFPRESENTILLNESS:Thepatientisa</td>\n",
       "      <td>DR.,12-462DictatedBy:MEDQUIST36D:01:50T:01:55JOB#:</td>\n",
       "    </tr>\n",
       "    <tr>\n",
       "      <th>1</th>\n",
       "      <td>207</td>\n",
       "      <td>5239</td>\n",
       "      <td>129387.0</td>\n",
       "      <td>2189-02-26</td>\n",
       "      <td>None</td>\n",
       "      <td>None</td>\n",
       "      <td>Discharge summary</td>\n",
       "      <td>3ee0b8238f19cbf2542d030fb832bdd9</td>\n",
       "      <td>6622</td>\n",
       "      <td>::Service:CCUPleasenotethatthisintervaldictationta</td>\n",
       "      <td>able.,M.D.DictatedBy:MEDQUIST36D:02:31T:02:38JOB#:</td>\n",
       "    </tr>\n",
       "    <tr>\n",
       "      <th>2</th>\n",
       "      <td>208</td>\n",
       "      <td>5239</td>\n",
       "      <td>125055.0</td>\n",
       "      <td>2189-03-25</td>\n",
       "      <td>None</td>\n",
       "      <td>None</td>\n",
       "      <td>Discharge summary</td>\n",
       "      <td>84ac577c59d21102c57e30c24bc9ac59</td>\n",
       "      <td>11012</td>\n",
       "      <td>::Service:CCUHISTORYOFPRESENTILLNESS:Thepatientisa</td>\n",
       "      <td>DR.,12-953DictatedBy:MEDQUIST36D:14:52T:15:19JOB#:</td>\n",
       "    </tr>\n",
       "    <tr>\n",
       "      <th>3</th>\n",
       "      <td>209</td>\n",
       "      <td>5239</td>\n",
       "      <td>125055.0</td>\n",
       "      <td>2189-03-27</td>\n",
       "      <td>None</td>\n",
       "      <td>None</td>\n",
       "      <td>Discharge summary</td>\n",
       "      <td>97b65f9c91ec1c9484eae1fb59c9f83a</td>\n",
       "      <td>1533</td>\n",
       "      <td>::Service:CCUADDENDUM:DISCHARGEMEDICATIONS:1.Enala</td>\n",
       "      <td>12.953DictatedBy:MEDQUIST36D:13:26T:13:45JOB#:111R</td>\n",
       "    </tr>\n",
       "    <tr>\n",
       "      <th>4</th>\n",
       "      <td>13</td>\n",
       "      <td>15472</td>\n",
       "      <td>169182.0</td>\n",
       "      <td>2175-07-29</td>\n",
       "      <td>None</td>\n",
       "      <td>None</td>\n",
       "      <td>Discharge summary</td>\n",
       "      <td>06da02c60a769cd6dbc20cf0456553e7</td>\n",
       "      <td>8715</td>\n",
       "      <td>:::Sex:MService:HISTORYOFPRESENTILLNESS:Thisisa61-</td>\n",
       "      <td>o2.5.,M.D.DictatedBy:MEDQUIST36D:11:01T:12:51JOB#:</td>\n",
       "    </tr>\n",
       "  </tbody>\n",
       "</table>\n",
       "</div>"
      ],
      "text/plain": [
       "   row_id  subject_id   hadm_id  chartdate charttime storetime  \\\n",
       "0     206        5239  129387.0 2189-02-25      None      None   \n",
       "1     207        5239  129387.0 2189-02-26      None      None   \n",
       "2     208        5239  125055.0 2189-03-25      None      None   \n",
       "3     209        5239  125055.0 2189-03-27      None      None   \n",
       "4      13       15472  169182.0 2175-07-29      None      None   \n",
       "\n",
       "            category                               md5  length  \\\n",
       "0  Discharge summary  5270bc4c100a7596abe47a8a35fb7b2b   11294   \n",
       "1  Discharge summary  3ee0b8238f19cbf2542d030fb832bdd9    6622   \n",
       "2  Discharge summary  84ac577c59d21102c57e30c24bc9ac59   11012   \n",
       "3  Discharge summary  97b65f9c91ec1c9484eae1fb59c9f83a    1533   \n",
       "4  Discharge summary  06da02c60a769cd6dbc20cf0456553e7    8715   \n",
       "\n",
       "                                            str_start  \\\n",
       "0  ::Service:CCUHISTORYOFPRESENTILLNESS:Thepatientisa   \n",
       "1  ::Service:CCUPleasenotethatthisintervaldictationta   \n",
       "2  ::Service:CCUHISTORYOFPRESENTILLNESS:Thepatientisa   \n",
       "3  ::Service:CCUADDENDUM:DISCHARGEMEDICATIONS:1.Enala   \n",
       "4  :::Sex:MService:HISTORYOFPRESENTILLNESS:Thisisa61-   \n",
       "\n",
       "                                              str_end  \n",
       "0  DR.,12-462DictatedBy:MEDQUIST36D:01:50T:01:55JOB#:  \n",
       "1  able.,M.D.DictatedBy:MEDQUIST36D:02:31T:02:38JOB#:  \n",
       "2  DR.,12-953DictatedBy:MEDQUIST36D:14:52T:15:19JOB#:  \n",
       "3  12.953DictatedBy:MEDQUIST36D:13:26T:13:45JOB#:111R  \n",
       "4  o2.5.,M.D.DictatedBy:MEDQUIST36D:11:01T:12:51JOB#:  "
      ]
     },
     "execution_count": 35,
     "metadata": {},
     "output_type": "execute_result"
    }
   ],
   "source": [
    "m3_notes_meta.head(5)"
   ]
  },
  {
   "cell_type": "markdown",
   "metadata": {},
   "source": [
    "## Try to match to notes files"
   ]
  },
  {
   "cell_type": "markdown",
   "metadata": {},
   "source": [
    "Add hash column"
   ]
  },
  {
   "cell_type": "code",
   "execution_count": 36,
   "metadata": {
    "collapsed": false
   },
   "outputs": [],
   "source": [
    "disch_notes['md5'] = disch_notes['text'].apply(lambda x: hashlib.md5(x.encode('utf-8')).hexdigest())\n",
    "disch_notes['length'] = disch_notes['text'].apply(len)\n",
    "disch_notes['str_start'] = disch_notes['text'].apply(lambda x: meu.clean_text(x)[:50])\n",
    "disch_notes['str_end'] = disch_notes['text'].apply(lambda x: meu.clean_text(x)[-50:])\n",
    "nursing_notes['md5'] = nursing_notes['text'].apply(lambda x: hashlib.md5(x.encode('utf-8')).hexdigest())\n",
    "nursing_notes['length'] = nursing_notes['text'].apply(len)\n",
    "nursing_notes['str_start'] = nursing_notes['text'].apply(lambda x: meu.clean_text(x)[:50])\n",
    "nursing_notes['str_end'] = nursing_notes['text'].apply(lambda x: meu.clean_text(x)[-50:])"
   ]
  },
  {
   "cell_type": "markdown",
   "metadata": {},
   "source": [
    "Verify unique notes present in annotation output"
   ]
  },
  {
   "cell_type": "code",
   "execution_count": 37,
   "metadata": {
    "collapsed": false
   },
   "outputs": [
    {
     "data": {
      "text/plain": [
       "False"
      ]
     },
     "execution_count": 37,
     "metadata": {},
     "output_type": "execute_result"
    }
   ],
   "source": [
    "len(set(disch_notes['md5'])) == len(disch_notes['md5'])"
   ]
  },
  {
   "cell_type": "code",
   "execution_count": 38,
   "metadata": {
    "collapsed": false
   },
   "outputs": [
    {
     "data": {
      "text/plain": [
       "False"
      ]
     },
     "execution_count": 38,
     "metadata": {},
     "output_type": "execute_result"
    }
   ],
   "source": [
    "len(nursing_notes['md5']) == len(set(nursing_notes['md5']))"
   ]
  },
  {
   "cell_type": "markdown",
   "metadata": {},
   "source": [
    "Notes files Wouldn't be unique because multiple annotators, that's ok"
   ]
  },
  {
   "cell_type": "markdown",
   "metadata": {},
   "source": [
    "Verify database also had unique notes"
   ]
  },
  {
   "cell_type": "code",
   "execution_count": 39,
   "metadata": {
    "collapsed": false
   },
   "outputs": [
    {
     "data": {
      "text/plain": [
       "False"
      ]
     },
     "execution_count": 39,
     "metadata": {},
     "output_type": "execute_result"
    }
   ],
   "source": [
    "len(m2_notes_meta['md5']) == len(set(m2_notes_meta['md5']))"
   ]
  },
  {
   "cell_type": "code",
   "execution_count": 40,
   "metadata": {
    "collapsed": false
   },
   "outputs": [
    {
     "data": {
      "text/plain": [
       "False"
      ]
     },
     "execution_count": 40,
     "metadata": {},
     "output_type": "execute_result"
    }
   ],
   "source": [
    "len(m3_notes_meta['md5']) == len(set(m3_notes_meta['md5']))"
   ]
  },
  {
   "cell_type": "code",
   "execution_count": 41,
   "metadata": {
    "collapsed": false
   },
   "outputs": [
    {
     "data": {
      "text/plain": [
       "44877"
      ]
     },
     "execution_count": 41,
     "metadata": {},
     "output_type": "execute_result"
    }
   ],
   "source": [
    "len(m2_notes_meta['md5'])"
   ]
  },
  {
   "cell_type": "code",
   "execution_count": 42,
   "metadata": {
    "collapsed": false
   },
   "outputs": [
    {
     "data": {
      "text/plain": [
       "44668"
      ]
     },
     "execution_count": 42,
     "metadata": {},
     "output_type": "execute_result"
    }
   ],
   "source": [
    "len(set(m2_notes_meta['md5']))"
   ]
  },
  {
   "cell_type": "markdown",
   "metadata": {},
   "source": [
    "We see that there are duplicate entries, inspect..."
   ]
  },
  {
   "cell_type": "code",
   "execution_count": 43,
   "metadata": {
    "collapsed": false
   },
   "outputs": [],
   "source": [
    "g2 = m2_notes_meta.groupby('md5')\n",
    "res = g2['length'].agg(['count', 'max', 'min']).sort_values('count', ascending=False).head(10)"
   ]
  },
  {
   "cell_type": "code",
   "execution_count": 44,
   "metadata": {
    "collapsed": false
   },
   "outputs": [
    {
     "data": {
      "text/html": [
       "<div>\n",
       "<table border=\"1\" class=\"dataframe\">\n",
       "  <thead>\n",
       "    <tr style=\"text-align: right;\">\n",
       "      <th></th>\n",
       "      <th>count</th>\n",
       "      <th>max</th>\n",
       "      <th>min</th>\n",
       "    </tr>\n",
       "    <tr>\n",
       "      <th>md5</th>\n",
       "      <th></th>\n",
       "      <th></th>\n",
       "      <th></th>\n",
       "    </tr>\n",
       "  </thead>\n",
       "  <tbody>\n",
       "    <tr>\n",
       "      <th>e1c06d85ae7b8b032bef47e42e4c08f9</th>\n",
       "      <td>24</td>\n",
       "      <td>2</td>\n",
       "      <td>2</td>\n",
       "    </tr>\n",
       "    <tr>\n",
       "      <th>e7ffa42fc2f47fd0e3eb1bc54283375e</th>\n",
       "      <td>11</td>\n",
       "      <td>111</td>\n",
       "      <td>111</td>\n",
       "    </tr>\n",
       "    <tr>\n",
       "      <th>911c1ca19932190220e77e42d5195265</th>\n",
       "      <td>10</td>\n",
       "      <td>90</td>\n",
       "      <td>90</td>\n",
       "    </tr>\n",
       "    <tr>\n",
       "      <th>a7affdb1bc220e7f415d87957a4982ae</th>\n",
       "      <td>8</td>\n",
       "      <td>88</td>\n",
       "      <td>88</td>\n",
       "    </tr>\n",
       "    <tr>\n",
       "      <th>6ebc51b75c7f15aff9040dbee1ea19e8</th>\n",
       "      <td>7</td>\n",
       "      <td>114</td>\n",
       "      <td>114</td>\n",
       "    </tr>\n",
       "  </tbody>\n",
       "</table>\n",
       "</div>"
      ],
      "text/plain": [
       "                                  count  max  min\n",
       "md5                                              \n",
       "e1c06d85ae7b8b032bef47e42e4c08f9     24    2    2\n",
       "e7ffa42fc2f47fd0e3eb1bc54283375e     11  111  111\n",
       "911c1ca19932190220e77e42d5195265     10   90   90\n",
       "a7affdb1bc220e7f415d87957a4982ae      8   88   88\n",
       "6ebc51b75c7f15aff9040dbee1ea19e8      7  114  114"
      ]
     },
     "execution_count": 44,
     "metadata": {},
     "output_type": "execute_result"
    }
   ],
   "source": [
    "res.head()"
   ]
  },
  {
   "cell_type": "markdown",
   "metadata": {},
   "source": [
    "The most common repeat is only length 2, what is it?"
   ]
  },
  {
   "cell_type": "code",
   "execution_count": 45,
   "metadata": {
    "collapsed": false
   },
   "outputs": [
    {
     "data": {
      "text/html": [
       "<div>\n",
       "<table border=\"1\" class=\"dataframe\">\n",
       "  <thead>\n",
       "    <tr style=\"text-align: right;\">\n",
       "      <th></th>\n",
       "      <th>subject_id</th>\n",
       "      <th>hadm_id</th>\n",
       "      <th>icustay_id</th>\n",
       "      <th>realtime</th>\n",
       "      <th>charttime</th>\n",
       "      <th>category</th>\n",
       "      <th>md5</th>\n",
       "      <th>length</th>\n",
       "      <th>str_start</th>\n",
       "      <th>str_end</th>\n",
       "    </tr>\n",
       "  </thead>\n",
       "  <tbody>\n",
       "    <tr>\n",
       "      <th>122</th>\n",
       "      <td>154</td>\n",
       "      <td>18251.0</td>\n",
       "      <td>NaN</td>\n",
       "      <td>None</td>\n",
       "      <td>2515-11-20 00:00:00</td>\n",
       "      <td>Discharge summary</td>\n",
       "      <td>e1c06d85ae7b8b032bef47e42e4c08f9</td>\n",
       "      <td>2</td>\n",
       "      <td></td>\n",
       "      <td></td>\n",
       "    </tr>\n",
       "    <tr>\n",
       "      <th>3089</th>\n",
       "      <td>1883</td>\n",
       "      <td>5991.0</td>\n",
       "      <td>NaN</td>\n",
       "      <td>None</td>\n",
       "      <td>3074-02-01 00:00:00</td>\n",
       "      <td>Discharge summary</td>\n",
       "      <td>e1c06d85ae7b8b032bef47e42e4c08f9</td>\n",
       "      <td>2</td>\n",
       "      <td></td>\n",
       "      <td></td>\n",
       "    </tr>\n",
       "  </tbody>\n",
       "</table>\n",
       "</div>"
      ],
      "text/plain": [
       "      subject_id  hadm_id  icustay_id realtime            charttime  \\\n",
       "122          154  18251.0         NaN     None  2515-11-20 00:00:00   \n",
       "3089        1883   5991.0         NaN     None  3074-02-01 00:00:00   \n",
       "\n",
       "               category                               md5  length str_start  \\\n",
       "122   Discharge summary  e1c06d85ae7b8b032bef47e42e4c08f9       2             \n",
       "3089  Discharge summary  e1c06d85ae7b8b032bef47e42e4c08f9       2             \n",
       "\n",
       "     str_end  \n",
       "122           \n",
       "3089          "
      ]
     },
     "execution_count": 45,
     "metadata": {},
     "output_type": "execute_result"
    }
   ],
   "source": [
    "repeat_rows = m2_notes_meta.loc[m2_notes_meta['md5'] == 'e1c06d85ae7b8b032bef47e42e4c08f9']\n",
    "repeat_rows.head(2)"
   ]
  },
  {
   "cell_type": "code",
   "execution_count": 46,
   "metadata": {
    "collapsed": false
   },
   "outputs": [
    {
     "data": {
      "text/plain": [
       "[('\\n\\n',)]"
      ]
     },
     "execution_count": 46,
     "metadata": {},
     "output_type": "execute_result"
    }
   ],
   "source": [
    "conn2.execute(\"select text from mimic2v26.noteevents where subject_id=154 and category='DISCHARGE_SUMMARY'\").fetchall()"
   ]
  },
  {
   "cell_type": "markdown",
   "metadata": {},
   "source": [
    "Just empty (2 new lines).  What about the next most common?"
   ]
  },
  {
   "cell_type": "code",
   "execution_count": 47,
   "metadata": {
    "collapsed": false
   },
   "outputs": [
    {
     "data": {
      "text/html": [
       "<div>\n",
       "<table border=\"1\" class=\"dataframe\">\n",
       "  <thead>\n",
       "    <tr style=\"text-align: right;\">\n",
       "      <th></th>\n",
       "      <th>subject_id</th>\n",
       "      <th>hadm_id</th>\n",
       "      <th>icustay_id</th>\n",
       "      <th>realtime</th>\n",
       "      <th>charttime</th>\n",
       "      <th>category</th>\n",
       "      <th>md5</th>\n",
       "      <th>length</th>\n",
       "      <th>str_start</th>\n",
       "      <th>str_end</th>\n",
       "    </tr>\n",
       "  </thead>\n",
       "  <tbody>\n",
       "    <tr>\n",
       "      <th>4704</th>\n",
       "      <td>2905</td>\n",
       "      <td>25976.0</td>\n",
       "      <td>3599.0</td>\n",
       "      <td>2710-05-16 14:48:00</td>\n",
       "      <td>2710-05-16 14:47:00</td>\n",
       "      <td>Nursing/other</td>\n",
       "      <td>e7ffa42fc2f47fd0e3eb1bc54283375e</td>\n",
       "      <td>111</td>\n",
       "      <td>respiratorycareptontheventchangesmadetolwell.seere</td>\n",
       "      <td>ell.seerespiratorypageofcarevueformoreinformation.</td>\n",
       "    </tr>\n",
       "    <tr>\n",
       "      <th>4713</th>\n",
       "      <td>2905</td>\n",
       "      <td>25976.0</td>\n",
       "      <td>3599.0</td>\n",
       "      <td>2710-05-18 14:54:00</td>\n",
       "      <td>2710-05-18 14:53:00</td>\n",
       "      <td>Nursing/other</td>\n",
       "      <td>e7ffa42fc2f47fd0e3eb1bc54283375e</td>\n",
       "      <td>111</td>\n",
       "      <td>respiratorycareptontheventchangesmadetolwell.seere</td>\n",
       "      <td>ell.seerespiratorypageofcarevueformoreinformation.</td>\n",
       "    </tr>\n",
       "  </tbody>\n",
       "</table>\n",
       "</div>"
      ],
      "text/plain": [
       "      subject_id  hadm_id  icustay_id             realtime  \\\n",
       "4704        2905  25976.0      3599.0  2710-05-16 14:48:00   \n",
       "4713        2905  25976.0      3599.0  2710-05-18 14:54:00   \n",
       "\n",
       "                charttime       category                               md5  \\\n",
       "4704  2710-05-16 14:47:00  Nursing/other  e7ffa42fc2f47fd0e3eb1bc54283375e   \n",
       "4713  2710-05-18 14:53:00  Nursing/other  e7ffa42fc2f47fd0e3eb1bc54283375e   \n",
       "\n",
       "      length                                           str_start  \\\n",
       "4704     111  respiratorycareptontheventchangesmadetolwell.seere   \n",
       "4713     111  respiratorycareptontheventchangesmadetolwell.seere   \n",
       "\n",
       "                                                 str_end  \n",
       "4704  ell.seerespiratorypageofcarevueformoreinformation.  \n",
       "4713  ell.seerespiratorypageofcarevueformoreinformation.  "
      ]
     },
     "execution_count": 47,
     "metadata": {},
     "output_type": "execute_result"
    }
   ],
   "source": [
    "repeat_rows = m2_notes_meta.loc[m2_notes_meta['md5'] == 'e7ffa42fc2f47fd0e3eb1bc54283375e']\n",
    "repeat_rows.head(2)"
   ]
  },
  {
   "cell_type": "code",
   "execution_count": 48,
   "metadata": {
    "collapsed": false
   },
   "outputs": [
    {
     "data": {
      "text/plain": [
       "[('\\nrespiratory care\\npt on the vent changes made tol well.  see respiratory page of carevue for more information.\\n',),\n",
       " ('\\nrespiratory care\\npt on the vent changes made tol well.  see respiratory page of carevue for more information.\\n',)]"
      ]
     },
     "execution_count": 48,
     "metadata": {},
     "output_type": "execute_result"
    }
   ],
   "source": [
    "conn2.execute(\"select text from mimic2v26.noteevents where subject_id=2905 and md5(text)='e7ffa42fc2f47fd0e3eb1bc54283375e'\").fetchall()"
   ]
  },
  {
   "cell_type": "markdown",
   "metadata": {},
   "source": [
    "Un-informative repeated data."
   ]
  },
  {
   "cell_type": "code",
   "execution_count": 49,
   "metadata": {
    "collapsed": false
   },
   "outputs": [],
   "source": [
    "dat = [(r['subject_id'], r['md5']) for (ind, r) in m2_notes_meta.loc[:, ['subject_id', 'md5']].iterrows()]"
   ]
  },
  {
   "cell_type": "code",
   "execution_count": 50,
   "metadata": {
    "collapsed": false
   },
   "outputs": [
    {
     "data": {
      "text/plain": [
       "44877"
      ]
     },
     "execution_count": 50,
     "metadata": {},
     "output_type": "execute_result"
    }
   ],
   "source": [
    "len(dat)"
   ]
  },
  {
   "cell_type": "code",
   "execution_count": 51,
   "metadata": {
    "collapsed": false
   },
   "outputs": [
    {
     "data": {
      "text/plain": [
       "44732"
      ]
     },
     "execution_count": 51,
     "metadata": {},
     "output_type": "execute_result"
    }
   ],
   "source": [
    "len(set(dat))"
   ]
  },
  {
   "cell_type": "markdown",
   "metadata": {},
   "source": [
    "Even including subject_id has repeats.  Based on these, we should be able to left join the database data onto the file data, but there could be repeated rows which may confuse analysis.  To guarantee no duplicated rows we'll join including subject id, and also drop duplicates in the database dataframes."
   ]
  },
  {
   "cell_type": "code",
   "execution_count": 52,
   "metadata": {
    "collapsed": false
   },
   "outputs": [
    {
     "name": "stdout",
     "output_type": "stream",
     "text": [
      "(44877, 10)\n",
      "(44732, 10)\n"
     ]
    }
   ],
   "source": [
    "print(m2_notes_meta.shape)\n",
    "m2_notes_meta.drop_duplicates(['subject_id', 'md5'], inplace=True)\n",
    "print(m2_notes_meta.shape)"
   ]
  },
  {
   "cell_type": "code",
   "execution_count": 53,
   "metadata": {
    "collapsed": false
   },
   "outputs": [
    {
     "name": "stdout",
     "output_type": "stream",
     "text": [
      "(47843, 11)\n",
      "(47693, 11)\n"
     ]
    }
   ],
   "source": [
    "print(m3_notes_meta.shape)\n",
    "m3_notes_meta.drop_duplicates(['subject_id', 'md5'], inplace=True)\n",
    "print(m3_notes_meta.shape)"
   ]
  },
  {
   "cell_type": "code",
   "execution_count": 54,
   "metadata": {
    "collapsed": false
   },
   "outputs": [
    {
     "data": {
      "text/html": [
       "<div>\n",
       "<table border=\"1\" class=\"dataframe\">\n",
       "  <thead>\n",
       "    <tr style=\"text-align: right;\">\n",
       "      <th></th>\n",
       "      <th>subject_id</th>\n",
       "      <th>icustay_id</th>\n",
       "      <th>charttime</th>\n",
       "      <th>md5</th>\n",
       "    </tr>\n",
       "  </thead>\n",
       "  <tbody>\n",
       "    <tr>\n",
       "      <th>0</th>\n",
       "      <td>24807</td>\n",
       "      <td>30800.0</td>\n",
       "      <td>3033-07-09 00:56:00</td>\n",
       "      <td>dd77b97f8b5da793773ceb4c56f32753</td>\n",
       "    </tr>\n",
       "    <tr>\n",
       "      <th>1</th>\n",
       "      <td>24807</td>\n",
       "      <td>30800.0</td>\n",
       "      <td>3033-07-09 00:56:00</td>\n",
       "      <td>dd77b97f8b5da793773ceb4c56f32753</td>\n",
       "    </tr>\n",
       "    <tr>\n",
       "      <th>2</th>\n",
       "      <td>5097</td>\n",
       "      <td>6331.0</td>\n",
       "      <td>3424-06-09 18:12:00</td>\n",
       "      <td>cd3717e9e2d408a1f75ac3052c677434</td>\n",
       "    </tr>\n",
       "    <tr>\n",
       "      <th>3</th>\n",
       "      <td>5097</td>\n",
       "      <td>6331.0</td>\n",
       "      <td>3424-06-09 18:12:00</td>\n",
       "      <td>cd3717e9e2d408a1f75ac3052c677434</td>\n",
       "    </tr>\n",
       "    <tr>\n",
       "      <th>4</th>\n",
       "      <td>23014</td>\n",
       "      <td>28601.0</td>\n",
       "      <td>3108-05-01 09:51:00</td>\n",
       "      <td>544d2097e111b56c294d09cc40dbd4b8</td>\n",
       "    </tr>\n",
       "  </tbody>\n",
       "</table>\n",
       "</div>"
      ],
      "text/plain": [
       "   subject_id  icustay_id            charttime  \\\n",
       "0       24807     30800.0  3033-07-09 00:56:00   \n",
       "1       24807     30800.0  3033-07-09 00:56:00   \n",
       "2        5097      6331.0  3424-06-09 18:12:00   \n",
       "3        5097      6331.0  3424-06-09 18:12:00   \n",
       "4       23014     28601.0  3108-05-01 09:51:00   \n",
       "\n",
       "                                md5  \n",
       "0  dd77b97f8b5da793773ceb4c56f32753  \n",
       "1  dd77b97f8b5da793773ceb4c56f32753  \n",
       "2  cd3717e9e2d408a1f75ac3052c677434  \n",
       "3  cd3717e9e2d408a1f75ac3052c677434  \n",
       "4  544d2097e111b56c294d09cc40dbd4b8  "
      ]
     },
     "execution_count": 54,
     "metadata": {},
     "output_type": "execute_result"
    }
   ],
   "source": [
    "nursing_notes[['subject_id', 'icustay_id', 'charttime', 'md5']].head(5)"
   ]
  },
  {
   "cell_type": "markdown",
   "metadata": {},
   "source": [
    "Verify that md5 from nursing notes from python will match a md5 from the database from postgres..."
   ]
  },
  {
   "cell_type": "code",
   "execution_count": 55,
   "metadata": {
    "collapsed": false
   },
   "outputs": [
    {
     "data": {
      "text/plain": [
       "1"
      ]
     },
     "execution_count": 55,
     "metadata": {},
     "output_type": "execute_result"
    }
   ],
   "source": [
    "(m2_notes_meta['md5'] == 'dd77b97f8b5da793773ceb4c56f32753').sum()"
   ]
  },
  {
   "cell_type": "markdown",
   "metadata": {},
   "source": [
    "Extract subset of relevant columns, no duplicates"
   ]
  },
  {
   "cell_type": "code",
   "execution_count": 56,
   "metadata": {
    "collapsed": false
   },
   "outputs": [
    {
     "data": {
      "text/html": [
       "<div>\n",
       "<table border=\"1\" class=\"dataframe\">\n",
       "  <thead>\n",
       "    <tr style=\"text-align: right;\">\n",
       "      <th></th>\n",
       "      <th>index</th>\n",
       "      <th>subject_id</th>\n",
       "      <th>hadm_id</th>\n",
       "      <th>icustay_id</th>\n",
       "      <th>realtime</th>\n",
       "      <th>charttime</th>\n",
       "      <th>md5</th>\n",
       "      <th>length</th>\n",
       "      <th>str_start</th>\n",
       "      <th>str_end</th>\n",
       "      <th>category</th>\n",
       "    </tr>\n",
       "  </thead>\n",
       "  <tbody>\n",
       "    <tr>\n",
       "      <th>0</th>\n",
       "      <td>0</td>\n",
       "      <td>24807</td>\n",
       "      <td>2</td>\n",
       "      <td>30800.0</td>\n",
       "      <td>3033-07-09 01:22:00</td>\n",
       "      <td>3033-07-09 00:56:00</td>\n",
       "      <td>dd77b97f8b5da793773ceb4c56f32753</td>\n",
       "      <td>1758</td>\n",
       "      <td>MICU/SICUNURSINGPROGRESSNOTE.SEECAREVIEWFOROBJECTI</td>\n",
       "      <td>.Obtainfirststepbediftobepthereforanylenghtoftime.</td>\n",
       "      <td>Nursing/other</td>\n",
       "    </tr>\n",
       "    <tr>\n",
       "      <th>1</th>\n",
       "      <td>2</td>\n",
       "      <td>5097</td>\n",
       "      <td>18</td>\n",
       "      <td>6331.0</td>\n",
       "      <td>3424-06-09 18:29:00</td>\n",
       "      <td>3424-06-09 18:12:00</td>\n",
       "      <td>cd3717e9e2d408a1f75ac3052c677434</td>\n",
       "      <td>1057</td>\n",
       "      <td>NURSINGACCEPTANCENOTE.PTTRANSFERREDFROMHOSPITALTRA</td>\n",
       "      <td>ONARYFIBROSISIWITHPOSSLUNGBIOSPY.A/PSTABLETRANSFER</td>\n",
       "      <td>Nursing/other</td>\n",
       "    </tr>\n",
       "    <tr>\n",
       "      <th>2</th>\n",
       "      <td>4</td>\n",
       "      <td>23014</td>\n",
       "      <td>45</td>\n",
       "      <td>28601.0</td>\n",
       "      <td>3108-05-01 09:57:00</td>\n",
       "      <td>3108-05-01 09:51:00</td>\n",
       "      <td>544d2097e111b56c294d09cc40dbd4b8</td>\n",
       "      <td>869</td>\n",
       "      <td>NEURO;PTONPROPFOLAT25MCG/KG/MIN,GTTOFFPERSICUANDNE</td>\n",
       "      <td>ATABGWHENPTRETURNS,WILLHAVERPTCHESTX-RAYUPONRETURN</td>\n",
       "      <td>Nursing/other</td>\n",
       "    </tr>\n",
       "    <tr>\n",
       "      <th>3</th>\n",
       "      <td>5</td>\n",
       "      <td>9882</td>\n",
       "      <td>146</td>\n",
       "      <td>12307.0</td>\n",
       "      <td>3042-06-29 05:26:00</td>\n",
       "      <td>3042-06-29 04:32:00</td>\n",
       "      <td>b68ce445af04e1d28f24c72d5832282f</td>\n",
       "      <td>3070</td>\n",
       "      <td>Pmicunursingadmit/progress7p-7amrisa54yomanwithmul</td>\n",
       "      <td>g,wantstobeupdatedwithanychanges-seemsconcernedand</td>\n",
       "      <td>Nursing/other</td>\n",
       "    </tr>\n",
       "    <tr>\n",
       "      <th>4</th>\n",
       "      <td>6</td>\n",
       "      <td>7670</td>\n",
       "      <td>190</td>\n",
       "      <td>9557.0</td>\n",
       "      <td>2780-04-13 15:19:00</td>\n",
       "      <td>2780-04-13 14:52:00</td>\n",
       "      <td>ff751b526a693998c7dcf8dce1751fdf</td>\n",
       "      <td>1311</td>\n",
       "      <td>MICUnursingadmnotePtisyomaleadmfromwithUGIB.Seecar</td>\n",
       "      <td>700.TxforHct&lt;28.ProtonixBID.NPOfornow.PtisDNR/DNI.</td>\n",
       "      <td>Nursing/other</td>\n",
       "    </tr>\n",
       "  </tbody>\n",
       "</table>\n",
       "</div>"
      ],
      "text/plain": [
       "   index  subject_id  hadm_id  icustay_id             realtime  \\\n",
       "0      0       24807        2     30800.0  3033-07-09 01:22:00   \n",
       "1      2        5097       18      6331.0  3424-06-09 18:29:00   \n",
       "2      4       23014       45     28601.0  3108-05-01 09:57:00   \n",
       "3      5        9882      146     12307.0  3042-06-29 05:26:00   \n",
       "4      6        7670      190      9557.0  2780-04-13 15:19:00   \n",
       "\n",
       "             charttime                               md5  length  \\\n",
       "0  3033-07-09 00:56:00  dd77b97f8b5da793773ceb4c56f32753    1758   \n",
       "1  3424-06-09 18:12:00  cd3717e9e2d408a1f75ac3052c677434    1057   \n",
       "2  3108-05-01 09:51:00  544d2097e111b56c294d09cc40dbd4b8     869   \n",
       "3  3042-06-29 04:32:00  b68ce445af04e1d28f24c72d5832282f    3070   \n",
       "4  2780-04-13 14:52:00  ff751b526a693998c7dcf8dce1751fdf    1311   \n",
       "\n",
       "                                            str_start  \\\n",
       "0  MICU/SICUNURSINGPROGRESSNOTE.SEECAREVIEWFOROBJECTI   \n",
       "1  NURSINGACCEPTANCENOTE.PTTRANSFERREDFROMHOSPITALTRA   \n",
       "2  NEURO;PTONPROPFOLAT25MCG/KG/MIN,GTTOFFPERSICUANDNE   \n",
       "3  Pmicunursingadmit/progress7p-7amrisa54yomanwithmul   \n",
       "4  MICUnursingadmnotePtisyomaleadmfromwithUGIB.Seecar   \n",
       "\n",
       "                                              str_end       category  \n",
       "0  .Obtainfirststepbediftobepthereforanylenghtoftime.  Nursing/other  \n",
       "1  ONARYFIBROSISIWITHPOSSLUNGBIOSPY.A/PSTABLETRANSFER  Nursing/other  \n",
       "2  ATABGWHENPTRETURNS,WILLHAVERPTCHESTX-RAYUPONRETURN  Nursing/other  \n",
       "3  g,wantstobeupdatedwithanychanges-seemsconcernedand  Nursing/other  \n",
       "4  700.TxforHct<28.ProtonixBID.NPOfornow.PtisDNR/DNI.  Nursing/other  "
      ]
     },
     "execution_count": 56,
     "metadata": {},
     "output_type": "execute_result"
    }
   ],
   "source": [
    "nurs_notes_meta = nursing_notes.loc[:, ['subject_id', 'Hospital.Admission.ID', 'icustay_id', \n",
    "                                        'realtime', 'charttime', \n",
    "                                        'md5', 'length', 'str_start', 'str_end']]\n",
    "nurs_notes_meta.drop_duplicates(inplace=True)\n",
    "nurs_notes_meta.rename(columns={'Hospital.Admission.ID': 'hadm_id'}, inplace=True)\n",
    "nurs_notes_meta['category'] = 'Nursing/other'\n",
    "nurs_notes_meta.reset_index(inplace=True)\n",
    "nurs_notes_meta.head(5)"
   ]
  },
  {
   "cell_type": "code",
   "execution_count": 57,
   "metadata": {
    "collapsed": false
   },
   "outputs": [
    {
     "data": {
      "text/html": [
       "<div>\n",
       "<table border=\"1\" class=\"dataframe\">\n",
       "  <thead>\n",
       "    <tr style=\"text-align: right;\">\n",
       "      <th></th>\n",
       "      <th>index</th>\n",
       "      <th>subject_id</th>\n",
       "      <th>hadm_id</th>\n",
       "      <th>icustay_id</th>\n",
       "      <th>chartdate</th>\n",
       "      <th>md5</th>\n",
       "      <th>length</th>\n",
       "      <th>str_start</th>\n",
       "      <th>str_end</th>\n",
       "      <th>realtime</th>\n",
       "      <th>category</th>\n",
       "    </tr>\n",
       "  </thead>\n",
       "  <tbody>\n",
       "    <tr>\n",
       "      <th>0</th>\n",
       "      <td>0</td>\n",
       "      <td>9973</td>\n",
       "      <td>100020</td>\n",
       "      <td>NaN</td>\n",
       "      <td>2142-12-10</td>\n",
       "      <td>56f2598342cce321539d8975809d487c</td>\n",
       "      <td>16084</td>\n",
       "      <td>:::Sex:MService:MEDICINEAllergies:Percocet/Bactrim</td>\n",
       "      <td>Time:4:00.3.GASTROINTESTINALCLINICat:(Completedby:</td>\n",
       "      <td>2142-12-10</td>\n",
       "      <td>Discharge summary</td>\n",
       "    </tr>\n",
       "    <tr>\n",
       "      <th>1</th>\n",
       "      <td>2</td>\n",
       "      <td>3365</td>\n",
       "      <td>100103</td>\n",
       "      <td>NaN</td>\n",
       "      <td>2142-12-10</td>\n",
       "      <td>eaea5c3c7577135a83f1f0fb583e0d53</td>\n",
       "      <td>7922</td>\n",
       "      <td>:::Sex:FService:CARDIOTHORACICSURGERYCHIEFCOMPLAIN</td>\n",
       "      <td>ward.,M.D.DictatedBy:MEDQUIST36D:18:27T:18:47JOB#:</td>\n",
       "      <td>2142-12-10</td>\n",
       "      <td>Discharge summary</td>\n",
       "    </tr>\n",
       "    <tr>\n",
       "      <th>2</th>\n",
       "      <td>4</td>\n",
       "      <td>27290</td>\n",
       "      <td>100137</td>\n",
       "      <td>NaN</td>\n",
       "      <td>2142-12-10</td>\n",
       "      <td>e7433c0b75ea00346390f029bb830774</td>\n",
       "      <td>11585</td>\n",
       "      <td>:::Sex:MService:MEDICINEAllergies:IodineAttending:</td>\n",
       "      <td>rin2weeks.PleasecallandmakeanapptwithyourPCPweeks.</td>\n",
       "      <td>2142-12-10</td>\n",
       "      <td>Discharge summary</td>\n",
       "    </tr>\n",
       "    <tr>\n",
       "      <th>3</th>\n",
       "      <td>6</td>\n",
       "      <td>5525</td>\n",
       "      <td>100473</td>\n",
       "      <td>NaN</td>\n",
       "      <td>2142-12-10</td>\n",
       "      <td>7d5ada7d4355a1551b9749a50c9a5471</td>\n",
       "      <td>18230</td>\n",
       "      <td>:::Sex:MService:MEDICINEAllergies:NeupogenAttendin</td>\n",
       "      <td>within1weekofdischargefromrehabilitation.Phone:.MD</td>\n",
       "      <td>2142-12-10</td>\n",
       "      <td>Discharge summary</td>\n",
       "    </tr>\n",
       "    <tr>\n",
       "      <th>4</th>\n",
       "      <td>7</td>\n",
       "      <td>41515</td>\n",
       "      <td>100485</td>\n",
       "      <td>NaN</td>\n",
       "      <td>2142-12-10</td>\n",
       "      <td>6f6b2bf63a8c26780a37495b29086a59</td>\n",
       "      <td>8634</td>\n",
       "      <td>:::Sex:FService:CARDIOTHORACICAllergies:Penicillin</td>\n",
       "      <td>undcheck6in2weeksasinstructedbynurse()Completedby:</td>\n",
       "      <td>2142-12-10</td>\n",
       "      <td>Discharge summary</td>\n",
       "    </tr>\n",
       "  </tbody>\n",
       "</table>\n",
       "</div>"
      ],
      "text/plain": [
       "   index  subject_id  hadm_id  icustay_id  chartdate  \\\n",
       "0      0        9973   100020         NaN 2142-12-10   \n",
       "1      2        3365   100103         NaN 2142-12-10   \n",
       "2      4       27290   100137         NaN 2142-12-10   \n",
       "3      6        5525   100473         NaN 2142-12-10   \n",
       "4      7       41515   100485         NaN 2142-12-10   \n",
       "\n",
       "                                md5  length  \\\n",
       "0  56f2598342cce321539d8975809d487c   16084   \n",
       "1  eaea5c3c7577135a83f1f0fb583e0d53    7922   \n",
       "2  e7433c0b75ea00346390f029bb830774   11585   \n",
       "3  7d5ada7d4355a1551b9749a50c9a5471   18230   \n",
       "4  6f6b2bf63a8c26780a37495b29086a59    8634   \n",
       "\n",
       "                                            str_start  \\\n",
       "0  :::Sex:MService:MEDICINEAllergies:Percocet/Bactrim   \n",
       "1  :::Sex:FService:CARDIOTHORACICSURGERYCHIEFCOMPLAIN   \n",
       "2  :::Sex:MService:MEDICINEAllergies:IodineAttending:   \n",
       "3  :::Sex:MService:MEDICINEAllergies:NeupogenAttendin   \n",
       "4  :::Sex:FService:CARDIOTHORACICAllergies:Penicillin   \n",
       "\n",
       "                                              str_end   realtime  \\\n",
       "0  Time:4:00.3.GASTROINTESTINALCLINICat:(Completedby: 2142-12-10   \n",
       "1  ward.,M.D.DictatedBy:MEDQUIST36D:18:27T:18:47JOB#: 2142-12-10   \n",
       "2  rin2weeks.PleasecallandmakeanapptwithyourPCPweeks. 2142-12-10   \n",
       "3  within1weekofdischargefromrehabilitation.Phone:.MD 2142-12-10   \n",
       "4  undcheck6in2weeksasinstructedbynurse()Completedby: 2142-12-10   \n",
       "\n",
       "            category  \n",
       "0  Discharge summary  \n",
       "1  Discharge summary  \n",
       "2  Discharge summary  \n",
       "3  Discharge summary  \n",
       "4  Discharge summary  "
      ]
     },
     "execution_count": 57,
     "metadata": {},
     "output_type": "execute_result"
    }
   ],
   "source": [
    "disch_notes_meta = disch_notes.loc[:, ['subject_id', 'Hospital.Admission.ID', 'icustay_id', 'Real.time', 'chartdate', \n",
    "                                       'md5', 'length', 'str_start', 'str_end']]\n",
    "disch_notes_meta.drop_duplicates(inplace=True)\n",
    "disch_notes_meta.rename(columns={'Hospital.Admission.ID': 'hadm_id'}, inplace=True)\n",
    "disch_notes_meta['realtime'] = disch_notes['Real.time'].apply(meu.fix_date)\n",
    "disch_notes_meta.loc[:, 'chartdate'] = disch_notes['chartdate'].apply(meu.fix_date)\n",
    "disch_notes_meta.drop(['Real.time',], axis=1, inplace=True)\n",
    "disch_notes_meta['category'] = 'Discharge summary'\n",
    "disch_notes_meta.reset_index(inplace=True)\n",
    "disch_notes_meta.head(5)"
   ]
  },
  {
   "cell_type": "code",
   "execution_count": 58,
   "metadata": {
    "collapsed": false
   },
   "outputs": [
    {
     "name": "stdout",
     "output_type": "stream",
     "text": [
      "(1894, 12)\n"
     ]
    },
    {
     "data": {
      "text/html": [
       "<div>\n",
       "<table border=\"1\" class=\"dataframe\">\n",
       "  <thead>\n",
       "    <tr style=\"text-align: right;\">\n",
       "      <th></th>\n",
       "      <th>category</th>\n",
       "      <th>chartdate</th>\n",
       "      <th>charttime</th>\n",
       "      <th>hadm_id</th>\n",
       "      <th>icustay_id</th>\n",
       "      <th>index</th>\n",
       "      <th>length</th>\n",
       "      <th>md5</th>\n",
       "      <th>realtime</th>\n",
       "      <th>str_end</th>\n",
       "      <th>str_start</th>\n",
       "      <th>subject_id</th>\n",
       "    </tr>\n",
       "  </thead>\n",
       "  <tbody>\n",
       "    <tr>\n",
       "      <th>0</th>\n",
       "      <td>Nursing/other</td>\n",
       "      <td>NaT</td>\n",
       "      <td>3033-07-09 00:56:00</td>\n",
       "      <td>2</td>\n",
       "      <td>30800.0</td>\n",
       "      <td>0</td>\n",
       "      <td>1758</td>\n",
       "      <td>dd77b97f8b5da793773ceb4c56f32753</td>\n",
       "      <td>3033-07-09 01:22:00</td>\n",
       "      <td>.Obtainfirststepbediftobepthereforanylenghtoftime.</td>\n",
       "      <td>MICU/SICUNURSINGPROGRESSNOTE.SEECAREVIEWFOROBJECTI</td>\n",
       "      <td>24807</td>\n",
       "    </tr>\n",
       "    <tr>\n",
       "      <th>1</th>\n",
       "      <td>Nursing/other</td>\n",
       "      <td>NaT</td>\n",
       "      <td>3424-06-09 18:12:00</td>\n",
       "      <td>18</td>\n",
       "      <td>6331.0</td>\n",
       "      <td>2</td>\n",
       "      <td>1057</td>\n",
       "      <td>cd3717e9e2d408a1f75ac3052c677434</td>\n",
       "      <td>3424-06-09 18:29:00</td>\n",
       "      <td>ONARYFIBROSISIWITHPOSSLUNGBIOSPY.A/PSTABLETRANSFER</td>\n",
       "      <td>NURSINGACCEPTANCENOTE.PTTRANSFERREDFROMHOSPITALTRA</td>\n",
       "      <td>5097</td>\n",
       "    </tr>\n",
       "    <tr>\n",
       "      <th>2</th>\n",
       "      <td>Nursing/other</td>\n",
       "      <td>NaT</td>\n",
       "      <td>3108-05-01 09:51:00</td>\n",
       "      <td>45</td>\n",
       "      <td>28601.0</td>\n",
       "      <td>4</td>\n",
       "      <td>869</td>\n",
       "      <td>544d2097e111b56c294d09cc40dbd4b8</td>\n",
       "      <td>3108-05-01 09:57:00</td>\n",
       "      <td>ATABGWHENPTRETURNS,WILLHAVERPTCHESTX-RAYUPONRETURN</td>\n",
       "      <td>NEURO;PTONPROPFOLAT25MCG/KG/MIN,GTTOFFPERSICUANDNE</td>\n",
       "      <td>23014</td>\n",
       "    </tr>\n",
       "    <tr>\n",
       "      <th>3</th>\n",
       "      <td>Nursing/other</td>\n",
       "      <td>NaT</td>\n",
       "      <td>3042-06-29 04:32:00</td>\n",
       "      <td>146</td>\n",
       "      <td>12307.0</td>\n",
       "      <td>5</td>\n",
       "      <td>3070</td>\n",
       "      <td>b68ce445af04e1d28f24c72d5832282f</td>\n",
       "      <td>3042-06-29 05:26:00</td>\n",
       "      <td>g,wantstobeupdatedwithanychanges-seemsconcernedand</td>\n",
       "      <td>Pmicunursingadmit/progress7p-7amrisa54yomanwithmul</td>\n",
       "      <td>9882</td>\n",
       "    </tr>\n",
       "    <tr>\n",
       "      <th>4</th>\n",
       "      <td>Nursing/other</td>\n",
       "      <td>NaT</td>\n",
       "      <td>2780-04-13 14:52:00</td>\n",
       "      <td>190</td>\n",
       "      <td>9557.0</td>\n",
       "      <td>6</td>\n",
       "      <td>1311</td>\n",
       "      <td>ff751b526a693998c7dcf8dce1751fdf</td>\n",
       "      <td>2780-04-13 15:19:00</td>\n",
       "      <td>700.TxforHct&lt;28.ProtonixBID.NPOfornow.PtisDNR/DNI.</td>\n",
       "      <td>MICUnursingadmnotePtisyomaleadmfromwithUGIB.Seecar</td>\n",
       "      <td>7670</td>\n",
       "    </tr>\n",
       "  </tbody>\n",
       "</table>\n",
       "</div>"
      ],
      "text/plain": [
       "        category chartdate            charttime  hadm_id  icustay_id  index  \\\n",
       "0  Nursing/other       NaT  3033-07-09 00:56:00        2     30800.0      0   \n",
       "1  Nursing/other       NaT  3424-06-09 18:12:00       18      6331.0      2   \n",
       "2  Nursing/other       NaT  3108-05-01 09:51:00       45     28601.0      4   \n",
       "3  Nursing/other       NaT  3042-06-29 04:32:00      146     12307.0      5   \n",
       "4  Nursing/other       NaT  2780-04-13 14:52:00      190      9557.0      6   \n",
       "\n",
       "   length                               md5             realtime  \\\n",
       "0    1758  dd77b97f8b5da793773ceb4c56f32753  3033-07-09 01:22:00   \n",
       "1    1057  cd3717e9e2d408a1f75ac3052c677434  3424-06-09 18:29:00   \n",
       "2     869  544d2097e111b56c294d09cc40dbd4b8  3108-05-01 09:57:00   \n",
       "3    3070  b68ce445af04e1d28f24c72d5832282f  3042-06-29 05:26:00   \n",
       "4    1311  ff751b526a693998c7dcf8dce1751fdf  2780-04-13 15:19:00   \n",
       "\n",
       "                                              str_end  \\\n",
       "0  .Obtainfirststepbediftobepthereforanylenghtoftime.   \n",
       "1  ONARYFIBROSISIWITHPOSSLUNGBIOSPY.A/PSTABLETRANSFER   \n",
       "2  ATABGWHENPTRETURNS,WILLHAVERPTCHESTX-RAYUPONRETURN   \n",
       "3  g,wantstobeupdatedwithanychanges-seemsconcernedand   \n",
       "4  700.TxforHct<28.ProtonixBID.NPOfornow.PtisDNR/DNI.   \n",
       "\n",
       "                                            str_start  subject_id  \n",
       "0  MICU/SICUNURSINGPROGRESSNOTE.SEECAREVIEWFOROBJECTI       24807  \n",
       "1  NURSINGACCEPTANCENOTE.PTTRANSFERREDFROMHOSPITALTRA        5097  \n",
       "2  NEURO;PTONPROPFOLAT25MCG/KG/MIN,GTTOFFPERSICUANDNE       23014  \n",
       "3  Pmicunursingadmit/progress7p-7amrisa54yomanwithmul        9882  \n",
       "4  MICUnursingadmnotePtisyomaleadmfromwithUGIB.Seecar        7670  "
      ]
     },
     "execution_count": 58,
     "metadata": {},
     "output_type": "execute_result"
    }
   ],
   "source": [
    "ann_notes_meta = pd.concat([nurs_notes_meta, disch_notes_meta], axis=0)\n",
    "print(ann_notes_meta.shape)\n",
    "ann_notes_meta.head(5)"
   ]
  },
  {
   "cell_type": "code",
   "execution_count": 59,
   "metadata": {
    "collapsed": false
   },
   "outputs": [],
   "source": [
    "m2_copy = m2_notes_meta.copy()\n",
    "m2_copy.columns = [c if c in ['subject_id', 'md5'] else c+'_m2' for c in m2_copy.columns]\n",
    "meta_with_m2 = pd.merge(ann_notes_meta, m2_copy, how='left', on=['subject_id', 'md5'])"
   ]
  },
  {
   "cell_type": "code",
   "execution_count": 60,
   "metadata": {
    "collapsed": false
   },
   "outputs": [
    {
     "data": {
      "text/html": [
       "<div>\n",
       "<table border=\"1\" class=\"dataframe\">\n",
       "  <thead>\n",
       "    <tr style=\"text-align: right;\">\n",
       "      <th></th>\n",
       "      <th>category</th>\n",
       "      <th>chartdate</th>\n",
       "      <th>charttime</th>\n",
       "      <th>hadm_id</th>\n",
       "      <th>icustay_id</th>\n",
       "      <th>index</th>\n",
       "      <th>length</th>\n",
       "      <th>md5</th>\n",
       "      <th>realtime</th>\n",
       "      <th>str_end</th>\n",
       "      <th>str_start</th>\n",
       "      <th>subject_id</th>\n",
       "      <th>hadm_id_m2</th>\n",
       "      <th>icustay_id_m2</th>\n",
       "      <th>realtime_m2</th>\n",
       "      <th>charttime_m2</th>\n",
       "      <th>category_m2</th>\n",
       "      <th>length_m2</th>\n",
       "      <th>str_start_m2</th>\n",
       "      <th>str_end_m2</th>\n",
       "    </tr>\n",
       "  </thead>\n",
       "  <tbody>\n",
       "    <tr>\n",
       "      <th>0</th>\n",
       "      <td>Nursing/other</td>\n",
       "      <td>NaT</td>\n",
       "      <td>3033-07-09 00:56:00</td>\n",
       "      <td>2</td>\n",
       "      <td>30800.0</td>\n",
       "      <td>0</td>\n",
       "      <td>1758</td>\n",
       "      <td>dd77b97f8b5da793773ceb4c56f32753</td>\n",
       "      <td>3033-07-09 01:22:00</td>\n",
       "      <td>.Obtainfirststepbediftobepthereforanylenghtoftime.</td>\n",
       "      <td>MICU/SICUNURSINGPROGRESSNOTE.SEECAREVIEWFOROBJECTI</td>\n",
       "      <td>24807</td>\n",
       "      <td>2.0</td>\n",
       "      <td>30800.0</td>\n",
       "      <td>3033-07-09 01:22:00</td>\n",
       "      <td>3033-07-09 00:56:00</td>\n",
       "      <td>Nursing/other</td>\n",
       "      <td>1758.0</td>\n",
       "      <td>MICU/SICUNURSINGPROGRESSNOTE.SEECAREVIEWFOROBJECTI</td>\n",
       "      <td>.Obtainfirststepbediftobepthereforanylenghtoftime.</td>\n",
       "    </tr>\n",
       "    <tr>\n",
       "      <th>1</th>\n",
       "      <td>Nursing/other</td>\n",
       "      <td>NaT</td>\n",
       "      <td>3424-06-09 18:12:00</td>\n",
       "      <td>18</td>\n",
       "      <td>6331.0</td>\n",
       "      <td>2</td>\n",
       "      <td>1057</td>\n",
       "      <td>cd3717e9e2d408a1f75ac3052c677434</td>\n",
       "      <td>3424-06-09 18:29:00</td>\n",
       "      <td>ONARYFIBROSISIWITHPOSSLUNGBIOSPY.A/PSTABLETRANSFER</td>\n",
       "      <td>NURSINGACCEPTANCENOTE.PTTRANSFERREDFROMHOSPITALTRA</td>\n",
       "      <td>5097</td>\n",
       "      <td>18.0</td>\n",
       "      <td>6331.0</td>\n",
       "      <td>3424-06-09 18:29:00</td>\n",
       "      <td>3424-06-09 18:12:00</td>\n",
       "      <td>Nursing/other</td>\n",
       "      <td>1057.0</td>\n",
       "      <td>NURSINGACCEPTANCENOTE.PTTRANSFERREDFROMHOSPITALTRA</td>\n",
       "      <td>ONARYFIBROSISIWITHPOSSLUNGBIOSPY.A/PSTABLETRANSFER</td>\n",
       "    </tr>\n",
       "    <tr>\n",
       "      <th>2</th>\n",
       "      <td>Nursing/other</td>\n",
       "      <td>NaT</td>\n",
       "      <td>3108-05-01 09:51:00</td>\n",
       "      <td>45</td>\n",
       "      <td>28601.0</td>\n",
       "      <td>4</td>\n",
       "      <td>869</td>\n",
       "      <td>544d2097e111b56c294d09cc40dbd4b8</td>\n",
       "      <td>3108-05-01 09:57:00</td>\n",
       "      <td>ATABGWHENPTRETURNS,WILLHAVERPTCHESTX-RAYUPONRETURN</td>\n",
       "      <td>NEURO;PTONPROPFOLAT25MCG/KG/MIN,GTTOFFPERSICUANDNE</td>\n",
       "      <td>23014</td>\n",
       "      <td>45.0</td>\n",
       "      <td>28601.0</td>\n",
       "      <td>3108-05-01 09:57:00</td>\n",
       "      <td>3108-05-01 09:51:00</td>\n",
       "      <td>Nursing/other</td>\n",
       "      <td>869.0</td>\n",
       "      <td>NEURO;PTONPROPFOLAT25MCG/KG/MIN,GTTOFFPERSICUANDNE</td>\n",
       "      <td>ATABGWHENPTRETURNS,WILLHAVERPTCHESTX-RAYUPONRETURN</td>\n",
       "    </tr>\n",
       "    <tr>\n",
       "      <th>3</th>\n",
       "      <td>Nursing/other</td>\n",
       "      <td>NaT</td>\n",
       "      <td>3042-06-29 04:32:00</td>\n",
       "      <td>146</td>\n",
       "      <td>12307.0</td>\n",
       "      <td>5</td>\n",
       "      <td>3070</td>\n",
       "      <td>b68ce445af04e1d28f24c72d5832282f</td>\n",
       "      <td>3042-06-29 05:26:00</td>\n",
       "      <td>g,wantstobeupdatedwithanychanges-seemsconcernedand</td>\n",
       "      <td>Pmicunursingadmit/progress7p-7amrisa54yomanwithmul</td>\n",
       "      <td>9882</td>\n",
       "      <td>146.0</td>\n",
       "      <td>12307.0</td>\n",
       "      <td>3042-06-29 05:26:00</td>\n",
       "      <td>3042-06-29 04:32:00</td>\n",
       "      <td>Nursing/other</td>\n",
       "      <td>3070.0</td>\n",
       "      <td>Pmicunursingadmit/progress7p-7amrisa54yomanwithmul</td>\n",
       "      <td>g,wantstobeupdatedwithanychanges-seemsconcernedand</td>\n",
       "    </tr>\n",
       "    <tr>\n",
       "      <th>4</th>\n",
       "      <td>Nursing/other</td>\n",
       "      <td>NaT</td>\n",
       "      <td>2780-04-13 14:52:00</td>\n",
       "      <td>190</td>\n",
       "      <td>9557.0</td>\n",
       "      <td>6</td>\n",
       "      <td>1311</td>\n",
       "      <td>ff751b526a693998c7dcf8dce1751fdf</td>\n",
       "      <td>2780-04-13 15:19:00</td>\n",
       "      <td>700.TxforHct&lt;28.ProtonixBID.NPOfornow.PtisDNR/DNI.</td>\n",
       "      <td>MICUnursingadmnotePtisyomaleadmfromwithUGIB.Seecar</td>\n",
       "      <td>7670</td>\n",
       "      <td>190.0</td>\n",
       "      <td>9557.0</td>\n",
       "      <td>2780-04-13 15:19:00</td>\n",
       "      <td>2780-04-13 14:52:00</td>\n",
       "      <td>Nursing/other</td>\n",
       "      <td>1311.0</td>\n",
       "      <td>MICUnursingadmnotePtisyomaleadmfromwithUGIB.Seecar</td>\n",
       "      <td>700.TxforHct&lt;28.ProtonixBID.NPOfornow.PtisDNR/DNI.</td>\n",
       "    </tr>\n",
       "  </tbody>\n",
       "</table>\n",
       "</div>"
      ],
      "text/plain": [
       "        category chartdate            charttime  hadm_id  icustay_id  index  \\\n",
       "0  Nursing/other       NaT  3033-07-09 00:56:00        2     30800.0      0   \n",
       "1  Nursing/other       NaT  3424-06-09 18:12:00       18      6331.0      2   \n",
       "2  Nursing/other       NaT  3108-05-01 09:51:00       45     28601.0      4   \n",
       "3  Nursing/other       NaT  3042-06-29 04:32:00      146     12307.0      5   \n",
       "4  Nursing/other       NaT  2780-04-13 14:52:00      190      9557.0      6   \n",
       "\n",
       "   length                               md5             realtime  \\\n",
       "0    1758  dd77b97f8b5da793773ceb4c56f32753  3033-07-09 01:22:00   \n",
       "1    1057  cd3717e9e2d408a1f75ac3052c677434  3424-06-09 18:29:00   \n",
       "2     869  544d2097e111b56c294d09cc40dbd4b8  3108-05-01 09:57:00   \n",
       "3    3070  b68ce445af04e1d28f24c72d5832282f  3042-06-29 05:26:00   \n",
       "4    1311  ff751b526a693998c7dcf8dce1751fdf  2780-04-13 15:19:00   \n",
       "\n",
       "                                              str_end  \\\n",
       "0  .Obtainfirststepbediftobepthereforanylenghtoftime.   \n",
       "1  ONARYFIBROSISIWITHPOSSLUNGBIOSPY.A/PSTABLETRANSFER   \n",
       "2  ATABGWHENPTRETURNS,WILLHAVERPTCHESTX-RAYUPONRETURN   \n",
       "3  g,wantstobeupdatedwithanychanges-seemsconcernedand   \n",
       "4  700.TxforHct<28.ProtonixBID.NPOfornow.PtisDNR/DNI.   \n",
       "\n",
       "                                            str_start  subject_id  hadm_id_m2  \\\n",
       "0  MICU/SICUNURSINGPROGRESSNOTE.SEECAREVIEWFOROBJECTI       24807         2.0   \n",
       "1  NURSINGACCEPTANCENOTE.PTTRANSFERREDFROMHOSPITALTRA        5097        18.0   \n",
       "2  NEURO;PTONPROPFOLAT25MCG/KG/MIN,GTTOFFPERSICUANDNE       23014        45.0   \n",
       "3  Pmicunursingadmit/progress7p-7amrisa54yomanwithmul        9882       146.0   \n",
       "4  MICUnursingadmnotePtisyomaleadmfromwithUGIB.Seecar        7670       190.0   \n",
       "\n",
       "   icustay_id_m2          realtime_m2         charttime_m2    category_m2  \\\n",
       "0        30800.0  3033-07-09 01:22:00  3033-07-09 00:56:00  Nursing/other   \n",
       "1         6331.0  3424-06-09 18:29:00  3424-06-09 18:12:00  Nursing/other   \n",
       "2        28601.0  3108-05-01 09:57:00  3108-05-01 09:51:00  Nursing/other   \n",
       "3        12307.0  3042-06-29 05:26:00  3042-06-29 04:32:00  Nursing/other   \n",
       "4         9557.0  2780-04-13 15:19:00  2780-04-13 14:52:00  Nursing/other   \n",
       "\n",
       "   length_m2                                        str_start_m2  \\\n",
       "0     1758.0  MICU/SICUNURSINGPROGRESSNOTE.SEECAREVIEWFOROBJECTI   \n",
       "1     1057.0  NURSINGACCEPTANCENOTE.PTTRANSFERREDFROMHOSPITALTRA   \n",
       "2      869.0  NEURO;PTONPROPFOLAT25MCG/KG/MIN,GTTOFFPERSICUANDNE   \n",
       "3     3070.0  Pmicunursingadmit/progress7p-7amrisa54yomanwithmul   \n",
       "4     1311.0  MICUnursingadmnotePtisyomaleadmfromwithUGIB.Seecar   \n",
       "\n",
       "                                           str_end_m2  \n",
       "0  .Obtainfirststepbediftobepthereforanylenghtoftime.  \n",
       "1  ONARYFIBROSISIWITHPOSSLUNGBIOSPY.A/PSTABLETRANSFER  \n",
       "2  ATABGWHENPTRETURNS,WILLHAVERPTCHESTX-RAYUPONRETURN  \n",
       "3  g,wantstobeupdatedwithanychanges-seemsconcernedand  \n",
       "4  700.TxforHct<28.ProtonixBID.NPOfornow.PtisDNR/DNI.  "
      ]
     },
     "execution_count": 60,
     "metadata": {},
     "output_type": "execute_result"
    }
   ],
   "source": [
    "meta_with_m2.head(5)"
   ]
  },
  {
   "cell_type": "code",
   "execution_count": 61,
   "metadata": {
    "collapsed": false
   },
   "outputs": [
    {
     "data": {
      "text/html": [
       "<div>\n",
       "<table border=\"1\" class=\"dataframe\">\n",
       "  <thead>\n",
       "    <tr style=\"text-align: right;\">\n",
       "      <th></th>\n",
       "      <th>category</th>\n",
       "      <th>chartdate</th>\n",
       "      <th>charttime</th>\n",
       "      <th>hadm_id</th>\n",
       "      <th>icustay_id</th>\n",
       "      <th>index</th>\n",
       "      <th>length</th>\n",
       "      <th>md5</th>\n",
       "      <th>realtime</th>\n",
       "      <th>str_end</th>\n",
       "      <th>str_start</th>\n",
       "      <th>subject_id</th>\n",
       "      <th>hadm_id_m2</th>\n",
       "      <th>icustay_id_m2</th>\n",
       "      <th>realtime_m2</th>\n",
       "      <th>charttime_m2</th>\n",
       "      <th>category_m2</th>\n",
       "      <th>length_m2</th>\n",
       "      <th>str_start_m2</th>\n",
       "      <th>str_end_m2</th>\n",
       "      <th>row_id_m3</th>\n",
       "      <th>hadm_id_m3</th>\n",
       "      <th>chartdate_m3</th>\n",
       "      <th>charttime_m3</th>\n",
       "      <th>storetime_m3</th>\n",
       "      <th>category_m3</th>\n",
       "      <th>length_m3</th>\n",
       "      <th>str_start_m3</th>\n",
       "      <th>str_end_m3</th>\n",
       "    </tr>\n",
       "  </thead>\n",
       "  <tbody>\n",
       "    <tr>\n",
       "      <th>0</th>\n",
       "      <td>Nursing/other</td>\n",
       "      <td>NaT</td>\n",
       "      <td>3033-07-09 00:56:00</td>\n",
       "      <td>2</td>\n",
       "      <td>30800.0</td>\n",
       "      <td>0</td>\n",
       "      <td>1758</td>\n",
       "      <td>dd77b97f8b5da793773ceb4c56f32753</td>\n",
       "      <td>3033-07-09 01:22:00</td>\n",
       "      <td>.Obtainfirststepbediftobepthereforanylenghtoftime.</td>\n",
       "      <td>MICU/SICUNURSINGPROGRESSNOTE.SEECAREVIEWFOROBJECTI</td>\n",
       "      <td>24807</td>\n",
       "      <td>2.0</td>\n",
       "      <td>30800.0</td>\n",
       "      <td>3033-07-09 01:22:00</td>\n",
       "      <td>3033-07-09 00:56:00</td>\n",
       "      <td>Nursing/other</td>\n",
       "      <td>1758.0</td>\n",
       "      <td>MICU/SICUNURSINGPROGRESSNOTE.SEECAREVIEWFOROBJECTI</td>\n",
       "      <td>.Obtainfirststepbediftobepthereforanylenghtoftime.</td>\n",
       "      <td>NaN</td>\n",
       "      <td>NaN</td>\n",
       "      <td>NaT</td>\n",
       "      <td>NaN</td>\n",
       "      <td>NaN</td>\n",
       "      <td>NaN</td>\n",
       "      <td>NaN</td>\n",
       "      <td>NaN</td>\n",
       "      <td>NaN</td>\n",
       "    </tr>\n",
       "    <tr>\n",
       "      <th>1</th>\n",
       "      <td>Nursing/other</td>\n",
       "      <td>NaT</td>\n",
       "      <td>3424-06-09 18:12:00</td>\n",
       "      <td>18</td>\n",
       "      <td>6331.0</td>\n",
       "      <td>2</td>\n",
       "      <td>1057</td>\n",
       "      <td>cd3717e9e2d408a1f75ac3052c677434</td>\n",
       "      <td>3424-06-09 18:29:00</td>\n",
       "      <td>ONARYFIBROSISIWITHPOSSLUNGBIOSPY.A/PSTABLETRANSFER</td>\n",
       "      <td>NURSINGACCEPTANCENOTE.PTTRANSFERREDFROMHOSPITALTRA</td>\n",
       "      <td>5097</td>\n",
       "      <td>18.0</td>\n",
       "      <td>6331.0</td>\n",
       "      <td>3424-06-09 18:29:00</td>\n",
       "      <td>3424-06-09 18:12:00</td>\n",
       "      <td>Nursing/other</td>\n",
       "      <td>1057.0</td>\n",
       "      <td>NURSINGACCEPTANCENOTE.PTTRANSFERREDFROMHOSPITALTRA</td>\n",
       "      <td>ONARYFIBROSISIWITHPOSSLUNGBIOSPY.A/PSTABLETRANSFER</td>\n",
       "      <td>NaN</td>\n",
       "      <td>NaN</td>\n",
       "      <td>NaT</td>\n",
       "      <td>NaN</td>\n",
       "      <td>NaN</td>\n",
       "      <td>NaN</td>\n",
       "      <td>NaN</td>\n",
       "      <td>NaN</td>\n",
       "      <td>NaN</td>\n",
       "    </tr>\n",
       "    <tr>\n",
       "      <th>2</th>\n",
       "      <td>Nursing/other</td>\n",
       "      <td>NaT</td>\n",
       "      <td>3108-05-01 09:51:00</td>\n",
       "      <td>45</td>\n",
       "      <td>28601.0</td>\n",
       "      <td>4</td>\n",
       "      <td>869</td>\n",
       "      <td>544d2097e111b56c294d09cc40dbd4b8</td>\n",
       "      <td>3108-05-01 09:57:00</td>\n",
       "      <td>ATABGWHENPTRETURNS,WILLHAVERPTCHESTX-RAYUPONRETURN</td>\n",
       "      <td>NEURO;PTONPROPFOLAT25MCG/KG/MIN,GTTOFFPERSICUANDNE</td>\n",
       "      <td>23014</td>\n",
       "      <td>45.0</td>\n",
       "      <td>28601.0</td>\n",
       "      <td>3108-05-01 09:57:00</td>\n",
       "      <td>3108-05-01 09:51:00</td>\n",
       "      <td>Nursing/other</td>\n",
       "      <td>869.0</td>\n",
       "      <td>NEURO;PTONPROPFOLAT25MCG/KG/MIN,GTTOFFPERSICUANDNE</td>\n",
       "      <td>ATABGWHENPTRETURNS,WILLHAVERPTCHESTX-RAYUPONRETURN</td>\n",
       "      <td>NaN</td>\n",
       "      <td>NaN</td>\n",
       "      <td>NaT</td>\n",
       "      <td>NaN</td>\n",
       "      <td>NaN</td>\n",
       "      <td>NaN</td>\n",
       "      <td>NaN</td>\n",
       "      <td>NaN</td>\n",
       "      <td>NaN</td>\n",
       "    </tr>\n",
       "    <tr>\n",
       "      <th>3</th>\n",
       "      <td>Nursing/other</td>\n",
       "      <td>NaT</td>\n",
       "      <td>3042-06-29 04:32:00</td>\n",
       "      <td>146</td>\n",
       "      <td>12307.0</td>\n",
       "      <td>5</td>\n",
       "      <td>3070</td>\n",
       "      <td>b68ce445af04e1d28f24c72d5832282f</td>\n",
       "      <td>3042-06-29 05:26:00</td>\n",
       "      <td>g,wantstobeupdatedwithanychanges-seemsconcernedand</td>\n",
       "      <td>Pmicunursingadmit/progress7p-7amrisa54yomanwithmul</td>\n",
       "      <td>9882</td>\n",
       "      <td>146.0</td>\n",
       "      <td>12307.0</td>\n",
       "      <td>3042-06-29 05:26:00</td>\n",
       "      <td>3042-06-29 04:32:00</td>\n",
       "      <td>Nursing/other</td>\n",
       "      <td>3070.0</td>\n",
       "      <td>Pmicunursingadmit/progress7p-7amrisa54yomanwithmul</td>\n",
       "      <td>g,wantstobeupdatedwithanychanges-seemsconcernedand</td>\n",
       "      <td>NaN</td>\n",
       "      <td>NaN</td>\n",
       "      <td>NaT</td>\n",
       "      <td>NaN</td>\n",
       "      <td>NaN</td>\n",
       "      <td>NaN</td>\n",
       "      <td>NaN</td>\n",
       "      <td>NaN</td>\n",
       "      <td>NaN</td>\n",
       "    </tr>\n",
       "    <tr>\n",
       "      <th>4</th>\n",
       "      <td>Nursing/other</td>\n",
       "      <td>NaT</td>\n",
       "      <td>2780-04-13 14:52:00</td>\n",
       "      <td>190</td>\n",
       "      <td>9557.0</td>\n",
       "      <td>6</td>\n",
       "      <td>1311</td>\n",
       "      <td>ff751b526a693998c7dcf8dce1751fdf</td>\n",
       "      <td>2780-04-13 15:19:00</td>\n",
       "      <td>700.TxforHct&lt;28.ProtonixBID.NPOfornow.PtisDNR/DNI.</td>\n",
       "      <td>MICUnursingadmnotePtisyomaleadmfromwithUGIB.Seecar</td>\n",
       "      <td>7670</td>\n",
       "      <td>190.0</td>\n",
       "      <td>9557.0</td>\n",
       "      <td>2780-04-13 15:19:00</td>\n",
       "      <td>2780-04-13 14:52:00</td>\n",
       "      <td>Nursing/other</td>\n",
       "      <td>1311.0</td>\n",
       "      <td>MICUnursingadmnotePtisyomaleadmfromwithUGIB.Seecar</td>\n",
       "      <td>700.TxforHct&lt;28.ProtonixBID.NPOfornow.PtisDNR/DNI.</td>\n",
       "      <td>NaN</td>\n",
       "      <td>NaN</td>\n",
       "      <td>NaT</td>\n",
       "      <td>NaN</td>\n",
       "      <td>NaN</td>\n",
       "      <td>NaN</td>\n",
       "      <td>NaN</td>\n",
       "      <td>NaN</td>\n",
       "      <td>NaN</td>\n",
       "    </tr>\n",
       "  </tbody>\n",
       "</table>\n",
       "</div>"
      ],
      "text/plain": [
       "        category chartdate            charttime  hadm_id  icustay_id  index  \\\n",
       "0  Nursing/other       NaT  3033-07-09 00:56:00        2     30800.0      0   \n",
       "1  Nursing/other       NaT  3424-06-09 18:12:00       18      6331.0      2   \n",
       "2  Nursing/other       NaT  3108-05-01 09:51:00       45     28601.0      4   \n",
       "3  Nursing/other       NaT  3042-06-29 04:32:00      146     12307.0      5   \n",
       "4  Nursing/other       NaT  2780-04-13 14:52:00      190      9557.0      6   \n",
       "\n",
       "   length                               md5             realtime  \\\n",
       "0    1758  dd77b97f8b5da793773ceb4c56f32753  3033-07-09 01:22:00   \n",
       "1    1057  cd3717e9e2d408a1f75ac3052c677434  3424-06-09 18:29:00   \n",
       "2     869  544d2097e111b56c294d09cc40dbd4b8  3108-05-01 09:57:00   \n",
       "3    3070  b68ce445af04e1d28f24c72d5832282f  3042-06-29 05:26:00   \n",
       "4    1311  ff751b526a693998c7dcf8dce1751fdf  2780-04-13 15:19:00   \n",
       "\n",
       "                                              str_end  \\\n",
       "0  .Obtainfirststepbediftobepthereforanylenghtoftime.   \n",
       "1  ONARYFIBROSISIWITHPOSSLUNGBIOSPY.A/PSTABLETRANSFER   \n",
       "2  ATABGWHENPTRETURNS,WILLHAVERPTCHESTX-RAYUPONRETURN   \n",
       "3  g,wantstobeupdatedwithanychanges-seemsconcernedand   \n",
       "4  700.TxforHct<28.ProtonixBID.NPOfornow.PtisDNR/DNI.   \n",
       "\n",
       "                                            str_start  subject_id  hadm_id_m2  \\\n",
       "0  MICU/SICUNURSINGPROGRESSNOTE.SEECAREVIEWFOROBJECTI       24807         2.0   \n",
       "1  NURSINGACCEPTANCENOTE.PTTRANSFERREDFROMHOSPITALTRA        5097        18.0   \n",
       "2  NEURO;PTONPROPFOLAT25MCG/KG/MIN,GTTOFFPERSICUANDNE       23014        45.0   \n",
       "3  Pmicunursingadmit/progress7p-7amrisa54yomanwithmul        9882       146.0   \n",
       "4  MICUnursingadmnotePtisyomaleadmfromwithUGIB.Seecar        7670       190.0   \n",
       "\n",
       "   icustay_id_m2          realtime_m2         charttime_m2    category_m2  \\\n",
       "0        30800.0  3033-07-09 01:22:00  3033-07-09 00:56:00  Nursing/other   \n",
       "1         6331.0  3424-06-09 18:29:00  3424-06-09 18:12:00  Nursing/other   \n",
       "2        28601.0  3108-05-01 09:57:00  3108-05-01 09:51:00  Nursing/other   \n",
       "3        12307.0  3042-06-29 05:26:00  3042-06-29 04:32:00  Nursing/other   \n",
       "4         9557.0  2780-04-13 15:19:00  2780-04-13 14:52:00  Nursing/other   \n",
       "\n",
       "   length_m2                                        str_start_m2  \\\n",
       "0     1758.0  MICU/SICUNURSINGPROGRESSNOTE.SEECAREVIEWFOROBJECTI   \n",
       "1     1057.0  NURSINGACCEPTANCENOTE.PTTRANSFERREDFROMHOSPITALTRA   \n",
       "2      869.0  NEURO;PTONPROPFOLAT25MCG/KG/MIN,GTTOFFPERSICUANDNE   \n",
       "3     3070.0  Pmicunursingadmit/progress7p-7amrisa54yomanwithmul   \n",
       "4     1311.0  MICUnursingadmnotePtisyomaleadmfromwithUGIB.Seecar   \n",
       "\n",
       "                                           str_end_m2  row_id_m3  hadm_id_m3  \\\n",
       "0  .Obtainfirststepbediftobepthereforanylenghtoftime.        NaN         NaN   \n",
       "1  ONARYFIBROSISIWITHPOSSLUNGBIOSPY.A/PSTABLETRANSFER        NaN         NaN   \n",
       "2  ATABGWHENPTRETURNS,WILLHAVERPTCHESTX-RAYUPONRETURN        NaN         NaN   \n",
       "3  g,wantstobeupdatedwithanychanges-seemsconcernedand        NaN         NaN   \n",
       "4  700.TxforHct<28.ProtonixBID.NPOfornow.PtisDNR/DNI.        NaN         NaN   \n",
       "\n",
       "  chartdate_m3 charttime_m3 storetime_m3 category_m3  length_m3 str_start_m3  \\\n",
       "0          NaT          NaN          NaN         NaN        NaN          NaN   \n",
       "1          NaT          NaN          NaN         NaN        NaN          NaN   \n",
       "2          NaT          NaN          NaN         NaN        NaN          NaN   \n",
       "3          NaT          NaN          NaN         NaN        NaN          NaN   \n",
       "4          NaT          NaN          NaN         NaN        NaN          NaN   \n",
       "\n",
       "  str_end_m3  \n",
       "0        NaN  \n",
       "1        NaN  \n",
       "2        NaN  \n",
       "3        NaN  \n",
       "4        NaN  "
      ]
     },
     "execution_count": 61,
     "metadata": {},
     "output_type": "execute_result"
    }
   ],
   "source": [
    "m3_copy = m3_notes_meta.copy()\n",
    "m3_copy.columns = [c if c in ['subject_id', 'md5'] else c+'_m3' for c in m3_copy.columns]\n",
    "meta_m2_m3 = pd.merge(meta_with_m2, m3_copy, how='left', on=['subject_id', 'md5'], suffixes=['', '_m3'])\n",
    "meta_m2_m3.head(5)"
   ]
  },
  {
   "cell_type": "code",
   "execution_count": 62,
   "metadata": {
    "collapsed": false
   },
   "outputs": [
    {
     "data": {
      "text/plain": [
       "(1894, 29)"
      ]
     },
     "execution_count": 62,
     "metadata": {},
     "output_type": "execute_result"
    }
   ],
   "source": [
    "meta_m2_m3.shape"
   ]
  },
  {
   "cell_type": "code",
   "execution_count": 63,
   "metadata": {
    "collapsed": false
   },
   "outputs": [
    {
     "data": {
      "text/plain": [
       "999"
      ]
     },
     "execution_count": 63,
     "metadata": {},
     "output_type": "execute_result"
    }
   ],
   "source": [
    "(meta_m2_m3['category'] == 'Nursing/other').sum()"
   ]
  },
  {
   "cell_type": "code",
   "execution_count": 64,
   "metadata": {
    "collapsed": false
   },
   "outputs": [
    {
     "data": {
      "text/plain": [
       "895"
      ]
     },
     "execution_count": 64,
     "metadata": {},
     "output_type": "execute_result"
    }
   ],
   "source": [
    "(meta_m2_m3['category'] == 'Discharge summary').sum()"
   ]
  },
  {
   "cell_type": "code",
   "execution_count": 65,
   "metadata": {
    "collapsed": false
   },
   "outputs": [
    {
     "data": {
      "text/plain": [
       "0"
      ]
     },
     "execution_count": 65,
     "metadata": {},
     "output_type": "execute_result"
    }
   ],
   "source": [
    "meta_m2_m3['length_m3'].notnull().sum()"
   ]
  },
  {
   "cell_type": "code",
   "execution_count": 66,
   "metadata": {
    "collapsed": false
   },
   "outputs": [
    {
     "data": {
      "text/plain": [
       "998"
      ]
     },
     "execution_count": 66,
     "metadata": {},
     "output_type": "execute_result"
    }
   ],
   "source": [
    "meta_m2_m3['length_m2'].notnull().sum()"
   ]
  },
  {
   "cell_type": "code",
   "execution_count": 67,
   "metadata": {
    "collapsed": false
   },
   "outputs": [
    {
     "data": {
      "text/plain": [
       "998"
      ]
     },
     "execution_count": 67,
     "metadata": {},
     "output_type": "execute_result"
    }
   ],
   "source": [
    "((meta_m2_m3['category'] == 'Nursing/other') & meta_m2_m3['length_m2'].notnull()).sum()"
   ]
  },
  {
   "cell_type": "markdown",
   "metadata": {},
   "source": [
    "From this, almost all nursing notes were able to match to MIMIC 2, but nothing was able to match to MIMIC 3, and discharge summaries couldn't be matched at all.  Look into why discharge notes aren't matching to MIMIC 3..."
   ]
  },
  {
   "cell_type": "code",
   "execution_count": 68,
   "metadata": {
    "collapsed": false
   },
   "outputs": [
    {
     "data": {
      "text/plain": [
       "True"
      ]
     },
     "execution_count": 68,
     "metadata": {},
     "output_type": "execute_result"
    }
   ],
   "source": [
    "nurs_notes_meta.loc[0, 'md5'] in list(m2_notes_meta['md5'])"
   ]
  },
  {
   "cell_type": "code",
   "execution_count": 69,
   "metadata": {
    "collapsed": false
   },
   "outputs": [
    {
     "data": {
      "text/plain": [
       "False"
      ]
     },
     "execution_count": 69,
     "metadata": {},
     "output_type": "execute_result"
    }
   ],
   "source": [
    "nurs_notes_meta.loc[0, 'md5'] in list(m3_notes_meta['md5'])"
   ]
  },
  {
   "cell_type": "code",
   "execution_count": 70,
   "metadata": {
    "collapsed": false
   },
   "outputs": [
    {
     "data": {
      "text/plain": [
       "False"
      ]
     },
     "execution_count": 70,
     "metadata": {},
     "output_type": "execute_result"
    }
   ],
   "source": [
    "disch_notes_meta.loc[0, 'md5'] in list(m2_notes_meta['md5'])"
   ]
  },
  {
   "cell_type": "code",
   "execution_count": 71,
   "metadata": {
    "collapsed": false
   },
   "outputs": [
    {
     "data": {
      "text/plain": [
       "False"
      ]
     },
     "execution_count": 71,
     "metadata": {},
     "output_type": "execute_result"
    }
   ],
   "source": [
    "disch_notes_meta.loc[0, 'md5'] in list(m3_notes_meta['md5'])"
   ]
  },
  {
   "cell_type": "code",
   "execution_count": 72,
   "metadata": {
    "collapsed": false
   },
   "outputs": [
    {
     "data": {
      "text/plain": [
       "True"
      ]
     },
     "execution_count": 72,
     "metadata": {},
     "output_type": "execute_result"
    }
   ],
   "source": [
    "disch_notes_meta.loc[0, 'subject_id'] in list(m3_notes_meta['subject_id'])"
   ]
  },
  {
   "cell_type": "code",
   "execution_count": 73,
   "metadata": {
    "collapsed": false
   },
   "outputs": [
    {
     "data": {
      "text/plain": [
       "index                                                          0\n",
       "subject_id                                                  9973\n",
       "hadm_id                                                   100020\n",
       "icustay_id                                                   NaN\n",
       "chartdate                                    2142-12-10 00:00:00\n",
       "md5                             56f2598342cce321539d8975809d487c\n",
       "length                                                     16084\n",
       "str_start     :::Sex:MService:MEDICINEAllergies:Percocet/Bactrim\n",
       "str_end       Time:4:00.3.GASTROINTESTINALCLINICat:(Completedby:\n",
       "realtime                                     2142-12-10 00:00:00\n",
       "category                                       Discharge summary\n",
       "Name: 0, dtype: object"
      ]
     },
     "metadata": {},
     "output_type": "display_data"
    },
    {
     "data": {
      "text/html": [
       "<div>\n",
       "<table border=\"1\" class=\"dataframe\">\n",
       "  <thead>\n",
       "    <tr style=\"text-align: right;\">\n",
       "      <th></th>\n",
       "      <th>row_id</th>\n",
       "      <th>subject_id</th>\n",
       "      <th>hadm_id</th>\n",
       "      <th>chartdate</th>\n",
       "      <th>charttime</th>\n",
       "      <th>storetime</th>\n",
       "      <th>category</th>\n",
       "      <th>md5</th>\n",
       "      <th>length</th>\n",
       "      <th>str_start</th>\n",
       "      <th>str_end</th>\n",
       "    </tr>\n",
       "  </thead>\n",
       "  <tbody>\n",
       "    <tr>\n",
       "      <th>834</th>\n",
       "      <td>6876</td>\n",
       "      <td>9973</td>\n",
       "      <td>100020.0</td>\n",
       "      <td>2142-12-10</td>\n",
       "      <td>None</td>\n",
       "      <td>None</td>\n",
       "      <td>Discharge summary</td>\n",
       "      <td>10577fde1d173468a939ce3cf19f0926</td>\n",
       "      <td>16132</td>\n",
       "      <td>:::Sex:MService:MEDICINEAllergies:Percocet/Bactrim</td>\n",
       "      <td>2.,MDPhone:Date/Time:4:00.3.CLINICat:(Completedby:</td>\n",
       "    </tr>\n",
       "  </tbody>\n",
       "</table>\n",
       "</div>"
      ],
      "text/plain": [
       "     row_id  subject_id   hadm_id  chartdate charttime storetime  \\\n",
       "834    6876        9973  100020.0 2142-12-10      None      None   \n",
       "\n",
       "              category                               md5  length  \\\n",
       "834  Discharge summary  10577fde1d173468a939ce3cf19f0926   16132   \n",
       "\n",
       "                                              str_start  \\\n",
       "834  :::Sex:MService:MEDICINEAllergies:Percocet/Bactrim   \n",
       "\n",
       "                                                str_end  \n",
       "834  2.,MDPhone:Date/Time:4:00.3.CLINICat:(Completedby:  "
      ]
     },
     "execution_count": 73,
     "metadata": {},
     "output_type": "execute_result"
    }
   ],
   "source": [
    "subject_id = disch_notes_meta.loc[0, 'subject_id']\n",
    "note_length = disch_notes_meta.loc[0, 'length']\n",
    "display.display(disch_notes_meta.loc[0,:])\n",
    "m3_notes_meta.loc[(m3_notes_meta['subject_id'] == subject_id) &\n",
    "                 (np.abs(m3_notes_meta['length']-note_length) < 200)]"
   ]
  },
  {
   "cell_type": "code",
   "execution_count": 74,
   "metadata": {
    "collapsed": false
   },
   "outputs": [
    {
     "name": "stdout",
     "output_type": "stream",
     "text": [
      "Admission Date:  [**2142-11-30**]              Discharge Date:   [**2142-12-10**]\n",
      "\n",
      "Date of Birth:  [**2084-5-2**]             Sex:   M\n",
      "\n",
      "Service: MEDICINE\n",
      "\n",
      "Allergies:\n",
      "Percocet / Bactrim Ds / Lisinopril\n",
      "\n",
      "Attending:[**First Name3 (LF) 898**]\n",
      "Chief Complaint:\n",
      "hypotension\n",
      "\n",
      "Major Surgical or Invasive Procedure:\n",
      "none\n",
      "\n",
      "History of Present Illness:\n",
      "Mr. [**Known lastname 25925**] is a 58 yo m w/ multiple sclerosis and seizure\n",
      "disorder who presented to an OSH for delusions and AMS x 2 days.\n",
      "At OSH, he was n\n"
     ]
    }
   ],
   "source": [
    "db_note = conn3.execute(\"\"\"\n",
    "select text \n",
    "from mimiciii.noteevents \n",
    "where subject_id=9973 \n",
    "and category='Discharge summary'\n",
    "and md5(text)='10577fde1d173468a939ce3cf19f0926'\n",
    "\"\"\").fetchone()[0]\n",
    "print(db_note[:500])"
   ]
  },
  {
   "cell_type": "code",
   "execution_count": 75,
   "metadata": {
    "collapsed": false
   },
   "outputs": [
    {
     "name": "stdout",
     "output_type": "stream",
     "text": [
      "\n",
      "\n",
      "\n",
      "\n",
      "Admission Date:  [**2512-1-8**]              Discharge Date:   [**2512-1-18**]\n",
      "\n",
      "Date of Birth:  [**2453-6-10**]             Sex:   M\n",
      "\n",
      "Service: MEDICINE\n",
      "\n",
      "Allergies:\n",
      "Percocet / Bactrim Ds / Lisinopril\n",
      "\n",
      "Attending:[**First Name3 (LF) 886**]\n",
      "Chief Complaint:\n",
      "hypotension\n",
      "\n",
      "Major Surgical or Invasive Procedure:\n",
      "none\n",
      "\n",
      "History of Present Illness:\n",
      "Mr. [**Known patient lastname 25575**] is a 58 yo m w/ multiple sclerosis and seizure\n",
      "disorder who presented to an OSH for delusions and AMS x 2 days.\n",
      "At OSH\n"
     ]
    }
   ],
   "source": [
    "print(disch_notes.loc[0, 'text'][:500])"
   ]
  },
  {
   "cell_type": "markdown",
   "metadata": {},
   "source": [
    "From this we see that the notes in our annotation files nearly match the notes in MIMIC III, but de-identification processes have changed."
   ]
  },
  {
   "cell_type": "code",
   "execution_count": 76,
   "metadata": {
    "collapsed": false
   },
   "outputs": [
    {
     "data": {
      "text/plain": [
       "index                                                          0\n",
       "subject_id                                                  9973\n",
       "hadm_id                                                   100020\n",
       "icustay_id                                                   NaN\n",
       "chartdate                                    2142-12-10 00:00:00\n",
       "md5                             56f2598342cce321539d8975809d487c\n",
       "length                                                     16084\n",
       "str_start     :::Sex:MService:MEDICINEAllergies:Percocet/Bactrim\n",
       "str_end       Time:4:00.3.GASTROINTESTINALCLINICat:(Completedby:\n",
       "realtime                                     2142-12-10 00:00:00\n",
       "category                                       Discharge summary\n",
       "Name: 0, dtype: object"
      ]
     },
     "metadata": {},
     "output_type": "display_data"
    },
    {
     "data": {
      "text/html": [
       "<div>\n",
       "<table border=\"1\" class=\"dataframe\">\n",
       "  <thead>\n",
       "    <tr style=\"text-align: right;\">\n",
       "      <th></th>\n",
       "      <th>row_id</th>\n",
       "      <th>subject_id</th>\n",
       "      <th>hadm_id</th>\n",
       "      <th>chartdate</th>\n",
       "      <th>charttime</th>\n",
       "      <th>storetime</th>\n",
       "      <th>category</th>\n",
       "      <th>md5</th>\n",
       "      <th>length</th>\n",
       "      <th>str_start</th>\n",
       "      <th>str_end</th>\n",
       "    </tr>\n",
       "  </thead>\n",
       "  <tbody>\n",
       "    <tr>\n",
       "      <th>834</th>\n",
       "      <td>6876</td>\n",
       "      <td>9973</td>\n",
       "      <td>100020.0</td>\n",
       "      <td>2142-12-10</td>\n",
       "      <td>None</td>\n",
       "      <td>None</td>\n",
       "      <td>Discharge summary</td>\n",
       "      <td>10577fde1d173468a939ce3cf19f0926</td>\n",
       "      <td>16132</td>\n",
       "      <td>:::Sex:MService:MEDICINEAllergies:Percocet/Bactrim</td>\n",
       "      <td>2.,MDPhone:Date/Time:4:00.3.CLINICat:(Completedby:</td>\n",
       "    </tr>\n",
       "  </tbody>\n",
       "</table>\n",
       "</div>"
      ],
      "text/plain": [
       "     row_id  subject_id   hadm_id  chartdate charttime storetime  \\\n",
       "834    6876        9973  100020.0 2142-12-10      None      None   \n",
       "\n",
       "              category                               md5  length  \\\n",
       "834  Discharge summary  10577fde1d173468a939ce3cf19f0926   16132   \n",
       "\n",
       "                                              str_start  \\\n",
       "834  :::Sex:MService:MEDICINEAllergies:Percocet/Bactrim   \n",
       "\n",
       "                                                str_end  \n",
       "834  2.,MDPhone:Date/Time:4:00.3.CLINICat:(Completedby:  "
      ]
     },
     "execution_count": 76,
     "metadata": {},
     "output_type": "execute_result"
    }
   ],
   "source": [
    "note_ind = 0\n",
    "subject_id = disch_notes_meta.loc[note_ind, 'subject_id']\n",
    "hadm_id = disch_notes_meta.loc[note_ind, 'hadm_id']\n",
    "note_length = disch_notes_meta.loc[note_ind, 'length']\n",
    "chartdate = disch_notes_meta.loc[note_ind, 'chartdate']\n",
    "display.display(disch_notes_meta.loc[note_ind,:])\n",
    "m3_notes_meta.loc[(m3_notes_meta['subject_id'] == subject_id)]\n",
    "m3_notes_meta.loc[(m3_notes_meta['subject_id'] == subject_id) &\n",
    "                 (m3_notes_meta['hadm_id'] == hadm_id)]\n",
    "\n",
    "# m3_notes_meta.loc[(m3_notes_meta['subject_id'] == subject_id) &\n",
    "#                  (m3_notes_meta['chartdate'] == chartdate)]"
   ]
  },
  {
   "cell_type": "code",
   "execution_count": 77,
   "metadata": {
    "collapsed": false
   },
   "outputs": [
    {
     "data": {
      "text/plain": [
       "str"
      ]
     },
     "execution_count": 77,
     "metadata": {},
     "output_type": "execute_result"
    }
   ],
   "source": [
    "type('test')"
   ]
  },
  {
   "cell_type": "code",
   "execution_count": 78,
   "metadata": {
    "collapsed": false
   },
   "outputs": [
    {
     "data": {
      "text/html": [
       "<div>\n",
       "<table border=\"1\" class=\"dataframe\">\n",
       "  <thead>\n",
       "    <tr style=\"text-align: right;\">\n",
       "      <th></th>\n",
       "      <th>category</th>\n",
       "      <th>chartdate</th>\n",
       "      <th>charttime</th>\n",
       "      <th>hadm_id</th>\n",
       "      <th>icustay_id</th>\n",
       "      <th>index</th>\n",
       "      <th>length</th>\n",
       "      <th>md5</th>\n",
       "      <th>realtime</th>\n",
       "      <th>str_end</th>\n",
       "      <th>str_start</th>\n",
       "      <th>subject_id</th>\n",
       "      <th>hadm_id_m2</th>\n",
       "      <th>icustay_id_m2</th>\n",
       "      <th>realtime_m2</th>\n",
       "      <th>charttime_m2</th>\n",
       "      <th>category_m2</th>\n",
       "      <th>length_m2</th>\n",
       "      <th>str_start_m2</th>\n",
       "      <th>str_end_m2</th>\n",
       "      <th>row_id_m3</th>\n",
       "      <th>hadm_id_m3</th>\n",
       "      <th>chartdate_m3</th>\n",
       "      <th>charttime_m3</th>\n",
       "      <th>storetime_m3</th>\n",
       "      <th>md5_m3</th>\n",
       "      <th>length_m3</th>\n",
       "      <th>str_start_m3</th>\n",
       "      <th>str_end_m3</th>\n",
       "      <th>len_diff_pct</th>\n",
       "      <th>str_start_diff</th>\n",
       "      <th>str_end_diff</th>\n",
       "    </tr>\n",
       "  </thead>\n",
       "  <tbody>\n",
       "    <tr>\n",
       "      <th>35</th>\n",
       "      <td>Nursing/other</td>\n",
       "      <td>NaT</td>\n",
       "      <td>3033-07-09 00:56:00</td>\n",
       "      <td>2</td>\n",
       "      <td>30800.0</td>\n",
       "      <td>0</td>\n",
       "      <td>1758</td>\n",
       "      <td>dd77b97f8b5da793773ceb4c56f32753</td>\n",
       "      <td>3033-07-09 01:22:00</td>\n",
       "      <td>.Obtainfirststepbediftobepthereforanylenghtoftime.</td>\n",
       "      <td>MICU/SICUNURSINGPROGRESSNOTE.SEECAREVIEWFOROBJECTI</td>\n",
       "      <td>24807</td>\n",
       "      <td>2.0</td>\n",
       "      <td>30800.0</td>\n",
       "      <td>3033-07-09 01:22:00</td>\n",
       "      <td>3033-07-09 00:56:00</td>\n",
       "      <td>Nursing/other</td>\n",
       "      <td>1758.0</td>\n",
       "      <td>MICU/SICUNURSINGPROGRESSNOTE.SEECAREVIEWFOROBJECTI</td>\n",
       "      <td>.Obtainfirststepbediftobepthereforanylenghtoftime.</td>\n",
       "      <td>1584558.0</td>\n",
       "      <td>152277.0</td>\n",
       "      <td>2145-06-29</td>\n",
       "      <td>2145-06-29 01:56:00</td>\n",
       "      <td>2145-06-29 02:22:00</td>\n",
       "      <td>31191f6b369f41481ac3af0aada9cece</td>\n",
       "      <td>1757.0</td>\n",
       "      <td>MICU/SICUNURSINGPROGRESSNOTE.SEECAREVIEWFOROBJECTI</td>\n",
       "      <td>.Obtainfirststepbediftobepthereforanylenghtoftime.</td>\n",
       "      <td>0.000569</td>\n",
       "      <td>0.0</td>\n",
       "      <td>0.00</td>\n",
       "    </tr>\n",
       "    <tr>\n",
       "      <th>78</th>\n",
       "      <td>Nursing/other</td>\n",
       "      <td>NaT</td>\n",
       "      <td>3424-06-09 18:12:00</td>\n",
       "      <td>18</td>\n",
       "      <td>6331.0</td>\n",
       "      <td>2</td>\n",
       "      <td>1057</td>\n",
       "      <td>cd3717e9e2d408a1f75ac3052c677434</td>\n",
       "      <td>3424-06-09 18:29:00</td>\n",
       "      <td>ONARYFIBROSISIWITHPOSSLUNGBIOSPY.A/PSTABLETRANSFER</td>\n",
       "      <td>NURSINGACCEPTANCENOTE.PTTRANSFERREDFROMHOSPITALTRA</td>\n",
       "      <td>5097</td>\n",
       "      <td>18.0</td>\n",
       "      <td>6331.0</td>\n",
       "      <td>3424-06-09 18:29:00</td>\n",
       "      <td>3424-06-09 18:12:00</td>\n",
       "      <td>Nursing/other</td>\n",
       "      <td>1057.0</td>\n",
       "      <td>NURSINGACCEPTANCENOTE.PTTRANSFERREDFROMHOSPITALTRA</td>\n",
       "      <td>ONARYFIBROSISIWITHPOSSLUNGBIOSPY.A/PSTABLETRANSFER</td>\n",
       "      <td>1329048.0</td>\n",
       "      <td>123560.0</td>\n",
       "      <td>2156-06-23</td>\n",
       "      <td>2156-06-23 19:12:00</td>\n",
       "      <td>2156-06-23 19:29:00</td>\n",
       "      <td>1523a8cad35a8522efcb9204ba422e78</td>\n",
       "      <td>1068.0</td>\n",
       "      <td>NURSINGACCEPTANCENOTE.PTTRANSFERREDFROMHOSPITALTRA</td>\n",
       "      <td>ONARYFIBROSISIWITHPOSSLUNGBIOSPY.A/PSTABLETRANSFER</td>\n",
       "      <td>0.010407</td>\n",
       "      <td>0.0</td>\n",
       "      <td>0.00</td>\n",
       "    </tr>\n",
       "    <tr>\n",
       "      <th>304</th>\n",
       "      <td>Nursing/other</td>\n",
       "      <td>NaT</td>\n",
       "      <td>3042-06-29 04:32:00</td>\n",
       "      <td>146</td>\n",
       "      <td>12307.0</td>\n",
       "      <td>5</td>\n",
       "      <td>3070</td>\n",
       "      <td>b68ce445af04e1d28f24c72d5832282f</td>\n",
       "      <td>3042-06-29 05:26:00</td>\n",
       "      <td>g,wantstobeupdatedwithanychanges-seemsconcernedand</td>\n",
       "      <td>Pmicunursingadmit/progress7p-7amrisa54yomanwithmul</td>\n",
       "      <td>9882</td>\n",
       "      <td>146.0</td>\n",
       "      <td>12307.0</td>\n",
       "      <td>3042-06-29 05:26:00</td>\n",
       "      <td>3042-06-29 04:32:00</td>\n",
       "      <td>Nursing/other</td>\n",
       "      <td>3070.0</td>\n",
       "      <td>Pmicunursingadmit/progress7p-7amrisa54yomanwithmul</td>\n",
       "      <td>g,wantstobeupdatedwithanychanges-seemsconcernedand</td>\n",
       "      <td>1392593.0</td>\n",
       "      <td>120908.0</td>\n",
       "      <td>2151-05-26</td>\n",
       "      <td>2151-05-26 05:32:00</td>\n",
       "      <td>2151-05-26 06:26:00</td>\n",
       "      <td>6c81cf3fcc35e16ef82e798c84e0d927</td>\n",
       "      <td>3084.0</td>\n",
       "      <td>Pmicunursingadmit/progress7p-7amrisa54yomanwithmul</td>\n",
       "      <td>g,wantstobeupdatedwithanychanges-seemsconcernedand</td>\n",
       "      <td>0.004560</td>\n",
       "      <td>0.0</td>\n",
       "      <td>0.00</td>\n",
       "    </tr>\n",
       "    <tr>\n",
       "      <th>339</th>\n",
       "      <td>Nursing/other</td>\n",
       "      <td>NaT</td>\n",
       "      <td>2780-04-13 14:52:00</td>\n",
       "      <td>190</td>\n",
       "      <td>9557.0</td>\n",
       "      <td>6</td>\n",
       "      <td>1311</td>\n",
       "      <td>ff751b526a693998c7dcf8dce1751fdf</td>\n",
       "      <td>2780-04-13 15:19:00</td>\n",
       "      <td>700.TxforHct&lt;28.ProtonixBID.NPOfornow.PtisDNR/DNI.</td>\n",
       "      <td>MICUnursingadmnotePtisyomaleadmfromwithUGIB.Seecar</td>\n",
       "      <td>7670</td>\n",
       "      <td>190.0</td>\n",
       "      <td>9557.0</td>\n",
       "      <td>2780-04-13 15:19:00</td>\n",
       "      <td>2780-04-13 14:52:00</td>\n",
       "      <td>Nursing/other</td>\n",
       "      <td>1311.0</td>\n",
       "      <td>MICUnursingadmnotePtisyomaleadmfromwithUGIB.Seecar</td>\n",
       "      <td>700.TxforHct&lt;28.ProtonixBID.NPOfornow.PtisDNR/DNI.</td>\n",
       "      <td>1365393.0</td>\n",
       "      <td>131440.0</td>\n",
       "      <td>2178-05-10</td>\n",
       "      <td>2178-05-10 15:52:00</td>\n",
       "      <td>2178-05-10 16:19:00</td>\n",
       "      <td>d739b3e262bd69531192583048a28624</td>\n",
       "      <td>1322.0</td>\n",
       "      <td>MICUnursingadmnotePtisyomaleadmfromwithUGIB.Seecar</td>\n",
       "      <td>ue1700.TxforHct&lt;28.Protonix.NPOfornow.PtisDNR/DNI.</td>\n",
       "      <td>0.008391</td>\n",
       "      <td>0.0</td>\n",
       "      <td>0.06</td>\n",
       "    </tr>\n",
       "    <tr>\n",
       "      <th>392</th>\n",
       "      <td>Nursing/other</td>\n",
       "      <td>NaT</td>\n",
       "      <td>2673-04-02 17:40:00</td>\n",
       "      <td>212</td>\n",
       "      <td>30507.0</td>\n",
       "      <td>9</td>\n",
       "      <td>291</td>\n",
       "      <td>3ea27b7ed36b5017c384ec9a443c21fa</td>\n",
       "      <td>2673-04-02 17:42:00</td>\n",
       "      <td>.0/5/5.PT.PROBABLYTOBEWEANEDANDEXTUBATEDLATER.,RRT</td>\n",
       "      <td>RESPIRATORYCARE:PT.ISS/PCABGTODAY.FROMORTOCSRU.7.5</td>\n",
       "      <td>24573</td>\n",
       "      <td>212.0</td>\n",
       "      <td>30507.0</td>\n",
       "      <td>2673-04-02 17:42:00</td>\n",
       "      <td>2673-04-02 17:40:00</td>\n",
       "      <td>Nursing/other</td>\n",
       "      <td>291.0</td>\n",
       "      <td>RESPIRATORYCARE:PT.ISS/PCABGTODAY.FROMORTOCSRU.7.5</td>\n",
       "      <td>.0/5/5.PT.PROBABLYTOBEWEANEDANDEXTUBATEDLATER.,RRT</td>\n",
       "      <td>1581483.0</td>\n",
       "      <td>102522.0</td>\n",
       "      <td>2126-03-06</td>\n",
       "      <td>2126-03-06 17:40:00</td>\n",
       "      <td>2126-03-06 17:42:00</td>\n",
       "      <td>7f53514ef2bbb3c01b722391d1807930</td>\n",
       "      <td>289.0</td>\n",
       "      <td>RESPIRATORYCARE:PT.ISS/PCABGTODAY.FROMORTOCSRU.7.5</td>\n",
       "      <td>.0/5/5.PT.PROBABLYTOBEWEANEDANDEXTUBATEDLATER.,RRT</td>\n",
       "      <td>0.006873</td>\n",
       "      <td>0.0</td>\n",
       "      <td>0.00</td>\n",
       "    </tr>\n",
       "  </tbody>\n",
       "</table>\n",
       "</div>"
      ],
      "text/plain": [
       "          category chartdate            charttime  hadm_id  icustay_id  index  \\\n",
       "35   Nursing/other       NaT  3033-07-09 00:56:00        2     30800.0      0   \n",
       "78   Nursing/other       NaT  3424-06-09 18:12:00       18      6331.0      2   \n",
       "304  Nursing/other       NaT  3042-06-29 04:32:00      146     12307.0      5   \n",
       "339  Nursing/other       NaT  2780-04-13 14:52:00      190      9557.0      6   \n",
       "392  Nursing/other       NaT  2673-04-02 17:40:00      212     30507.0      9   \n",
       "\n",
       "     length                               md5             realtime  \\\n",
       "35     1758  dd77b97f8b5da793773ceb4c56f32753  3033-07-09 01:22:00   \n",
       "78     1057  cd3717e9e2d408a1f75ac3052c677434  3424-06-09 18:29:00   \n",
       "304    3070  b68ce445af04e1d28f24c72d5832282f  3042-06-29 05:26:00   \n",
       "339    1311  ff751b526a693998c7dcf8dce1751fdf  2780-04-13 15:19:00   \n",
       "392     291  3ea27b7ed36b5017c384ec9a443c21fa  2673-04-02 17:42:00   \n",
       "\n",
       "                                                str_end  \\\n",
       "35   .Obtainfirststepbediftobepthereforanylenghtoftime.   \n",
       "78   ONARYFIBROSISIWITHPOSSLUNGBIOSPY.A/PSTABLETRANSFER   \n",
       "304  g,wantstobeupdatedwithanychanges-seemsconcernedand   \n",
       "339  700.TxforHct<28.ProtonixBID.NPOfornow.PtisDNR/DNI.   \n",
       "392  .0/5/5.PT.PROBABLYTOBEWEANEDANDEXTUBATEDLATER.,RRT   \n",
       "\n",
       "                                              str_start  subject_id  \\\n",
       "35   MICU/SICUNURSINGPROGRESSNOTE.SEECAREVIEWFOROBJECTI       24807   \n",
       "78   NURSINGACCEPTANCENOTE.PTTRANSFERREDFROMHOSPITALTRA        5097   \n",
       "304  Pmicunursingadmit/progress7p-7amrisa54yomanwithmul        9882   \n",
       "339  MICUnursingadmnotePtisyomaleadmfromwithUGIB.Seecar        7670   \n",
       "392  RESPIRATORYCARE:PT.ISS/PCABGTODAY.FROMORTOCSRU.7.5       24573   \n",
       "\n",
       "     hadm_id_m2  icustay_id_m2          realtime_m2         charttime_m2  \\\n",
       "35          2.0        30800.0  3033-07-09 01:22:00  3033-07-09 00:56:00   \n",
       "78         18.0         6331.0  3424-06-09 18:29:00  3424-06-09 18:12:00   \n",
       "304       146.0        12307.0  3042-06-29 05:26:00  3042-06-29 04:32:00   \n",
       "339       190.0         9557.0  2780-04-13 15:19:00  2780-04-13 14:52:00   \n",
       "392       212.0        30507.0  2673-04-02 17:42:00  2673-04-02 17:40:00   \n",
       "\n",
       "       category_m2  length_m2  \\\n",
       "35   Nursing/other     1758.0   \n",
       "78   Nursing/other     1057.0   \n",
       "304  Nursing/other     3070.0   \n",
       "339  Nursing/other     1311.0   \n",
       "392  Nursing/other      291.0   \n",
       "\n",
       "                                           str_start_m2  \\\n",
       "35   MICU/SICUNURSINGPROGRESSNOTE.SEECAREVIEWFOROBJECTI   \n",
       "78   NURSINGACCEPTANCENOTE.PTTRANSFERREDFROMHOSPITALTRA   \n",
       "304  Pmicunursingadmit/progress7p-7amrisa54yomanwithmul   \n",
       "339  MICUnursingadmnotePtisyomaleadmfromwithUGIB.Seecar   \n",
       "392  RESPIRATORYCARE:PT.ISS/PCABGTODAY.FROMORTOCSRU.7.5   \n",
       "\n",
       "                                             str_end_m2  row_id_m3  \\\n",
       "35   .Obtainfirststepbediftobepthereforanylenghtoftime.  1584558.0   \n",
       "78   ONARYFIBROSISIWITHPOSSLUNGBIOSPY.A/PSTABLETRANSFER  1329048.0   \n",
       "304  g,wantstobeupdatedwithanychanges-seemsconcernedand  1392593.0   \n",
       "339  700.TxforHct<28.ProtonixBID.NPOfornow.PtisDNR/DNI.  1365393.0   \n",
       "392  .0/5/5.PT.PROBABLYTOBEWEANEDANDEXTUBATEDLATER.,RRT  1581483.0   \n",
       "\n",
       "     hadm_id_m3 chartdate_m3         charttime_m3         storetime_m3  \\\n",
       "35     152277.0   2145-06-29  2145-06-29 01:56:00  2145-06-29 02:22:00   \n",
       "78     123560.0   2156-06-23  2156-06-23 19:12:00  2156-06-23 19:29:00   \n",
       "304    120908.0   2151-05-26  2151-05-26 05:32:00  2151-05-26 06:26:00   \n",
       "339    131440.0   2178-05-10  2178-05-10 15:52:00  2178-05-10 16:19:00   \n",
       "392    102522.0   2126-03-06  2126-03-06 17:40:00  2126-03-06 17:42:00   \n",
       "\n",
       "                               md5_m3  length_m3  \\\n",
       "35   31191f6b369f41481ac3af0aada9cece     1757.0   \n",
       "78   1523a8cad35a8522efcb9204ba422e78     1068.0   \n",
       "304  6c81cf3fcc35e16ef82e798c84e0d927     3084.0   \n",
       "339  d739b3e262bd69531192583048a28624     1322.0   \n",
       "392  7f53514ef2bbb3c01b722391d1807930      289.0   \n",
       "\n",
       "                                           str_start_m3  \\\n",
       "35   MICU/SICUNURSINGPROGRESSNOTE.SEECAREVIEWFOROBJECTI   \n",
       "78   NURSINGACCEPTANCENOTE.PTTRANSFERREDFROMHOSPITALTRA   \n",
       "304  Pmicunursingadmit/progress7p-7amrisa54yomanwithmul   \n",
       "339  MICUnursingadmnotePtisyomaleadmfromwithUGIB.Seecar   \n",
       "392  RESPIRATORYCARE:PT.ISS/PCABGTODAY.FROMORTOCSRU.7.5   \n",
       "\n",
       "                                             str_end_m3  len_diff_pct  \\\n",
       "35   .Obtainfirststepbediftobepthereforanylenghtoftime.      0.000569   \n",
       "78   ONARYFIBROSISIWITHPOSSLUNGBIOSPY.A/PSTABLETRANSFER      0.010407   \n",
       "304  g,wantstobeupdatedwithanychanges-seemsconcernedand      0.004560   \n",
       "339  ue1700.TxforHct<28.Protonix.NPOfornow.PtisDNR/DNI.      0.008391   \n",
       "392  .0/5/5.PT.PROBABLYTOBEWEANEDANDEXTUBATEDLATER.,RRT      0.006873   \n",
       "\n",
       "     str_start_diff  str_end_diff  \n",
       "35              0.0          0.00  \n",
       "78              0.0          0.00  \n",
       "304             0.0          0.00  \n",
       "339             0.0          0.06  \n",
       "392             0.0          0.00  "
      ]
     },
     "execution_count": 78,
     "metadata": {},
     "output_type": "execute_result"
    }
   ],
   "source": [
    "m3_copy = m3_notes_meta.copy()\n",
    "join_cols = ['subject_id', 'category']\n",
    "m3_copy.columns = [c if c in join_cols else c+'_m3' for c in m3_copy.columns]\n",
    "meta_m2_m3 = pd.merge(meta_with_m2, m3_copy, how='left', on=join_cols, suffixes=['', '_m3'])\n",
    "meta_m2_m3['len_diff_pct'] = np.abs(meta_m2_m3['length'] - meta_m2_m3['length_m3'])/meta_m2_m3['length']\n",
    "meta_m2_m3['str_start_diff'] = meta_m2_m3.apply(lambda r: meu.similar(r['str_start'], r['str_start_m3']), axis=1)\n",
    "meta_m2_m3['str_end_diff'] = meta_m2_m3.apply(lambda r: meu.similar(r['str_end'], r['str_end_m3']), axis=1)\n",
    "meta_m2_m3 = meta_m2_m3.loc[meta_m2_m3['len_diff_pct'].isnull() |\n",
    "                           ((meta_m2_m3['len_diff_pct'] < .1) &\n",
    "                           (meta_m2_m3['str_start_diff'] < .1) & (meta_m2_m3['str_end_diff'] < .2))]\n",
    "#meta_m2_m3 = meta_m2_m3.loc[(meta_m2_m3['len_diff_pct'] < .05)].sort_values('len_diff_pct', ascending=False)\n",
    "meta_m2_m3.head(5)"
   ]
  },
  {
   "cell_type": "code",
   "execution_count": 79,
   "metadata": {
    "collapsed": false
   },
   "outputs": [
    {
     "data": {
      "text/plain": [
       "(1892, 32)"
      ]
     },
     "execution_count": 79,
     "metadata": {},
     "output_type": "execute_result"
    }
   ],
   "source": [
    "meta_m2_m3.shape"
   ]
  },
  {
   "cell_type": "code",
   "execution_count": 80,
   "metadata": {
    "collapsed": false
   },
   "outputs": [
    {
     "data": {
      "text/plain": [
       "(1894, 12)"
      ]
     },
     "execution_count": 80,
     "metadata": {},
     "output_type": "execute_result"
    }
   ],
   "source": [
    "ann_notes_meta.shape"
   ]
  },
  {
   "cell_type": "code",
   "execution_count": 81,
   "metadata": {
    "collapsed": false
   },
   "outputs": [
    {
     "data": {
      "text/plain": [
       "962"
      ]
     },
     "execution_count": 81,
     "metadata": {},
     "output_type": "execute_result"
    }
   ],
   "source": [
    "(meta_m2_m3['category'] == 'Nursing/other').sum()"
   ]
  },
  {
   "cell_type": "code",
   "execution_count": 82,
   "metadata": {
    "collapsed": false
   },
   "outputs": [
    {
     "data": {
      "text/plain": [
       "930"
      ]
     },
     "execution_count": 82,
     "metadata": {},
     "output_type": "execute_result"
    }
   ],
   "source": [
    "(meta_m2_m3['category'] == 'Discharge summary').sum()"
   ]
  },
  {
   "cell_type": "code",
   "execution_count": 83,
   "metadata": {
    "collapsed": false
   },
   "outputs": [
    {
     "data": {
      "text/plain": [
       "1885"
      ]
     },
     "execution_count": 83,
     "metadata": {},
     "output_type": "execute_result"
    }
   ],
   "source": [
    "meta_m2_m3['length_m3'].notnull().sum()"
   ]
  },
  {
   "cell_type": "code",
   "execution_count": 84,
   "metadata": {
    "collapsed": false
   },
   "outputs": [
    {
     "data": {
      "text/plain": [
       "961"
      ]
     },
     "execution_count": 84,
     "metadata": {},
     "output_type": "execute_result"
    }
   ],
   "source": [
    "meta_m2_m3['length_m2'].notnull().sum()"
   ]
  },
  {
   "cell_type": "code",
   "execution_count": 85,
   "metadata": {
    "collapsed": false
   },
   "outputs": [
    {
     "data": {
      "text/plain": [
       "961"
      ]
     },
     "execution_count": 85,
     "metadata": {},
     "output_type": "execute_result"
    }
   ],
   "source": [
    "((meta_m2_m3['category'] == 'Nursing/other') & meta_m2_m3['length_m2'].notnull()).sum()"
   ]
  },
  {
   "cell_type": "code",
   "execution_count": 86,
   "metadata": {
    "collapsed": false
   },
   "outputs": [
    {
     "data": {
      "text/plain": [
       "(999,)"
      ]
     },
     "execution_count": 86,
     "metadata": {},
     "output_type": "execute_result"
    }
   ],
   "source": [
    "ann_notes_meta.loc[ann_notes_meta['category'] == 'Nursing/other', 'md5'].unique().shape"
   ]
  },
  {
   "cell_type": "code",
   "execution_count": 87,
   "metadata": {
    "collapsed": false
   },
   "outputs": [
    {
     "data": {
      "text/plain": [
       "(850,)"
      ]
     },
     "execution_count": 87,
     "metadata": {},
     "output_type": "execute_result"
    }
   ],
   "source": [
    "ann_notes_meta.loc[ann_notes_meta['category'] == 'Discharge summary', 'md5'].unique().shape"
   ]
  },
  {
   "cell_type": "code",
   "execution_count": 88,
   "metadata": {
    "collapsed": false
   },
   "outputs": [
    {
     "data": {
      "text/plain": [
       "(999,)"
      ]
     },
     "execution_count": 88,
     "metadata": {},
     "output_type": "execute_result"
    }
   ],
   "source": [
    "ann_notes_meta.loc[ann_notes_meta['category'] == 'Nursing/other', 'md5'].unique().shape"
   ]
  },
  {
   "cell_type": "code",
   "execution_count": 89,
   "metadata": {
    "collapsed": false
   },
   "outputs": [
    {
     "data": {
      "text/plain": [
       "(848,)"
      ]
     },
     "execution_count": 89,
     "metadata": {},
     "output_type": "execute_result"
    }
   ],
   "source": [
    "meta_m2_m3.loc[meta_m2_m3['category'] == 'Discharge summary', 'md5'].unique().shape"
   ]
  },
  {
   "cell_type": "code",
   "execution_count": 90,
   "metadata": {
    "collapsed": false
   },
   "outputs": [
    {
     "data": {
      "text/plain": [
       "(962,)"
      ]
     },
     "execution_count": 90,
     "metadata": {},
     "output_type": "execute_result"
    }
   ],
   "source": [
    "meta_m2_m3.loc[meta_m2_m3['category'] == 'Nursing/other', 'md5'].unique().shape"
   ]
  },
  {
   "cell_type": "markdown",
   "metadata": {},
   "source": [
    "Now almost all notes are matched to MIMIC 3, but have multiple potential matches.  We need to choose the best match in each group..."
   ]
  },
  {
   "cell_type": "code",
   "execution_count": 91,
   "metadata": {
    "collapsed": false
   },
   "outputs": [
    {
     "data": {
      "text/plain": [
       "subject_id  category           md5                             \n",
       "808         Discharge summary  74daffdc6966b4cfefd5715014a80bdc    4\n",
       "5239        Discharge summary  68d6e187035ae3f48b6ca643e342efee    4\n",
       "5205        Discharge summary  cc71c046e575c30e49c6aa2a59f7fb2d    3\n",
       "16112       Discharge summary  71549cf46bfab3260a09492929b37764    3\n",
       "5205        Discharge summary  85fb9e679596b05e7864d121f3385d6f    3\n",
       "                               a194fd48b16e3e58a92cac5ee605c946    3\n",
       "16112       Discharge summary  1687ca2c1a63d73ea81d646dcb74daeb    3\n",
       "                               e7156262a57f9d54e35a4c393d7db7f4    3\n",
       "5727        Discharge summary  eef853d03d5d51db83892eb122195ad3    3\n",
       "4064        Discharge summary  4bd226631baf9aad8d00ff0a11c871ed    3\n",
       "Name: length, dtype: int64"
      ]
     },
     "execution_count": 91,
     "metadata": {},
     "output_type": "execute_result"
    }
   ],
   "source": [
    "meta_m2_m3.groupby(['subject_id', 'category', 'md5'])['length'].count().sort_values(ascending=False).head(10)"
   ]
  },
  {
   "cell_type": "code",
   "execution_count": 92,
   "metadata": {
    "collapsed": false
   },
   "outputs": [
    {
     "data": {
      "text/html": [
       "<div>\n",
       "<table border=\"1\" class=\"dataframe\">\n",
       "  <thead>\n",
       "    <tr style=\"text-align: right;\">\n",
       "      <th></th>\n",
       "      <th>category</th>\n",
       "      <th>chartdate</th>\n",
       "      <th>charttime</th>\n",
       "      <th>hadm_id</th>\n",
       "      <th>icustay_id</th>\n",
       "      <th>index</th>\n",
       "      <th>length</th>\n",
       "      <th>md5</th>\n",
       "      <th>realtime</th>\n",
       "      <th>str_end</th>\n",
       "      <th>str_start</th>\n",
       "      <th>subject_id</th>\n",
       "      <th>hadm_id_m2</th>\n",
       "      <th>icustay_id_m2</th>\n",
       "      <th>realtime_m2</th>\n",
       "      <th>charttime_m2</th>\n",
       "      <th>category_m2</th>\n",
       "      <th>length_m2</th>\n",
       "      <th>str_start_m2</th>\n",
       "      <th>str_end_m2</th>\n",
       "      <th>row_id_m3</th>\n",
       "      <th>hadm_id_m3</th>\n",
       "      <th>chartdate_m3</th>\n",
       "      <th>charttime_m3</th>\n",
       "      <th>storetime_m3</th>\n",
       "      <th>md5_m3</th>\n",
       "      <th>length_m3</th>\n",
       "      <th>str_start_m3</th>\n",
       "      <th>str_end_m3</th>\n",
       "      <th>len_diff_pct</th>\n",
       "      <th>str_start_diff</th>\n",
       "      <th>str_end_diff</th>\n",
       "    </tr>\n",
       "  </thead>\n",
       "  <tbody>\n",
       "    <tr>\n",
       "      <th>85774</th>\n",
       "      <td>Discharge summary</td>\n",
       "      <td>2142-12-10</td>\n",
       "      <td>NaN</td>\n",
       "      <td>139077</td>\n",
       "      <td>NaN</td>\n",
       "      <td>690</td>\n",
       "      <td>10538</td>\n",
       "      <td>74daffdc6966b4cfefd5715014a80bdc</td>\n",
       "      <td>2142-12-10 00:00:00</td>\n",
       "      <td>:Date/Time:11:30Provider:,M.D.Phone:Date/Time:1:00</td>\n",
       "      <td>:::Sex:FService:MEDICINEAllergies:Patientrecordeda</td>\n",
       "      <td>808</td>\n",
       "      <td>NaN</td>\n",
       "      <td>NaN</td>\n",
       "      <td>NaN</td>\n",
       "      <td>NaN</td>\n",
       "      <td>NaN</td>\n",
       "      <td>NaN</td>\n",
       "      <td>NaN</td>\n",
       "      <td>NaN</td>\n",
       "      <td>3776.0</td>\n",
       "      <td>139077.0</td>\n",
       "      <td>2181-05-16</td>\n",
       "      <td>None</td>\n",
       "      <td>None</td>\n",
       "      <td>206805bd6a6857e866c557f683554609</td>\n",
       "      <td>10543.0</td>\n",
       "      <td>:::Sex:FService:MEDICINEAllergies:Patientrecordeda</td>\n",
       "      <td>:Date/Time:11:30Provider:,M.D.Phone:Date/Time:1:00</td>\n",
       "      <td>0.000474</td>\n",
       "      <td>0.0</td>\n",
       "      <td>0.0</td>\n",
       "    </tr>\n",
       "    <tr>\n",
       "      <th>85775</th>\n",
       "      <td>Discharge summary</td>\n",
       "      <td>2142-12-10</td>\n",
       "      <td>NaN</td>\n",
       "      <td>139077</td>\n",
       "      <td>NaN</td>\n",
       "      <td>690</td>\n",
       "      <td>10538</td>\n",
       "      <td>74daffdc6966b4cfefd5715014a80bdc</td>\n",
       "      <td>2142-12-10 00:00:00</td>\n",
       "      <td>:Date/Time:11:30Provider:,M.D.Phone:Date/Time:1:00</td>\n",
       "      <td>:::Sex:FService:MEDICINEAllergies:Patientrecordeda</td>\n",
       "      <td>808</td>\n",
       "      <td>NaN</td>\n",
       "      <td>NaN</td>\n",
       "      <td>NaN</td>\n",
       "      <td>NaN</td>\n",
       "      <td>NaN</td>\n",
       "      <td>NaN</td>\n",
       "      <td>NaN</td>\n",
       "      <td>NaN</td>\n",
       "      <td>3777.0</td>\n",
       "      <td>125152.0</td>\n",
       "      <td>2181-06-06</td>\n",
       "      <td>None</td>\n",
       "      <td>None</td>\n",
       "      <td>7b21d1732ea01398d359ac49e502d610</td>\n",
       "      <td>11472.0</td>\n",
       "      <td>:::Sex:FService:MEDICINEAllergies:Patientrecordeda</td>\n",
       "      <td>ne:Date/Time:1:00Provider:,.D.Phone:Date/Time:9:40</td>\n",
       "      <td>0.088632</td>\n",
       "      <td>0.0</td>\n",
       "      <td>0.1</td>\n",
       "    </tr>\n",
       "    <tr>\n",
       "      <th>85781</th>\n",
       "      <td>Discharge summary</td>\n",
       "      <td>2142-12-10</td>\n",
       "      <td>NaN</td>\n",
       "      <td>139077</td>\n",
       "      <td>NaN</td>\n",
       "      <td>692</td>\n",
       "      <td>10538</td>\n",
       "      <td>74daffdc6966b4cfefd5715014a80bdc</td>\n",
       "      <td>2142-12-10 00:00:00</td>\n",
       "      <td>:Date/Time:11:30Provider:,M.D.Phone:Date/Time:1:00</td>\n",
       "      <td>:::Sex:FService:MEDICINEAllergies:Patientrecordeda</td>\n",
       "      <td>808</td>\n",
       "      <td>NaN</td>\n",
       "      <td>NaN</td>\n",
       "      <td>NaN</td>\n",
       "      <td>NaN</td>\n",
       "      <td>NaN</td>\n",
       "      <td>NaN</td>\n",
       "      <td>NaN</td>\n",
       "      <td>NaN</td>\n",
       "      <td>3776.0</td>\n",
       "      <td>139077.0</td>\n",
       "      <td>2181-05-16</td>\n",
       "      <td>None</td>\n",
       "      <td>None</td>\n",
       "      <td>206805bd6a6857e866c557f683554609</td>\n",
       "      <td>10543.0</td>\n",
       "      <td>:::Sex:FService:MEDICINEAllergies:Patientrecordeda</td>\n",
       "      <td>:Date/Time:11:30Provider:,M.D.Phone:Date/Time:1:00</td>\n",
       "      <td>0.000474</td>\n",
       "      <td>0.0</td>\n",
       "      <td>0.0</td>\n",
       "    </tr>\n",
       "    <tr>\n",
       "      <th>85782</th>\n",
       "      <td>Discharge summary</td>\n",
       "      <td>2142-12-10</td>\n",
       "      <td>NaN</td>\n",
       "      <td>139077</td>\n",
       "      <td>NaN</td>\n",
       "      <td>692</td>\n",
       "      <td>10538</td>\n",
       "      <td>74daffdc6966b4cfefd5715014a80bdc</td>\n",
       "      <td>2142-12-10 00:00:00</td>\n",
       "      <td>:Date/Time:11:30Provider:,M.D.Phone:Date/Time:1:00</td>\n",
       "      <td>:::Sex:FService:MEDICINEAllergies:Patientrecordeda</td>\n",
       "      <td>808</td>\n",
       "      <td>NaN</td>\n",
       "      <td>NaN</td>\n",
       "      <td>NaN</td>\n",
       "      <td>NaN</td>\n",
       "      <td>NaN</td>\n",
       "      <td>NaN</td>\n",
       "      <td>NaN</td>\n",
       "      <td>NaN</td>\n",
       "      <td>3777.0</td>\n",
       "      <td>125152.0</td>\n",
       "      <td>2181-06-06</td>\n",
       "      <td>None</td>\n",
       "      <td>None</td>\n",
       "      <td>7b21d1732ea01398d359ac49e502d610</td>\n",
       "      <td>11472.0</td>\n",
       "      <td>:::Sex:FService:MEDICINEAllergies:Patientrecordeda</td>\n",
       "      <td>ne:Date/Time:1:00Provider:,.D.Phone:Date/Time:9:40</td>\n",
       "      <td>0.088632</td>\n",
       "      <td>0.0</td>\n",
       "      <td>0.1</td>\n",
       "    </tr>\n",
       "  </tbody>\n",
       "</table>\n",
       "</div>"
      ],
      "text/plain": [
       "                category  chartdate charttime  hadm_id  icustay_id  index  \\\n",
       "85774  Discharge summary 2142-12-10       NaN   139077         NaN    690   \n",
       "85775  Discharge summary 2142-12-10       NaN   139077         NaN    690   \n",
       "85781  Discharge summary 2142-12-10       NaN   139077         NaN    692   \n",
       "85782  Discharge summary 2142-12-10       NaN   139077         NaN    692   \n",
       "\n",
       "       length                               md5             realtime  \\\n",
       "85774   10538  74daffdc6966b4cfefd5715014a80bdc  2142-12-10 00:00:00   \n",
       "85775   10538  74daffdc6966b4cfefd5715014a80bdc  2142-12-10 00:00:00   \n",
       "85781   10538  74daffdc6966b4cfefd5715014a80bdc  2142-12-10 00:00:00   \n",
       "85782   10538  74daffdc6966b4cfefd5715014a80bdc  2142-12-10 00:00:00   \n",
       "\n",
       "                                                  str_end  \\\n",
       "85774  :Date/Time:11:30Provider:,M.D.Phone:Date/Time:1:00   \n",
       "85775  :Date/Time:11:30Provider:,M.D.Phone:Date/Time:1:00   \n",
       "85781  :Date/Time:11:30Provider:,M.D.Phone:Date/Time:1:00   \n",
       "85782  :Date/Time:11:30Provider:,M.D.Phone:Date/Time:1:00   \n",
       "\n",
       "                                                str_start  subject_id  \\\n",
       "85774  :::Sex:FService:MEDICINEAllergies:Patientrecordeda         808   \n",
       "85775  :::Sex:FService:MEDICINEAllergies:Patientrecordeda         808   \n",
       "85781  :::Sex:FService:MEDICINEAllergies:Patientrecordeda         808   \n",
       "85782  :::Sex:FService:MEDICINEAllergies:Patientrecordeda         808   \n",
       "\n",
       "       hadm_id_m2  icustay_id_m2 realtime_m2 charttime_m2 category_m2  \\\n",
       "85774         NaN            NaN         NaN          NaN         NaN   \n",
       "85775         NaN            NaN         NaN          NaN         NaN   \n",
       "85781         NaN            NaN         NaN          NaN         NaN   \n",
       "85782         NaN            NaN         NaN          NaN         NaN   \n",
       "\n",
       "       length_m2 str_start_m2 str_end_m2  row_id_m3  hadm_id_m3 chartdate_m3  \\\n",
       "85774        NaN          NaN        NaN     3776.0    139077.0   2181-05-16   \n",
       "85775        NaN          NaN        NaN     3777.0    125152.0   2181-06-06   \n",
       "85781        NaN          NaN        NaN     3776.0    139077.0   2181-05-16   \n",
       "85782        NaN          NaN        NaN     3777.0    125152.0   2181-06-06   \n",
       "\n",
       "      charttime_m3 storetime_m3                            md5_m3  length_m3  \\\n",
       "85774         None         None  206805bd6a6857e866c557f683554609    10543.0   \n",
       "85775         None         None  7b21d1732ea01398d359ac49e502d610    11472.0   \n",
       "85781         None         None  206805bd6a6857e866c557f683554609    10543.0   \n",
       "85782         None         None  7b21d1732ea01398d359ac49e502d610    11472.0   \n",
       "\n",
       "                                             str_start_m3  \\\n",
       "85774  :::Sex:FService:MEDICINEAllergies:Patientrecordeda   \n",
       "85775  :::Sex:FService:MEDICINEAllergies:Patientrecordeda   \n",
       "85781  :::Sex:FService:MEDICINEAllergies:Patientrecordeda   \n",
       "85782  :::Sex:FService:MEDICINEAllergies:Patientrecordeda   \n",
       "\n",
       "                                               str_end_m3  len_diff_pct  \\\n",
       "85774  :Date/Time:11:30Provider:,M.D.Phone:Date/Time:1:00      0.000474   \n",
       "85775  ne:Date/Time:1:00Provider:,.D.Phone:Date/Time:9:40      0.088632   \n",
       "85781  :Date/Time:11:30Provider:,M.D.Phone:Date/Time:1:00      0.000474   \n",
       "85782  ne:Date/Time:1:00Provider:,.D.Phone:Date/Time:9:40      0.088632   \n",
       "\n",
       "       str_start_diff  str_end_diff  \n",
       "85774             0.0           0.0  \n",
       "85775             0.0           0.1  \n",
       "85781             0.0           0.0  \n",
       "85782             0.0           0.1  "
      ]
     },
     "execution_count": 92,
     "metadata": {},
     "output_type": "execute_result"
    }
   ],
   "source": [
    "meta_m2_m3.query('subject_id==808 & md5 == \"74daffdc6966b4cfefd5715014a80bdc\"')"
   ]
  },
  {
   "cell_type": "code",
   "execution_count": 93,
   "metadata": {
    "collapsed": true
   },
   "outputs": [],
   "source": [
    "meta_m2_m3['total_m3_distance'] = meta_m2_m3['len_diff_pct'] + meta_m2_m3['str_start_diff'] + meta_m2_m3['str_end_diff']"
   ]
  },
  {
   "cell_type": "code",
   "execution_count": 94,
   "metadata": {
    "collapsed": false
   },
   "outputs": [],
   "source": [
    "indexes = meta_m2_m3.groupby(['subject_id', 'category', 'md5']).apply(lambda r: r['total_m3_distance'].idxmin())"
   ]
  },
  {
   "cell_type": "code",
   "execution_count": 95,
   "metadata": {
    "collapsed": false
   },
   "outputs": [],
   "source": [
    "best_matches = meta_m2_m3.loc[indexes]"
   ]
  },
  {
   "cell_type": "code",
   "execution_count": 96,
   "metadata": {
    "collapsed": false
   },
   "outputs": [
    {
     "data": {
      "text/plain": [
       "(1810, 33)"
      ]
     },
     "execution_count": 96,
     "metadata": {},
     "output_type": "execute_result"
    }
   ],
   "source": [
    "best_matches.shape"
   ]
  },
  {
   "cell_type": "code",
   "execution_count": 97,
   "metadata": {
    "collapsed": false
   },
   "outputs": [
    {
     "data": {
      "text/plain": [
       "(1894, 12)"
      ]
     },
     "execution_count": 97,
     "metadata": {},
     "output_type": "execute_result"
    }
   ],
   "source": [
    "ann_notes_meta.shape"
   ]
  },
  {
   "cell_type": "code",
   "execution_count": 98,
   "metadata": {
    "collapsed": false
   },
   "outputs": [
    {
     "data": {
      "text/plain": [
       "955"
      ]
     },
     "execution_count": 98,
     "metadata": {},
     "output_type": "execute_result"
    }
   ],
   "source": [
    "(best_matches['category'] == 'Nursing/other').sum()"
   ]
  },
  {
   "cell_type": "code",
   "execution_count": 99,
   "metadata": {
    "collapsed": false
   },
   "outputs": [
    {
     "data": {
      "text/plain": [
       "848"
      ]
     },
     "execution_count": 99,
     "metadata": {},
     "output_type": "execute_result"
    }
   ],
   "source": [
    "(best_matches['category'] == 'Discharge summary').sum()"
   ]
  },
  {
   "cell_type": "code",
   "execution_count": 100,
   "metadata": {
    "collapsed": false
   },
   "outputs": [
    {
     "data": {
      "text/plain": [
       "1803"
      ]
     },
     "execution_count": 100,
     "metadata": {},
     "output_type": "execute_result"
    }
   ],
   "source": [
    "best_matches['length_m3'].notnull().sum()"
   ]
  },
  {
   "cell_type": "code",
   "execution_count": 101,
   "metadata": {
    "collapsed": false
   },
   "outputs": [
    {
     "data": {
      "text/plain": [
       "954"
      ]
     },
     "execution_count": 101,
     "metadata": {},
     "output_type": "execute_result"
    }
   ],
   "source": [
    "best_matches['length_m2'].notnull().sum()"
   ]
  },
  {
   "cell_type": "code",
   "execution_count": 102,
   "metadata": {
    "collapsed": false
   },
   "outputs": [
    {
     "data": {
      "text/plain": [
       "954"
      ]
     },
     "execution_count": 102,
     "metadata": {},
     "output_type": "execute_result"
    }
   ],
   "source": [
    "((best_matches['category'] == 'Nursing/other') & best_matches['length_m2'].notnull()).sum()"
   ]
  },
  {
   "cell_type": "code",
   "execution_count": 103,
   "metadata": {
    "collapsed": false
   },
   "outputs": [
    {
     "data": {
      "text/plain": [
       "(999,)"
      ]
     },
     "execution_count": 103,
     "metadata": {},
     "output_type": "execute_result"
    }
   ],
   "source": [
    "ann_notes_meta.loc[ann_notes_meta['category'] == 'Nursing/other', 'md5'].unique().shape"
   ]
  },
  {
   "cell_type": "code",
   "execution_count": 104,
   "metadata": {
    "collapsed": false
   },
   "outputs": [
    {
     "data": {
      "text/plain": [
       "(850,)"
      ]
     },
     "execution_count": 104,
     "metadata": {},
     "output_type": "execute_result"
    }
   ],
   "source": [
    "ann_notes_meta.loc[ann_notes_meta['category'] == 'Discharge summary', 'md5'].unique().shape"
   ]
  },
  {
   "cell_type": "code",
   "execution_count": 105,
   "metadata": {
    "collapsed": false
   },
   "outputs": [
    {
     "data": {
      "text/plain": [
       "(848,)"
      ]
     },
     "execution_count": 105,
     "metadata": {},
     "output_type": "execute_result"
    }
   ],
   "source": [
    "best_matches.loc[best_matches['category'] == 'Discharge summary', 'md5'].unique().shape"
   ]
  },
  {
   "cell_type": "code",
   "execution_count": 106,
   "metadata": {
    "collapsed": false
   },
   "outputs": [
    {
     "data": {
      "text/plain": [
       "(955,)"
      ]
     },
     "execution_count": 106,
     "metadata": {},
     "output_type": "execute_result"
    }
   ],
   "source": [
    "best_matches.loc[best_matches['category'] == 'Nursing/other', 'md5'].unique().shape"
   ]
  },
  {
   "cell_type": "code",
   "execution_count": 107,
   "metadata": {
    "collapsed": false
   },
   "outputs": [
    {
     "data": {
      "text/html": [
       "<div>\n",
       "<table border=\"1\" class=\"dataframe\">\n",
       "  <thead>\n",
       "    <tr style=\"text-align: right;\">\n",
       "      <th></th>\n",
       "      <th>category</th>\n",
       "      <th>chartdate</th>\n",
       "      <th>charttime</th>\n",
       "      <th>hadm_id</th>\n",
       "      <th>icustay_id</th>\n",
       "      <th>index</th>\n",
       "      <th>length</th>\n",
       "      <th>md5</th>\n",
       "      <th>realtime</th>\n",
       "      <th>str_end</th>\n",
       "      <th>str_start</th>\n",
       "      <th>subject_id</th>\n",
       "      <th>hadm_id_m2</th>\n",
       "      <th>icustay_id_m2</th>\n",
       "      <th>realtime_m2</th>\n",
       "      <th>charttime_m2</th>\n",
       "      <th>category_m2</th>\n",
       "      <th>length_m2</th>\n",
       "      <th>str_start_m2</th>\n",
       "      <th>str_end_m2</th>\n",
       "      <th>row_id_m3</th>\n",
       "      <th>hadm_id_m3</th>\n",
       "      <th>chartdate_m3</th>\n",
       "      <th>charttime_m3</th>\n",
       "      <th>storetime_m3</th>\n",
       "      <th>md5_m3</th>\n",
       "      <th>length_m3</th>\n",
       "      <th>str_start_m3</th>\n",
       "      <th>str_end_m3</th>\n",
       "      <th>len_diff_pct</th>\n",
       "      <th>str_start_diff</th>\n",
       "      <th>str_end_diff</th>\n",
       "      <th>total_m3_distance</th>\n",
       "    </tr>\n",
       "  </thead>\n",
       "  <tbody>\n",
       "    <tr>\n",
       "      <th>52342.0</th>\n",
       "      <td>Nursing/other</td>\n",
       "      <td>NaT</td>\n",
       "      <td>2728-12-13 16:51:00</td>\n",
       "      <td>17608.0</td>\n",
       "      <td>78.0</td>\n",
       "      <td>1162.0</td>\n",
       "      <td>1666.0</td>\n",
       "      <td>27572b36bd4c26c322f50cf65d095d16</td>\n",
       "      <td>2728-12-13 17:08:00</td>\n",
       "      <td>ine..?doubleorsinglelumen.Continuetomonitoroutput.</td>\n",
       "      <td>NSG0700-1900Events:Attemptedeatingbreakfastbutbeca</td>\n",
       "      <td>68.0</td>\n",
       "      <td>17608.0</td>\n",
       "      <td>78.0</td>\n",
       "      <td>2728-12-13 17:08:00</td>\n",
       "      <td>2728-12-13 16:51:00</td>\n",
       "      <td>Nursing/other</td>\n",
       "      <td>1666.0</td>\n",
       "      <td>NSG0700-1900Events:Attemptedeatingbreakfastbutbeca</td>\n",
       "      <td>ine..?doubleorsinglelumen.Continuetomonitoroutput.</td>\n",
       "      <td>1261174.0</td>\n",
       "      <td>170467.0</td>\n",
       "      <td>2173-12-16</td>\n",
       "      <td>2173-12-16 16:51:00</td>\n",
       "      <td>2173-12-16 17:08:00</td>\n",
       "      <td>a71a1009932ab1fce83b8867234ec9e4</td>\n",
       "      <td>1664.0</td>\n",
       "      <td>NSG0700-1900Events:Attemptedeatingbreakfastbutbeca</td>\n",
       "      <td>ine..?doubleorsinglelumen.Continuetomonitoroutput.</td>\n",
       "      <td>0.001200</td>\n",
       "      <td>0.00</td>\n",
       "      <td>0.0</td>\n",
       "      <td>0.001200</td>\n",
       "    </tr>\n",
       "    <tr>\n",
       "      <th>87204.0</th>\n",
       "      <td>Discharge summary</td>\n",
       "      <td>2142-12-10</td>\n",
       "      <td>NaN</td>\n",
       "      <td>164029.0</td>\n",
       "      <td>NaN</td>\n",
       "      <td>1195.0</td>\n",
       "      <td>7751.0</td>\n",
       "      <td>f5f69772c32f1b0ac05b7cf408f7a6db</td>\n",
       "      <td>2142-12-10 00:00:00</td>\n",
       "      <td>rativeassistant,,atifyouneedtoconfirmorreschedule.</td>\n",
       "      <td>:::Sex:FService:MEDICINEAllergies:PenicillinsAtten</td>\n",
       "      <td>109.0</td>\n",
       "      <td>NaN</td>\n",
       "      <td>NaN</td>\n",
       "      <td>NaN</td>\n",
       "      <td>NaN</td>\n",
       "      <td>NaN</td>\n",
       "      <td>NaN</td>\n",
       "      <td>NaN</td>\n",
       "      <td>NaN</td>\n",
       "      <td>15322.0</td>\n",
       "      <td>164029.0</td>\n",
       "      <td>2140-01-21</td>\n",
       "      <td>None</td>\n",
       "      <td>None</td>\n",
       "      <td>1770e41dbbe1a89a144bcebfad1fc87e</td>\n",
       "      <td>7731.0</td>\n",
       "      <td>:::Sex:FService:MEDICINEAllergies:PenicillinsAtten</td>\n",
       "      <td>rativeassistant,,atifyouneedtoconfirmorreschedule.</td>\n",
       "      <td>0.002580</td>\n",
       "      <td>0.00</td>\n",
       "      <td>0.0</td>\n",
       "      <td>0.002580</td>\n",
       "    </tr>\n",
       "    <tr>\n",
       "      <th>76242.0</th>\n",
       "      <td>Nursing/other</td>\n",
       "      <td>NaT</td>\n",
       "      <td>3353-03-09 02:13:00</td>\n",
       "      <td>26693.0</td>\n",
       "      <td>132.0</td>\n",
       "      <td>1761.0</td>\n",
       "      <td>2107.0</td>\n",
       "      <td>27d1f5907fa14b6702837a845f84c54e</td>\n",
       "      <td>3353-03-09 02:47:00</td>\n",
       "      <td>needtocontinuehemodialysisscheduleqtues/thurs/sat.</td>\n",
       "      <td>ficunsgnote:21:30-7:00thisisa22y.o.womanadmwithlup</td>\n",
       "      <td>109.0</td>\n",
       "      <td>26693.0</td>\n",
       "      <td>132.0</td>\n",
       "      <td>3353-03-09 02:47:00</td>\n",
       "      <td>3353-03-09 02:13:00</td>\n",
       "      <td>Nursing/other</td>\n",
       "      <td>2107.0</td>\n",
       "      <td>ficunsgnote:21:30-7:00thisisa22y.o.womanadmwithlup</td>\n",
       "      <td>needtocontinuehemodialysisscheduleqtues/thurs/sat.</td>\n",
       "      <td>1261605.0</td>\n",
       "      <td>193281.0</td>\n",
       "      <td>2140-04-08</td>\n",
       "      <td>2140-04-08 03:13:00</td>\n",
       "      <td>2140-04-08 03:47:00</td>\n",
       "      <td>6e88c96f2f3f7dab74d3732eec27dd35</td>\n",
       "      <td>2174.0</td>\n",
       "      <td>nsgnote:21:30-7:00thisisa22y.o.womanadmwithlupusdx</td>\n",
       "      <td>needtocontinuehemodialysisscheduleqtues/thurs/sat.</td>\n",
       "      <td>0.031799</td>\n",
       "      <td>0.08</td>\n",
       "      <td>0.0</td>\n",
       "      <td>0.111799</td>\n",
       "    </tr>\n",
       "    <tr>\n",
       "      <th>36788.0</th>\n",
       "      <td>Nursing/other</td>\n",
       "      <td>NaT</td>\n",
       "      <td>3352-12-19 16:48:00</td>\n",
       "      <td>12757.0</td>\n",
       "      <td>130.0</td>\n",
       "      <td>818.0</td>\n",
       "      <td>1294.0</td>\n",
       "      <td>3e0fff775cfb678fdfa06ece68ebfab5</td>\n",
       "      <td>3352-12-19 17:05:00</td>\n",
       "      <td>wnwhendialysiscompleted,LabetalolgttforSBP&gt;180prn.</td>\n",
       "      <td>NPN7A-7PSeecarevueforspecifics:Briefly22yroldfemal</td>\n",
       "      <td>109.0</td>\n",
       "      <td>12757.0</td>\n",
       "      <td>130.0</td>\n",
       "      <td>3352-12-19 17:05:00</td>\n",
       "      <td>3352-12-19 16:48:00</td>\n",
       "      <td>Nursing/other</td>\n",
       "      <td>1294.0</td>\n",
       "      <td>NPN7A-7PSeecarevueforspecifics:Briefly22yroldfemal</td>\n",
       "      <td>wnwhendialysiscompleted,LabetalolgttforSBP&gt;180prn.</td>\n",
       "      <td>1261597.0</td>\n",
       "      <td>164029.0</td>\n",
       "      <td>2140-01-19</td>\n",
       "      <td>2140-01-19 16:48:00</td>\n",
       "      <td>2140-01-19 17:05:00</td>\n",
       "      <td>d3350e7e8b6a9073feae2c0f11ea82e3</td>\n",
       "      <td>1293.0</td>\n",
       "      <td>NPN7A-7PSeecarevueforspecifics:Briefly22yroldfemal</td>\n",
       "      <td>wnwhendialysiscompleted,LabetalolgttforSBP&gt;180prn.</td>\n",
       "      <td>0.000773</td>\n",
       "      <td>0.00</td>\n",
       "      <td>0.0</td>\n",
       "      <td>0.000773</td>\n",
       "    </tr>\n",
       "    <tr>\n",
       "      <th>42257.0</th>\n",
       "      <td>Nursing/other</td>\n",
       "      <td>NaT</td>\n",
       "      <td>3351-03-18 02:36:00</td>\n",
       "      <td>14234.0</td>\n",
       "      <td>129.0</td>\n",
       "      <td>932.0</td>\n",
       "      <td>3083.0</td>\n",
       "      <td>8efc0a2ff698b75ce183e3183c1bf204</td>\n",
       "      <td>3351-03-18 03:24:00</td>\n",
       "      <td>byremovingclonodinepatches.tore-evalanti-hypertens</td>\n",
       "      <td>MICUA7P-7ASHIFTSUMMARYOFEVENTS:PTADMITTEDAT1930INH</td>\n",
       "      <td>109.0</td>\n",
       "      <td>14234.0</td>\n",
       "      <td>129.0</td>\n",
       "      <td>3351-03-18 03:24:00</td>\n",
       "      <td>3351-03-18 02:36:00</td>\n",
       "      <td>Nursing/other</td>\n",
       "      <td>3083.0</td>\n",
       "      <td>MICUA7P-7ASHIFTSUMMARYOFEVENTS:PTADMITTEDAT1930INH</td>\n",
       "      <td>byremovingclonodinepatches.tore-evalanti-hypertens</td>\n",
       "      <td>1261589.0</td>\n",
       "      <td>128755.0</td>\n",
       "      <td>2138-04-17</td>\n",
       "      <td>2138-04-17 03:36:00</td>\n",
       "      <td>2138-04-17 04:24:00</td>\n",
       "      <td>b26423d357dc3009f6e063c405ce742e</td>\n",
       "      <td>3126.0</td>\n",
       "      <td>MICUA7P-7ASHIFTSUMMARYOFEVENTS:PTADMITTEDATINHYPER</td>\n",
       "      <td>byremovingclonodinepatches.tore-evalanti-hypertens</td>\n",
       "      <td>0.013947</td>\n",
       "      <td>0.08</td>\n",
       "      <td>0.0</td>\n",
       "      <td>0.093947</td>\n",
       "    </tr>\n",
       "  </tbody>\n",
       "</table>\n",
       "</div>"
      ],
      "text/plain": [
       "                  category  chartdate            charttime   hadm_id  \\\n",
       "52342.0      Nursing/other        NaT  2728-12-13 16:51:00   17608.0   \n",
       "87204.0  Discharge summary 2142-12-10                  NaN  164029.0   \n",
       "76242.0      Nursing/other        NaT  3353-03-09 02:13:00   26693.0   \n",
       "36788.0      Nursing/other        NaT  3352-12-19 16:48:00   12757.0   \n",
       "42257.0      Nursing/other        NaT  3351-03-18 02:36:00   14234.0   \n",
       "\n",
       "         icustay_id   index  length                               md5  \\\n",
       "52342.0        78.0  1162.0  1666.0  27572b36bd4c26c322f50cf65d095d16   \n",
       "87204.0         NaN  1195.0  7751.0  f5f69772c32f1b0ac05b7cf408f7a6db   \n",
       "76242.0       132.0  1761.0  2107.0  27d1f5907fa14b6702837a845f84c54e   \n",
       "36788.0       130.0   818.0  1294.0  3e0fff775cfb678fdfa06ece68ebfab5   \n",
       "42257.0       129.0   932.0  3083.0  8efc0a2ff698b75ce183e3183c1bf204   \n",
       "\n",
       "                    realtime  \\\n",
       "52342.0  2728-12-13 17:08:00   \n",
       "87204.0  2142-12-10 00:00:00   \n",
       "76242.0  3353-03-09 02:47:00   \n",
       "36788.0  3352-12-19 17:05:00   \n",
       "42257.0  3351-03-18 03:24:00   \n",
       "\n",
       "                                                    str_end  \\\n",
       "52342.0  ine..?doubleorsinglelumen.Continuetomonitoroutput.   \n",
       "87204.0  rativeassistant,,atifyouneedtoconfirmorreschedule.   \n",
       "76242.0  needtocontinuehemodialysisscheduleqtues/thurs/sat.   \n",
       "36788.0  wnwhendialysiscompleted,LabetalolgttforSBP>180prn.   \n",
       "42257.0  byremovingclonodinepatches.tore-evalanti-hypertens   \n",
       "\n",
       "                                                  str_start  subject_id  \\\n",
       "52342.0  NSG0700-1900Events:Attemptedeatingbreakfastbutbeca        68.0   \n",
       "87204.0  :::Sex:FService:MEDICINEAllergies:PenicillinsAtten       109.0   \n",
       "76242.0  ficunsgnote:21:30-7:00thisisa22y.o.womanadmwithlup       109.0   \n",
       "36788.0  NPN7A-7PSeecarevueforspecifics:Briefly22yroldfemal       109.0   \n",
       "42257.0  MICUA7P-7ASHIFTSUMMARYOFEVENTS:PTADMITTEDAT1930INH       109.0   \n",
       "\n",
       "         hadm_id_m2  icustay_id_m2          realtime_m2         charttime_m2  \\\n",
       "52342.0     17608.0           78.0  2728-12-13 17:08:00  2728-12-13 16:51:00   \n",
       "87204.0         NaN            NaN                  NaN                  NaN   \n",
       "76242.0     26693.0          132.0  3353-03-09 02:47:00  3353-03-09 02:13:00   \n",
       "36788.0     12757.0          130.0  3352-12-19 17:05:00  3352-12-19 16:48:00   \n",
       "42257.0     14234.0          129.0  3351-03-18 03:24:00  3351-03-18 02:36:00   \n",
       "\n",
       "           category_m2  length_m2  \\\n",
       "52342.0  Nursing/other     1666.0   \n",
       "87204.0            NaN        NaN   \n",
       "76242.0  Nursing/other     2107.0   \n",
       "36788.0  Nursing/other     1294.0   \n",
       "42257.0  Nursing/other     3083.0   \n",
       "\n",
       "                                               str_start_m2  \\\n",
       "52342.0  NSG0700-1900Events:Attemptedeatingbreakfastbutbeca   \n",
       "87204.0                                                 NaN   \n",
       "76242.0  ficunsgnote:21:30-7:00thisisa22y.o.womanadmwithlup   \n",
       "36788.0  NPN7A-7PSeecarevueforspecifics:Briefly22yroldfemal   \n",
       "42257.0  MICUA7P-7ASHIFTSUMMARYOFEVENTS:PTADMITTEDAT1930INH   \n",
       "\n",
       "                                                 str_end_m2  row_id_m3  \\\n",
       "52342.0  ine..?doubleorsinglelumen.Continuetomonitoroutput.  1261174.0   \n",
       "87204.0                                                 NaN    15322.0   \n",
       "76242.0  needtocontinuehemodialysisscheduleqtues/thurs/sat.  1261605.0   \n",
       "36788.0  wnwhendialysiscompleted,LabetalolgttforSBP>180prn.  1261597.0   \n",
       "42257.0  byremovingclonodinepatches.tore-evalanti-hypertens  1261589.0   \n",
       "\n",
       "         hadm_id_m3 chartdate_m3         charttime_m3         storetime_m3  \\\n",
       "52342.0    170467.0   2173-12-16  2173-12-16 16:51:00  2173-12-16 17:08:00   \n",
       "87204.0    164029.0   2140-01-21                 None                 None   \n",
       "76242.0    193281.0   2140-04-08  2140-04-08 03:13:00  2140-04-08 03:47:00   \n",
       "36788.0    164029.0   2140-01-19  2140-01-19 16:48:00  2140-01-19 17:05:00   \n",
       "42257.0    128755.0   2138-04-17  2138-04-17 03:36:00  2138-04-17 04:24:00   \n",
       "\n",
       "                                   md5_m3  length_m3  \\\n",
       "52342.0  a71a1009932ab1fce83b8867234ec9e4     1664.0   \n",
       "87204.0  1770e41dbbe1a89a144bcebfad1fc87e     7731.0   \n",
       "76242.0  6e88c96f2f3f7dab74d3732eec27dd35     2174.0   \n",
       "36788.0  d3350e7e8b6a9073feae2c0f11ea82e3     1293.0   \n",
       "42257.0  b26423d357dc3009f6e063c405ce742e     3126.0   \n",
       "\n",
       "                                               str_start_m3  \\\n",
       "52342.0  NSG0700-1900Events:Attemptedeatingbreakfastbutbeca   \n",
       "87204.0  :::Sex:FService:MEDICINEAllergies:PenicillinsAtten   \n",
       "76242.0  nsgnote:21:30-7:00thisisa22y.o.womanadmwithlupusdx   \n",
       "36788.0  NPN7A-7PSeecarevueforspecifics:Briefly22yroldfemal   \n",
       "42257.0  MICUA7P-7ASHIFTSUMMARYOFEVENTS:PTADMITTEDATINHYPER   \n",
       "\n",
       "                                                 str_end_m3  len_diff_pct  \\\n",
       "52342.0  ine..?doubleorsinglelumen.Continuetomonitoroutput.      0.001200   \n",
       "87204.0  rativeassistant,,atifyouneedtoconfirmorreschedule.      0.002580   \n",
       "76242.0  needtocontinuehemodialysisscheduleqtues/thurs/sat.      0.031799   \n",
       "36788.0  wnwhendialysiscompleted,LabetalolgttforSBP>180prn.      0.000773   \n",
       "42257.0  byremovingclonodinepatches.tore-evalanti-hypertens      0.013947   \n",
       "\n",
       "         str_start_diff  str_end_diff  total_m3_distance  \n",
       "52342.0            0.00           0.0           0.001200  \n",
       "87204.0            0.00           0.0           0.002580  \n",
       "76242.0            0.08           0.0           0.111799  \n",
       "36788.0            0.00           0.0           0.000773  \n",
       "42257.0            0.08           0.0           0.093947  "
      ]
     },
     "execution_count": 107,
     "metadata": {},
     "output_type": "execute_result"
    }
   ],
   "source": [
    "best_matches.head()"
   ]
  },
  {
   "cell_type": "markdown",
   "metadata": {},
   "source": [
    "## Save output"
   ]
  },
  {
   "cell_type": "code",
   "execution_count": 108,
   "metadata": {
    "collapsed": true
   },
   "outputs": [],
   "source": [
    "cols_to_keep = [\n",
    "    'subject_id', 'hadm_id', 'icustay_id',\n",
    "    'category', 'chartdate', 'charttime', 'realtime',\n",
    "    'length', 'md5', 'str_start', 'str_end', \n",
    "    'row_id_m3', 'chartdate_m3', 'charttime_m3', 'storetime_m3',\n",
    "    'md5_m3', 'str_start_m3', 'str_end_m3',\n",
    "    'len_diff_pct', 'str_start_diff', 'str_end_diff', 'total_m3_distance'\n",
    "]\n",
    "output_df = best_matches[cols_to_keep]\n",
    "output_df.reset_index(inplace=True, drop=True)"
   ]
  },
  {
   "cell_type": "code",
   "execution_count": 109,
   "metadata": {
    "collapsed": false
   },
   "outputs": [
    {
     "data": {
      "text/html": [
       "<div>\n",
       "<table border=\"1\" class=\"dataframe\">\n",
       "  <thead>\n",
       "    <tr style=\"text-align: right;\">\n",
       "      <th></th>\n",
       "      <th>subject_id</th>\n",
       "      <th>hadm_id</th>\n",
       "      <th>icustay_id</th>\n",
       "      <th>category</th>\n",
       "      <th>chartdate</th>\n",
       "      <th>charttime</th>\n",
       "      <th>realtime</th>\n",
       "      <th>length</th>\n",
       "      <th>md5</th>\n",
       "      <th>str_start</th>\n",
       "      <th>str_end</th>\n",
       "      <th>row_id_m3</th>\n",
       "      <th>chartdate_m3</th>\n",
       "      <th>charttime_m3</th>\n",
       "      <th>storetime_m3</th>\n",
       "      <th>md5_m3</th>\n",
       "      <th>str_start_m3</th>\n",
       "      <th>str_end_m3</th>\n",
       "      <th>len_diff_pct</th>\n",
       "      <th>str_start_diff</th>\n",
       "      <th>str_end_diff</th>\n",
       "      <th>total_m3_distance</th>\n",
       "    </tr>\n",
       "  </thead>\n",
       "  <tbody>\n",
       "    <tr>\n",
       "      <th>0</th>\n",
       "      <td>68.0</td>\n",
       "      <td>17608.0</td>\n",
       "      <td>78.0</td>\n",
       "      <td>Nursing/other</td>\n",
       "      <td>NaT</td>\n",
       "      <td>2728-12-13 16:51:00</td>\n",
       "      <td>2728-12-13 17:08:00</td>\n",
       "      <td>1666.0</td>\n",
       "      <td>27572b36bd4c26c322f50cf65d095d16</td>\n",
       "      <td>NSG0700-1900Events:Attemptedeatingbreakfastbutbeca</td>\n",
       "      <td>ine..?doubleorsinglelumen.Continuetomonitoroutput.</td>\n",
       "      <td>1261174.0</td>\n",
       "      <td>2173-12-16</td>\n",
       "      <td>2173-12-16 16:51:00</td>\n",
       "      <td>2173-12-16 17:08:00</td>\n",
       "      <td>a71a1009932ab1fce83b8867234ec9e4</td>\n",
       "      <td>NSG0700-1900Events:Attemptedeatingbreakfastbutbeca</td>\n",
       "      <td>ine..?doubleorsinglelumen.Continuetomonitoroutput.</td>\n",
       "      <td>0.001200</td>\n",
       "      <td>0.00</td>\n",
       "      <td>0.0</td>\n",
       "      <td>0.001200</td>\n",
       "    </tr>\n",
       "    <tr>\n",
       "      <th>1</th>\n",
       "      <td>109.0</td>\n",
       "      <td>164029.0</td>\n",
       "      <td>NaN</td>\n",
       "      <td>Discharge summary</td>\n",
       "      <td>2142-12-10</td>\n",
       "      <td>NaN</td>\n",
       "      <td>2142-12-10 00:00:00</td>\n",
       "      <td>7751.0</td>\n",
       "      <td>f5f69772c32f1b0ac05b7cf408f7a6db</td>\n",
       "      <td>:::Sex:FService:MEDICINEAllergies:PenicillinsAtten</td>\n",
       "      <td>rativeassistant,,atifyouneedtoconfirmorreschedule.</td>\n",
       "      <td>15322.0</td>\n",
       "      <td>2140-01-21</td>\n",
       "      <td>None</td>\n",
       "      <td>None</td>\n",
       "      <td>1770e41dbbe1a89a144bcebfad1fc87e</td>\n",
       "      <td>:::Sex:FService:MEDICINEAllergies:PenicillinsAtten</td>\n",
       "      <td>rativeassistant,,atifyouneedtoconfirmorreschedule.</td>\n",
       "      <td>0.002580</td>\n",
       "      <td>0.00</td>\n",
       "      <td>0.0</td>\n",
       "      <td>0.002580</td>\n",
       "    </tr>\n",
       "    <tr>\n",
       "      <th>2</th>\n",
       "      <td>109.0</td>\n",
       "      <td>26693.0</td>\n",
       "      <td>132.0</td>\n",
       "      <td>Nursing/other</td>\n",
       "      <td>NaT</td>\n",
       "      <td>3353-03-09 02:13:00</td>\n",
       "      <td>3353-03-09 02:47:00</td>\n",
       "      <td>2107.0</td>\n",
       "      <td>27d1f5907fa14b6702837a845f84c54e</td>\n",
       "      <td>ficunsgnote:21:30-7:00thisisa22y.o.womanadmwithlup</td>\n",
       "      <td>needtocontinuehemodialysisscheduleqtues/thurs/sat.</td>\n",
       "      <td>1261605.0</td>\n",
       "      <td>2140-04-08</td>\n",
       "      <td>2140-04-08 03:13:00</td>\n",
       "      <td>2140-04-08 03:47:00</td>\n",
       "      <td>6e88c96f2f3f7dab74d3732eec27dd35</td>\n",
       "      <td>nsgnote:21:30-7:00thisisa22y.o.womanadmwithlupusdx</td>\n",
       "      <td>needtocontinuehemodialysisscheduleqtues/thurs/sat.</td>\n",
       "      <td>0.031799</td>\n",
       "      <td>0.08</td>\n",
       "      <td>0.0</td>\n",
       "      <td>0.111799</td>\n",
       "    </tr>\n",
       "    <tr>\n",
       "      <th>3</th>\n",
       "      <td>109.0</td>\n",
       "      <td>12757.0</td>\n",
       "      <td>130.0</td>\n",
       "      <td>Nursing/other</td>\n",
       "      <td>NaT</td>\n",
       "      <td>3352-12-19 16:48:00</td>\n",
       "      <td>3352-12-19 17:05:00</td>\n",
       "      <td>1294.0</td>\n",
       "      <td>3e0fff775cfb678fdfa06ece68ebfab5</td>\n",
       "      <td>NPN7A-7PSeecarevueforspecifics:Briefly22yroldfemal</td>\n",
       "      <td>wnwhendialysiscompleted,LabetalolgttforSBP&gt;180prn.</td>\n",
       "      <td>1261597.0</td>\n",
       "      <td>2140-01-19</td>\n",
       "      <td>2140-01-19 16:48:00</td>\n",
       "      <td>2140-01-19 17:05:00</td>\n",
       "      <td>d3350e7e8b6a9073feae2c0f11ea82e3</td>\n",
       "      <td>NPN7A-7PSeecarevueforspecifics:Briefly22yroldfemal</td>\n",
       "      <td>wnwhendialysiscompleted,LabetalolgttforSBP&gt;180prn.</td>\n",
       "      <td>0.000773</td>\n",
       "      <td>0.00</td>\n",
       "      <td>0.0</td>\n",
       "      <td>0.000773</td>\n",
       "    </tr>\n",
       "    <tr>\n",
       "      <th>4</th>\n",
       "      <td>109.0</td>\n",
       "      <td>14234.0</td>\n",
       "      <td>129.0</td>\n",
       "      <td>Nursing/other</td>\n",
       "      <td>NaT</td>\n",
       "      <td>3351-03-18 02:36:00</td>\n",
       "      <td>3351-03-18 03:24:00</td>\n",
       "      <td>3083.0</td>\n",
       "      <td>8efc0a2ff698b75ce183e3183c1bf204</td>\n",
       "      <td>MICUA7P-7ASHIFTSUMMARYOFEVENTS:PTADMITTEDAT1930INH</td>\n",
       "      <td>byremovingclonodinepatches.tore-evalanti-hypertens</td>\n",
       "      <td>1261589.0</td>\n",
       "      <td>2138-04-17</td>\n",
       "      <td>2138-04-17 03:36:00</td>\n",
       "      <td>2138-04-17 04:24:00</td>\n",
       "      <td>b26423d357dc3009f6e063c405ce742e</td>\n",
       "      <td>MICUA7P-7ASHIFTSUMMARYOFEVENTS:PTADMITTEDATINHYPER</td>\n",
       "      <td>byremovingclonodinepatches.tore-evalanti-hypertens</td>\n",
       "      <td>0.013947</td>\n",
       "      <td>0.08</td>\n",
       "      <td>0.0</td>\n",
       "      <td>0.093947</td>\n",
       "    </tr>\n",
       "  </tbody>\n",
       "</table>\n",
       "</div>"
      ],
      "text/plain": [
       "   subject_id   hadm_id  icustay_id           category  chartdate  \\\n",
       "0        68.0   17608.0        78.0      Nursing/other        NaT   \n",
       "1       109.0  164029.0         NaN  Discharge summary 2142-12-10   \n",
       "2       109.0   26693.0       132.0      Nursing/other        NaT   \n",
       "3       109.0   12757.0       130.0      Nursing/other        NaT   \n",
       "4       109.0   14234.0       129.0      Nursing/other        NaT   \n",
       "\n",
       "             charttime             realtime  length  \\\n",
       "0  2728-12-13 16:51:00  2728-12-13 17:08:00  1666.0   \n",
       "1                  NaN  2142-12-10 00:00:00  7751.0   \n",
       "2  3353-03-09 02:13:00  3353-03-09 02:47:00  2107.0   \n",
       "3  3352-12-19 16:48:00  3352-12-19 17:05:00  1294.0   \n",
       "4  3351-03-18 02:36:00  3351-03-18 03:24:00  3083.0   \n",
       "\n",
       "                                md5  \\\n",
       "0  27572b36bd4c26c322f50cf65d095d16   \n",
       "1  f5f69772c32f1b0ac05b7cf408f7a6db   \n",
       "2  27d1f5907fa14b6702837a845f84c54e   \n",
       "3  3e0fff775cfb678fdfa06ece68ebfab5   \n",
       "4  8efc0a2ff698b75ce183e3183c1bf204   \n",
       "\n",
       "                                            str_start  \\\n",
       "0  NSG0700-1900Events:Attemptedeatingbreakfastbutbeca   \n",
       "1  :::Sex:FService:MEDICINEAllergies:PenicillinsAtten   \n",
       "2  ficunsgnote:21:30-7:00thisisa22y.o.womanadmwithlup   \n",
       "3  NPN7A-7PSeecarevueforspecifics:Briefly22yroldfemal   \n",
       "4  MICUA7P-7ASHIFTSUMMARYOFEVENTS:PTADMITTEDAT1930INH   \n",
       "\n",
       "                                              str_end  row_id_m3 chartdate_m3  \\\n",
       "0  ine..?doubleorsinglelumen.Continuetomonitoroutput.  1261174.0   2173-12-16   \n",
       "1  rativeassistant,,atifyouneedtoconfirmorreschedule.    15322.0   2140-01-21   \n",
       "2  needtocontinuehemodialysisscheduleqtues/thurs/sat.  1261605.0   2140-04-08   \n",
       "3  wnwhendialysiscompleted,LabetalolgttforSBP>180prn.  1261597.0   2140-01-19   \n",
       "4  byremovingclonodinepatches.tore-evalanti-hypertens  1261589.0   2138-04-17   \n",
       "\n",
       "          charttime_m3         storetime_m3                            md5_m3  \\\n",
       "0  2173-12-16 16:51:00  2173-12-16 17:08:00  a71a1009932ab1fce83b8867234ec9e4   \n",
       "1                 None                 None  1770e41dbbe1a89a144bcebfad1fc87e   \n",
       "2  2140-04-08 03:13:00  2140-04-08 03:47:00  6e88c96f2f3f7dab74d3732eec27dd35   \n",
       "3  2140-01-19 16:48:00  2140-01-19 17:05:00  d3350e7e8b6a9073feae2c0f11ea82e3   \n",
       "4  2138-04-17 03:36:00  2138-04-17 04:24:00  b26423d357dc3009f6e063c405ce742e   \n",
       "\n",
       "                                         str_start_m3  \\\n",
       "0  NSG0700-1900Events:Attemptedeatingbreakfastbutbeca   \n",
       "1  :::Sex:FService:MEDICINEAllergies:PenicillinsAtten   \n",
       "2  nsgnote:21:30-7:00thisisa22y.o.womanadmwithlupusdx   \n",
       "3  NPN7A-7PSeecarevueforspecifics:Briefly22yroldfemal   \n",
       "4  MICUA7P-7ASHIFTSUMMARYOFEVENTS:PTADMITTEDATINHYPER   \n",
       "\n",
       "                                           str_end_m3  len_diff_pct  \\\n",
       "0  ine..?doubleorsinglelumen.Continuetomonitoroutput.      0.001200   \n",
       "1  rativeassistant,,atifyouneedtoconfirmorreschedule.      0.002580   \n",
       "2  needtocontinuehemodialysisscheduleqtues/thurs/sat.      0.031799   \n",
       "3  wnwhendialysiscompleted,LabetalolgttforSBP>180prn.      0.000773   \n",
       "4  byremovingclonodinepatches.tore-evalanti-hypertens      0.013947   \n",
       "\n",
       "   str_start_diff  str_end_diff  total_m3_distance  \n",
       "0            0.00           0.0           0.001200  \n",
       "1            0.00           0.0           0.002580  \n",
       "2            0.08           0.0           0.111799  \n",
       "3            0.00           0.0           0.000773  \n",
       "4            0.08           0.0           0.093947  "
      ]
     },
     "execution_count": 109,
     "metadata": {},
     "output_type": "execute_result"
    }
   ],
   "source": [
    "output_df.head()"
   ]
  },
  {
   "cell_type": "code",
   "execution_count": 110,
   "metadata": {
    "collapsed": false
   },
   "outputs": [
    {
     "data": {
      "text/plain": [
       "PosixPath('../../data/mimic3_note_equivs_2016-10-23-16-35.csv')"
      ]
     },
     "execution_count": 110,
     "metadata": {},
     "output_type": "execute_result"
    }
   ],
   "source": [
    "output_path = pl.Path(path_config['repo_data_dir']).joinpath('mimic3_note_equivs_{}.csv'.format(time_str))\n",
    "output_path"
   ]
  },
  {
   "cell_type": "code",
   "execution_count": 111,
   "metadata": {
    "collapsed": false
   },
   "outputs": [],
   "source": [
    "output_df.to_csv(output_path.as_posix(), index=False)"
   ]
  },
  {
   "cell_type": "markdown",
   "metadata": {},
   "source": [
    "## Inspect questionable matches"
   ]
  },
  {
   "cell_type": "code",
   "execution_count": 112,
   "metadata": {
    "collapsed": false
   },
   "outputs": [
    {
     "data": {
      "text/html": [
       "<div>\n",
       "<table border=\"1\" class=\"dataframe\">\n",
       "  <thead>\n",
       "    <tr style=\"text-align: right;\">\n",
       "      <th></th>\n",
       "      <th>subject_id</th>\n",
       "      <th>hadm_id</th>\n",
       "      <th>icustay_id</th>\n",
       "      <th>category</th>\n",
       "      <th>chartdate</th>\n",
       "      <th>charttime</th>\n",
       "      <th>realtime</th>\n",
       "      <th>length</th>\n",
       "      <th>md5</th>\n",
       "      <th>str_start</th>\n",
       "      <th>str_end</th>\n",
       "      <th>row_id_m3</th>\n",
       "      <th>chartdate_m3</th>\n",
       "      <th>charttime_m3</th>\n",
       "      <th>storetime_m3</th>\n",
       "      <th>md5_m3</th>\n",
       "      <th>str_start_m3</th>\n",
       "      <th>str_end_m3</th>\n",
       "      <th>len_diff_pct</th>\n",
       "      <th>str_start_diff</th>\n",
       "      <th>str_end_diff</th>\n",
       "      <th>total_m3_distance</th>\n",
       "    </tr>\n",
       "  </thead>\n",
       "  <tbody>\n",
       "    <tr>\n",
       "      <th>0</th>\n",
       "      <td>23150.0</td>\n",
       "      <td>25167.0</td>\n",
       "      <td>28766.0</td>\n",
       "      <td>Nursing/other</td>\n",
       "      <td>NaT</td>\n",
       "      <td>2770-07-11 02:37:00</td>\n",
       "      <td>2770-07-11 05:04:00</td>\n",
       "      <td>145.0</td>\n",
       "      <td>6322d6d5756e7026dca157d84ce31813</td>\n",
       "      <td>CCUNPN2200-0700ADDENDUM:Pt.alertandconversingappro</td>\n",
       "      <td>questionsre:POC.+gag,toleratedsipswatersoNGTd/c'd.</td>\n",
       "      <td>1564811.0</td>\n",
       "      <td>2170-07-14</td>\n",
       "      <td>2170-07-14 03:37:00</td>\n",
       "      <td>2170-07-14 06:04:00</td>\n",
       "      <td>c48ed6b8e6dd6d2cba585e1a9f803411</td>\n",
       "      <td>CCUNPN2200-0700ADDENDUM:Pt.alertandconversingappro</td>\n",
       "      <td>30.Askingquestionsre:POC.+gag,sipswatersoNGTd/c'd.</td>\n",
       "      <td>0.034483</td>\n",
       "      <td>0.00</td>\n",
       "      <td>0.18</td>\n",
       "      <td>0.214483</td>\n",
       "    </tr>\n",
       "    <tr>\n",
       "      <th>1</th>\n",
       "      <td>15209.0</td>\n",
       "      <td>3851.0</td>\n",
       "      <td>18883.0</td>\n",
       "      <td>Nursing/other</td>\n",
       "      <td>NaT</td>\n",
       "      <td>3480-08-22 18:17:00</td>\n",
       "      <td>3480-08-22 18:43:00</td>\n",
       "      <td>1794.0</td>\n",
       "      <td>75230c2e09fca188032535033b290646</td>\n",
       "      <td>S/MICUNursingProgressNote7a-7pSeeCarevueforAdditio</td>\n",
       "      <td>withHusbandwhoisherhealthcareproxy.Home:.Daughter:</td>\n",
       "      <td>1459958.0</td>\n",
       "      <td>2128-09-12</td>\n",
       "      <td>2128-09-12 19:17:00</td>\n",
       "      <td>2128-09-12 19:43:00</td>\n",
       "      <td>b26fce2c35098b9cede70247753937ae</td>\n",
       "      <td>S/MICUNursingProgressNote7a-7pSeeCarevueforAdditio</td>\n",
       "      <td>ivesathomewithHusbandwhoisherhealthcareproxy.:.er:</td>\n",
       "      <td>0.011706</td>\n",
       "      <td>0.00</td>\n",
       "      <td>0.20</td>\n",
       "      <td>0.211706</td>\n",
       "    </tr>\n",
       "    <tr>\n",
       "      <th>2</th>\n",
       "      <td>14467.0</td>\n",
       "      <td>15534.0</td>\n",
       "      <td>17978.0</td>\n",
       "      <td>Nursing/other</td>\n",
       "      <td>NaT</td>\n",
       "      <td>3184-09-18 03:08:00</td>\n",
       "      <td>3184-09-18 04:45:00</td>\n",
       "      <td>2218.0</td>\n",
       "      <td>655d960f1d1bde683d2442f8464e3356</td>\n",
       "      <td>NURSINGADMISSION/PROGRESSNOTE:SEECAREVUEFOROJECTIV</td>\n",
       "      <td>SUPPORTTOPTANDSPOUSE.SOCIALWORKCONSULTTOBEORDERED.</td>\n",
       "      <td>1450790.0</td>\n",
       "      <td>2118-08-09</td>\n",
       "      <td>2118-08-09 04:08:00</td>\n",
       "      <td>2118-08-09 05:45:00</td>\n",
       "      <td>2a0b8dbd546e25668b6a6b7c8fc08de9</td>\n",
       "      <td>NURSINGADMISSION/PROGRESSNOTE:SEECAREVUEFOROJECTIV</td>\n",
       "      <td>EEMOTIONALSUPPORTTOPTANDSPOUSE.CONSULTTOBEORDERED.</td>\n",
       "      <td>0.006763</td>\n",
       "      <td>0.00</td>\n",
       "      <td>0.20</td>\n",
       "      <td>0.206763</td>\n",
       "    </tr>\n",
       "    <tr>\n",
       "      <th>3</th>\n",
       "      <td>4271.0</td>\n",
       "      <td>26247.0</td>\n",
       "      <td>5316.0</td>\n",
       "      <td>Nursing/other</td>\n",
       "      <td>NaT</td>\n",
       "      <td>3110-09-29 04:36:00</td>\n",
       "      <td>3110-09-29 05:28:00</td>\n",
       "      <td>2059.0</td>\n",
       "      <td>52741b5215f9d83fdeed8b9b798abee6</td>\n",
       "      <td>AdmissionNote0000-0700Pt43y/omalewithPMHHepCcirrho</td>\n",
       "      <td>elongingslefton10thfloorinhisroompriortoprocedure.</td>\n",
       "      <td>1317603.0</td>\n",
       "      <td>2192-10-11</td>\n",
       "      <td>2192-10-11 04:36:00</td>\n",
       "      <td>2192-10-11 05:28:00</td>\n",
       "      <td>cfc3be2e62869d6157d96e972a70f0a5</td>\n",
       "      <td>AdmissionNote0000-0700Pt43y/omalewithPMHHepCcirrho</td>\n",
       "      <td>enthehasbelongingsleftoninhisroompriortoprocedure.</td>\n",
       "      <td>0.009713</td>\n",
       "      <td>0.00</td>\n",
       "      <td>0.18</td>\n",
       "      <td>0.189713</td>\n",
       "    </tr>\n",
       "    <tr>\n",
       "      <th>4</th>\n",
       "      <td>3506.0</td>\n",
       "      <td>3911.0</td>\n",
       "      <td>4353.0</td>\n",
       "      <td>Nursing/other</td>\n",
       "      <td>NaT</td>\n",
       "      <td>3429-06-17 16:51:00</td>\n",
       "      <td>3429-06-17 16:54:00</td>\n",
       "      <td>148.0</td>\n",
       "      <td>d4f45b44f1c0808eec9b55f9623da36f</td>\n",
       "      <td>RespCarePttransferredbacktofromRehabforfever,onmec</td>\n",
       "      <td>pportA/C,trached,CVLplacedtoday,hemodialysistoday.</td>\n",
       "      <td>1307799.0</td>\n",
       "      <td>2195-08-12</td>\n",
       "      <td>2195-08-12 17:51:00</td>\n",
       "      <td>2195-08-12 17:54:00</td>\n",
       "      <td>4ba80f4e53c5510e499c06392e980bb1</td>\n",
       "      <td>RespCarePttransferredbacktofromRehabforfever,onmec</td>\n",
       "      <td>hventsupportA/C,,CVLplacedtoday,hemodialysistoday.</td>\n",
       "      <td>0.047297</td>\n",
       "      <td>0.00</td>\n",
       "      <td>0.14</td>\n",
       "      <td>0.187297</td>\n",
       "    </tr>\n",
       "    <tr>\n",
       "      <th>5</th>\n",
       "      <td>976.0</td>\n",
       "      <td>14833.0</td>\n",
       "      <td>1206.0</td>\n",
       "      <td>Nursing/other</td>\n",
       "      <td>NaT</td>\n",
       "      <td>3087-11-10 05:15:00</td>\n",
       "      <td>3087-11-10 05:31:00</td>\n",
       "      <td>2444.0</td>\n",
       "      <td>e75826f4da986bcae0048b2416d8dbcc</td>\n",
       "      <td>CCUNSGADMIT/PROGRESSNOTE7P-7A/PERICARDIALEFFS-\"MYB</td>\n",
       "      <td>NCARE/PULMTOILET-KEEPPTANDFAMILYAWAREOFPLANOFCARE.</td>\n",
       "      <td>1274589.0</td>\n",
       "      <td>2179-09-30</td>\n",
       "      <td>2179-09-30 05:15:00</td>\n",
       "      <td>2179-09-30 05:31:00</td>\n",
       "      <td>ba633ab219b1b7c1cfbdea7177eb772d</td>\n",
       "      <td>CCUNSGADMIT/PROGRESSNOTE7P-7A/PERICARDIALEFFS-\"MYB</td>\n",
       "      <td>ONS.SKINCARE/PULMKEEPPTANDFAMILYAWAREOFPLANOFCARE.</td>\n",
       "      <td>0.036416</td>\n",
       "      <td>0.00</td>\n",
       "      <td>0.14</td>\n",
       "      <td>0.176416</td>\n",
       "    </tr>\n",
       "    <tr>\n",
       "      <th>6</th>\n",
       "      <td>28226.0</td>\n",
       "      <td>30107.0</td>\n",
       "      <td>42448.0</td>\n",
       "      <td>Nursing/other</td>\n",
       "      <td>NaT</td>\n",
       "      <td>2659-07-25 02:22:00</td>\n",
       "      <td>2659-07-25 02:36:00</td>\n",
       "      <td>435.0</td>\n",
       "      <td>3b8097352e459832483e90474b800fed</td>\n",
       "      <td>PTTOROOM8N/SICUAFROMERFORACUTEABDPAINDXNECROTIZING</td>\n",
       "      <td>SPLANMEDTREATRESTGISYSTEMANTIBIOTICSSUPPORTIVECARE</td>\n",
       "      <td>1631224.0</td>\n",
       "      <td>2193-04-29</td>\n",
       "      <td>2193-04-29 03:22:00</td>\n",
       "      <td>2193-04-29 03:36:00</td>\n",
       "      <td>3013f152c940ff3c13a694d533c2756d</td>\n",
       "      <td>PTTON/SICUAFROMERFORACUTEABDPAINDXNECROTIZINGPANCR</td>\n",
       "      <td>SPLANMEDTREATRESTGISYSTEMANTIBIOTICSSUPPORTIVECARE</td>\n",
       "      <td>0.075862</td>\n",
       "      <td>0.10</td>\n",
       "      <td>0.00</td>\n",
       "      <td>0.175862</td>\n",
       "    </tr>\n",
       "    <tr>\n",
       "      <th>7</th>\n",
       "      <td>23549.0</td>\n",
       "      <td>20671.0</td>\n",
       "      <td>29257.0</td>\n",
       "      <td>Nursing/other</td>\n",
       "      <td>NaT</td>\n",
       "      <td>3088-10-22 17:03:00</td>\n",
       "      <td>3088-10-22 17:06:00</td>\n",
       "      <td>204.0</td>\n",
       "      <td>eb787359974fbdc61fd516f681ba91fb</td>\n",
       "      <td>resp.carept.admittedfromrehabtoe.d.toficu.ventdepe</td>\n",
       "      <td>500/12/40%+5.toleratingwell.seertflowsheetformore.</td>\n",
       "      <td>1570383.0</td>\n",
       "      <td>2168-10-31</td>\n",
       "      <td>2168-10-31 18:03:00</td>\n",
       "      <td>2168-10-31 18:06:00</td>\n",
       "      <td>fa14961f4d9da0c9f57a77609ef635cd</td>\n",
       "      <td>resp.carept.admittedfromrehabtoe.d.to.ventdependen</td>\n",
       "      <td>500/12/40%+5.toleratingwell.seertflowsheetformore.</td>\n",
       "      <td>0.093137</td>\n",
       "      <td>0.08</td>\n",
       "      <td>0.00</td>\n",
       "      <td>0.173137</td>\n",
       "    </tr>\n",
       "    <tr>\n",
       "      <th>8</th>\n",
       "      <td>22098.0</td>\n",
       "      <td>6383.0</td>\n",
       "      <td>27484.0</td>\n",
       "      <td>Nursing/other</td>\n",
       "      <td>NaT</td>\n",
       "      <td>2766-04-07 04:10:00</td>\n",
       "      <td>2766-04-07 04:28:00</td>\n",
       "      <td>1056.0</td>\n",
       "      <td>04bd732c66af3b1c7fd65f80813575c9</td>\n",
       "      <td>NursingProgressNote1900-0700ReviewofSystems:Neuro:</td>\n",
       "      <td>3rdunitPRBC'sinfused.Probabletransfertofloortoday.</td>\n",
       "      <td>1552122.0</td>\n",
       "      <td>2162-05-27</td>\n",
       "      <td>2162-05-27 05:10:00</td>\n",
       "      <td>2162-05-27 05:28:00</td>\n",
       "      <td>2df8873036d77a1d0345b0112b19c378</td>\n",
       "      <td>NursingProgressNote1900-0700ReviewofSystems:Neuro:</td>\n",
       "      <td>labswhen3rdunitPRBC'sinfused.transfertofloortoday.</td>\n",
       "      <td>0.005682</td>\n",
       "      <td>0.00</td>\n",
       "      <td>0.16</td>\n",
       "      <td>0.165682</td>\n",
       "    </tr>\n",
       "    <tr>\n",
       "      <th>9</th>\n",
       "      <td>46116.0</td>\n",
       "      <td>156119.0</td>\n",
       "      <td>NaN</td>\n",
       "      <td>Discharge summary</td>\n",
       "      <td>2142-12-10</td>\n",
       "      <td>NaN</td>\n",
       "      <td>2142-12-10 00:00:00</td>\n",
       "      <td>19473.0</td>\n",
       "      <td>3926099a8a27e4eb6286b3d32e766865</td>\n",
       "      <td>:::Sex:FService:MEDICINEAllergies:PenicillinsAtten</td>\n",
       "      <td>ding:LMBldg()BasementCampus:WESTBestParking:Garage</td>\n",
       "      <td>54790.0</td>\n",
       "      <td>2153-09-01</td>\n",
       "      <td>None</td>\n",
       "      <td>None</td>\n",
       "      <td>3cce112cb2b1dc44f3548c55fde20969</td>\n",
       "      <td>:::Sex:FService:MEDICINEAllergies:PenicillinsAtten</td>\n",
       "      <td>:,MDBuilding:LMBldg()Campus:WESTBestParking:Garage</td>\n",
       "      <td>0.001900</td>\n",
       "      <td>0.00</td>\n",
       "      <td>0.16</td>\n",
       "      <td>0.161900</td>\n",
       "    </tr>\n",
       "  </tbody>\n",
       "</table>\n",
       "</div>"
      ],
      "text/plain": [
       "   subject_id   hadm_id  icustay_id           category  chartdate  \\\n",
       "0     23150.0   25167.0     28766.0      Nursing/other        NaT   \n",
       "1     15209.0    3851.0     18883.0      Nursing/other        NaT   \n",
       "2     14467.0   15534.0     17978.0      Nursing/other        NaT   \n",
       "3      4271.0   26247.0      5316.0      Nursing/other        NaT   \n",
       "4      3506.0    3911.0      4353.0      Nursing/other        NaT   \n",
       "5       976.0   14833.0      1206.0      Nursing/other        NaT   \n",
       "6     28226.0   30107.0     42448.0      Nursing/other        NaT   \n",
       "7     23549.0   20671.0     29257.0      Nursing/other        NaT   \n",
       "8     22098.0    6383.0     27484.0      Nursing/other        NaT   \n",
       "9     46116.0  156119.0         NaN  Discharge summary 2142-12-10   \n",
       "\n",
       "             charttime             realtime   length  \\\n",
       "0  2770-07-11 02:37:00  2770-07-11 05:04:00    145.0   \n",
       "1  3480-08-22 18:17:00  3480-08-22 18:43:00   1794.0   \n",
       "2  3184-09-18 03:08:00  3184-09-18 04:45:00   2218.0   \n",
       "3  3110-09-29 04:36:00  3110-09-29 05:28:00   2059.0   \n",
       "4  3429-06-17 16:51:00  3429-06-17 16:54:00    148.0   \n",
       "5  3087-11-10 05:15:00  3087-11-10 05:31:00   2444.0   \n",
       "6  2659-07-25 02:22:00  2659-07-25 02:36:00    435.0   \n",
       "7  3088-10-22 17:03:00  3088-10-22 17:06:00    204.0   \n",
       "8  2766-04-07 04:10:00  2766-04-07 04:28:00   1056.0   \n",
       "9                  NaN  2142-12-10 00:00:00  19473.0   \n",
       "\n",
       "                                md5  \\\n",
       "0  6322d6d5756e7026dca157d84ce31813   \n",
       "1  75230c2e09fca188032535033b290646   \n",
       "2  655d960f1d1bde683d2442f8464e3356   \n",
       "3  52741b5215f9d83fdeed8b9b798abee6   \n",
       "4  d4f45b44f1c0808eec9b55f9623da36f   \n",
       "5  e75826f4da986bcae0048b2416d8dbcc   \n",
       "6  3b8097352e459832483e90474b800fed   \n",
       "7  eb787359974fbdc61fd516f681ba91fb   \n",
       "8  04bd732c66af3b1c7fd65f80813575c9   \n",
       "9  3926099a8a27e4eb6286b3d32e766865   \n",
       "\n",
       "                                            str_start  \\\n",
       "0  CCUNPN2200-0700ADDENDUM:Pt.alertandconversingappro   \n",
       "1  S/MICUNursingProgressNote7a-7pSeeCarevueforAdditio   \n",
       "2  NURSINGADMISSION/PROGRESSNOTE:SEECAREVUEFOROJECTIV   \n",
       "3  AdmissionNote0000-0700Pt43y/omalewithPMHHepCcirrho   \n",
       "4  RespCarePttransferredbacktofromRehabforfever,onmec   \n",
       "5  CCUNSGADMIT/PROGRESSNOTE7P-7A/PERICARDIALEFFS-\"MYB   \n",
       "6  PTTOROOM8N/SICUAFROMERFORACUTEABDPAINDXNECROTIZING   \n",
       "7  resp.carept.admittedfromrehabtoe.d.toficu.ventdepe   \n",
       "8  NursingProgressNote1900-0700ReviewofSystems:Neuro:   \n",
       "9  :::Sex:FService:MEDICINEAllergies:PenicillinsAtten   \n",
       "\n",
       "                                              str_end  row_id_m3 chartdate_m3  \\\n",
       "0  questionsre:POC.+gag,toleratedsipswatersoNGTd/c'd.  1564811.0   2170-07-14   \n",
       "1  withHusbandwhoisherhealthcareproxy.Home:.Daughter:  1459958.0   2128-09-12   \n",
       "2  SUPPORTTOPTANDSPOUSE.SOCIALWORKCONSULTTOBEORDERED.  1450790.0   2118-08-09   \n",
       "3  elongingslefton10thfloorinhisroompriortoprocedure.  1317603.0   2192-10-11   \n",
       "4  pportA/C,trached,CVLplacedtoday,hemodialysistoday.  1307799.0   2195-08-12   \n",
       "5  NCARE/PULMTOILET-KEEPPTANDFAMILYAWAREOFPLANOFCARE.  1274589.0   2179-09-30   \n",
       "6  SPLANMEDTREATRESTGISYSTEMANTIBIOTICSSUPPORTIVECARE  1631224.0   2193-04-29   \n",
       "7  500/12/40%+5.toleratingwell.seertflowsheetformore.  1570383.0   2168-10-31   \n",
       "8  3rdunitPRBC'sinfused.Probabletransfertofloortoday.  1552122.0   2162-05-27   \n",
       "9  ding:LMBldg()BasementCampus:WESTBestParking:Garage    54790.0   2153-09-01   \n",
       "\n",
       "          charttime_m3         storetime_m3                            md5_m3  \\\n",
       "0  2170-07-14 03:37:00  2170-07-14 06:04:00  c48ed6b8e6dd6d2cba585e1a9f803411   \n",
       "1  2128-09-12 19:17:00  2128-09-12 19:43:00  b26fce2c35098b9cede70247753937ae   \n",
       "2  2118-08-09 04:08:00  2118-08-09 05:45:00  2a0b8dbd546e25668b6a6b7c8fc08de9   \n",
       "3  2192-10-11 04:36:00  2192-10-11 05:28:00  cfc3be2e62869d6157d96e972a70f0a5   \n",
       "4  2195-08-12 17:51:00  2195-08-12 17:54:00  4ba80f4e53c5510e499c06392e980bb1   \n",
       "5  2179-09-30 05:15:00  2179-09-30 05:31:00  ba633ab219b1b7c1cfbdea7177eb772d   \n",
       "6  2193-04-29 03:22:00  2193-04-29 03:36:00  3013f152c940ff3c13a694d533c2756d   \n",
       "7  2168-10-31 18:03:00  2168-10-31 18:06:00  fa14961f4d9da0c9f57a77609ef635cd   \n",
       "8  2162-05-27 05:10:00  2162-05-27 05:28:00  2df8873036d77a1d0345b0112b19c378   \n",
       "9                 None                 None  3cce112cb2b1dc44f3548c55fde20969   \n",
       "\n",
       "                                         str_start_m3  \\\n",
       "0  CCUNPN2200-0700ADDENDUM:Pt.alertandconversingappro   \n",
       "1  S/MICUNursingProgressNote7a-7pSeeCarevueforAdditio   \n",
       "2  NURSINGADMISSION/PROGRESSNOTE:SEECAREVUEFOROJECTIV   \n",
       "3  AdmissionNote0000-0700Pt43y/omalewithPMHHepCcirrho   \n",
       "4  RespCarePttransferredbacktofromRehabforfever,onmec   \n",
       "5  CCUNSGADMIT/PROGRESSNOTE7P-7A/PERICARDIALEFFS-\"MYB   \n",
       "6  PTTON/SICUAFROMERFORACUTEABDPAINDXNECROTIZINGPANCR   \n",
       "7  resp.carept.admittedfromrehabtoe.d.to.ventdependen   \n",
       "8  NursingProgressNote1900-0700ReviewofSystems:Neuro:   \n",
       "9  :::Sex:FService:MEDICINEAllergies:PenicillinsAtten   \n",
       "\n",
       "                                           str_end_m3  len_diff_pct  \\\n",
       "0  30.Askingquestionsre:POC.+gag,sipswatersoNGTd/c'd.      0.034483   \n",
       "1  ivesathomewithHusbandwhoisherhealthcareproxy.:.er:      0.011706   \n",
       "2  EEMOTIONALSUPPORTTOPTANDSPOUSE.CONSULTTOBEORDERED.      0.006763   \n",
       "3  enthehasbelongingsleftoninhisroompriortoprocedure.      0.009713   \n",
       "4  hventsupportA/C,,CVLplacedtoday,hemodialysistoday.      0.047297   \n",
       "5  ONS.SKINCARE/PULMKEEPPTANDFAMILYAWAREOFPLANOFCARE.      0.036416   \n",
       "6  SPLANMEDTREATRESTGISYSTEMANTIBIOTICSSUPPORTIVECARE      0.075862   \n",
       "7  500/12/40%+5.toleratingwell.seertflowsheetformore.      0.093137   \n",
       "8  labswhen3rdunitPRBC'sinfused.transfertofloortoday.      0.005682   \n",
       "9  :,MDBuilding:LMBldg()Campus:WESTBestParking:Garage      0.001900   \n",
       "\n",
       "   str_start_diff  str_end_diff  total_m3_distance  \n",
       "0            0.00          0.18           0.214483  \n",
       "1            0.00          0.20           0.211706  \n",
       "2            0.00          0.20           0.206763  \n",
       "3            0.00          0.18           0.189713  \n",
       "4            0.00          0.14           0.187297  \n",
       "5            0.00          0.14           0.176416  \n",
       "6            0.10          0.00           0.175862  \n",
       "7            0.08          0.00           0.173137  \n",
       "8            0.00          0.16           0.165682  \n",
       "9            0.00          0.16           0.161900  "
      ]
     },
     "execution_count": 112,
     "metadata": {},
     "output_type": "execute_result"
    }
   ],
   "source": [
    "questionable_matches = output_df.sort_values('total_m3_distance', ascending=False).reset_index(drop=True)\n",
    "questionable_matches.head(10)"
   ]
  },
  {
   "cell_type": "code",
   "execution_count": 113,
   "metadata": {
    "collapsed": true
   },
   "outputs": [],
   "source": [
    "def compare_texts(out_row):\n",
    "    query = \"\"\"\n",
    "    select text \n",
    "    from mimiciii.noteevents \n",
    "    where subject_id={subject_id} and row_id={row_id_m3}\n",
    "    \"\"\".format(**out_row)\n",
    "    mimic3_txt = conn3.execute(query).fetchone()[0]\n",
    "\n",
    "    if out_row['category'] == 'Nursing/other':\n",
    "        ann_txt = nursing_notes.loc[nursing_notes['md5'] == out_row['md5']].iloc[0]['text']\n",
    "    else:\n",
    "        ann_txt = disch_notes.loc[nursing_notes['md5'] == out_row['md5']].iloc[0]['text']\n",
    "    \n",
    "    print('MIMIC 3 text:\\n{}'.format(mimic3_txt))\n",
    "    print('Text from annotations:\\n{}'.format(ann_txt))"
   ]
  },
  {
   "cell_type": "code",
   "execution_count": 114,
   "metadata": {
    "collapsed": false
   },
   "outputs": [
    {
     "name": "stdout",
     "output_type": "stream",
     "text": [
      "MIMIC 3 text:\n",
      "CCU NPN 2200-0700\n",
      "ADDENDUM:\n",
      "Pt. alert and conversing appropriately ~0530. Asking questions re: POC. + gag, [** **] sips water so NGT d/c'd.\n",
      "\n",
      "Text from annotations:\n",
      "\n",
      "CCU NPN 2200-0700\n",
      "ADDENDUM: \n",
      "Pt. alert and conversing appropriately ~0530. Asking questions re: POC. + gag, tolerated sips water so NGT d/c'd. \n",
      "\n"
     ]
    }
   ],
   "source": [
    "compare_texts(questionable_matches.iloc[0])"
   ]
  },
  {
   "cell_type": "code",
   "execution_count": 115,
   "metadata": {
    "collapsed": false
   },
   "outputs": [
    {
     "name": "stdout",
     "output_type": "stream",
     "text": [
      "MIMIC 3 text:\n",
      "S/MICU Nursing Progress Note 7a-7p\n",
      "See Carevue for Additional Objective Data\n",
      "ROS:\n",
      "Resp:4l NC with RR:[**10-9**]/min with SpO2:93-98% BS:crackles at bases with intermittent fine exp wheezes anteriorly. treated with albuterol inhaler x1. No cough or sputum production noted\n",
      "\n",
      "ID:T max:100. po, unclear source of infection Urine cx, BC:png.\n",
      "Started on Zosyn and received dose of vanco in EW. Abd U/S: negative\n",
      "\n",
      "CV:SBP on admission 72-80 responded transiently to IVF. SBP down to 62/ and Levophed started. Titrated up to .057 mcg/kg/min, BP: stabilized to 92-119/ HR:94-103 SR-ST with rare PVC\n",
      "\n",
      "GU:BUN/Cr:29/1.6 received total of 5 L IVF via boluses in EW and MICU with U/O:>130-250cc/hr clear yellow urine. I/O's +3500cc since presentation in EW. Na:127 (up),K:3.9, Ca:6.8, received 2 amps CaGluconate. BS:62-69, asymptomatic. Received OJ for BS:62\n",
      "\n",
      "GI:Abd soft, non-tender, +BS, no stool production, NPO. No overt S7Sx of bleeding. hct:23-24. Ordered for transfusion, consent obtained at 18:45\n",
      "\n",
      "Neuro:Alert with periods of lethary, orientation x1-2. PERRL, speech clear, follows commands. Husband reports that she has had periods of confusion over the past several days. Head CT:negative\n",
      "\n",
      "Skin:Large sacral decub with pink base with areas of white/yellow. Plastics consulted this morning, performed debridement at bedside followed by W to Dry dressing. Also noted ecchymosis on R heel and .25 cent sized breakdown on R achilles, crusted over, no drainage. placed on first step therapeutic bed\n",
      "\n",
      "Access:R brachial PICC, L femoral multi lumen, #20 PIV\n",
      "\n",
      "Dispo:full code\n",
      "\n",
      "Social: Lives at home with Husband [**Name (NI) **] who is her healthcare proxy. [**Name (NI) **]:[**Telephone/Fax (1) 9306**]. [**Name2 (NI) **]er [**First Name4 (NamePattern1) 9309**] [**Last Name (NamePattern1) 9310**]:[**Telephone/Fax (1) 9307**]\n",
      "\n",
      "Text from annotations:\n",
      "\n",
      "S/MICU Nursing Progress Note 7a-7p\n",
      "See Carevue for Additional Objective Data\n",
      "ROS:\n",
      "Resp:4l NC with RR:[**9-18**]/min with SpO2:93-98% BS:crackles at bases with intermittent fine exp wheezes anteriorly. treated with albuterol inhaler x1. No cough or sputum production noted\n",
      "\n",
      "ID:T max:100. po, unclear source of infection Urine cx, BC:png.\n",
      "Started on Zosyn and received dose of vanco in EW. Abd U/S: negative\n",
      "\n",
      "CV:SBP on admission 72-80 responded transiently to IVF. SBP down to 62/ and Levophed started. Titrated up to .057 mcg/kg/min, BP: stabilized to 92-119/ HR:94-103 SR-ST with rare PVC\n",
      "\n",
      "GU:BUN/Cr:29/1.6 received total of 5 L IVF via boluses in EW and MICU with U/O:>130-250cc/hr clear yellow urine. I/O's +3500cc since presentation in EW. Na:127 (up),K:3.9, Ca:6.8, received 2 amps CaGluconate. BS:62-69, asymptomatic. Received OJ for BS:62\n",
      "\n",
      "GI:Abd soft, non-tender, +BS, no stool production, NPO. No overt S7Sx of bleeding. hct:23-24. Ordered for transfusion, consent obtained at 18:45\n",
      "\n",
      "Neuro:Alert with periods of lethary, orientation x1-2. PERRL, speech clear, follows commands. Husband reports that she has had periods of confusion over the past several days. Head CT:negative\n",
      "\n",
      "Skin:Large sacral decub with pink base with areas of white/yellow. Plastics consulted this morning, performed debridement at bedside followed by W to Dry dressing. Also noted ecchymosis on R heel and .25 cent sized breakdown on R achilles, crusted over, no drainage. placed on first step therapeutic bed\n",
      "\n",
      "Access:R brachial PICC, L femoral multi lumen, #20 PIV\n",
      "\n",
      "Dispo:full code\n",
      "\n",
      "Social: Lives at home with Husband [**Name (NI) **] who is her healthcare proxy. Home:[**Telephone/Fax (1) 6887**]. Daughter [**First Name4 (NamePattern1) 6889**] [**Last Name (NamePattern1) 6890**]:[**Telephone/Fax (1) 6888**] \n",
      "\n"
     ]
    }
   ],
   "source": [
    "compare_texts(questionable_matches.iloc[1])"
   ]
  }
 ],
 "metadata": {
  "kernelspec": {
   "display_name": "Python [conda env:freq_fliers_notebooks]",
   "language": "python",
   "name": "conda-env-freq_fliers_notebooks-py"
  },
  "language_info": {
   "codemirror_mode": {
    "name": "ipython",
    "version": 3
   },
   "file_extension": ".py",
   "mimetype": "text/x-python",
   "name": "python",
   "nbconvert_exporter": "python",
   "pygments_lexer": "ipython3",
   "version": "3.5.2"
  }
 },
 "nbformat": 4,
 "nbformat_minor": 1
}

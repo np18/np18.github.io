{
 "cells": [
  {
   "cell_type": "code",
   "execution_count": 1,
   "metadata": {
    "collapsed": true
   },
   "outputs": [],
   "source": [
    "import sys\n",
    "\n",
    "sys.path.append('icd9')\n",
    "from icd9 import ICD9"
   ]
  },
  {
   "cell_type": "code",
   "execution_count": 2,
   "metadata": {
    "collapsed": false
   },
   "outputs": [
    {
     "name": "stdout",
     "output_type": "stream",
     "text": [
      "001-139\t140-239\t240-279\t290-319\t320-389\t390-459\t460-519\t520-579\t580-629\t630-679\t680-709\t710-739\t760-779\t780-789\t790-796\t797\t798\t799\t800-999\tV01-V06\tV07-V09\tV10-V19\tV20-V29\tV30-V39\tV40-V49\tV50-V59\tV60-V69\tV70-V82\tV83-V84\tV85\tV86\tV87\tV88\tV89\tE979\tE849\tE800-E807\tE810-E819\tE820-E825\tE826-E829\tE830-E838\tE840-E845\tE846-E848\tE850-E858\tE860-E869\tE870-E876\tE878-E879\tE880-E888\tE890-E899\tE900-E909\tE910-E915\tE916-E928\tE929\tE930-E949\tE959\tE956\tE954\tE950\tE951\tE952\tE953\tE955\tE957\tE958\tE960-E969\tE970-E978\tE980-E989\tE990-E999\n"
     ]
    }
   ],
   "source": [
    "# feel free to replace with your path to the json file\n",
    "tree = ICD9('icd9/codes.json')\n",
    "\n",
    "# list of top level codes (e.g., '001-139', ...)\n",
    "toplevelnodes = tree.children\n",
    "toplevelcodes = [node.code for node in toplevelnodes]\n",
    "print('\\t'.join(toplevelcodes))"
   ]
  },
  {
   "cell_type": "code",
   "execution_count": 3,
   "metadata": {
    "collapsed": false
   },
   "outputs": [],
   "source": [
    "node = tree.find('003')"
   ]
  },
  {
   "cell_type": "code",
   "execution_count": 4,
   "metadata": {
    "collapsed": false
   },
   "outputs": [
    {
     "data": {
      "text/plain": [
       "'Other salmonella infections'"
      ]
     },
     "execution_count": 4,
     "metadata": {},
     "output_type": "execute_result"
    }
   ],
   "source": [
    "node.description"
   ]
  },
  {
   "cell_type": "code",
   "execution_count": 5,
   "metadata": {
    "collapsed": false
   },
   "outputs": [
    {
     "data": {
      "text/plain": [
       "['003.9',\n",
       " '003.29',\n",
       " '003.24',\n",
       " '003.22',\n",
       " '003.20',\n",
       " '003.23',\n",
       " '003.0',\n",
       " '003.8',\n",
       " '003.21',\n",
       " '003.1']"
      ]
     },
     "execution_count": 5,
     "metadata": {},
     "output_type": "execute_result"
    }
   ],
   "source": [
    "node.codes"
   ]
  },
  {
   "cell_type": "code",
   "execution_count": 6,
   "metadata": {
    "collapsed": true
   },
   "outputs": [],
   "source": [
    "code = tree.find('003.0')"
   ]
  },
  {
   "cell_type": "code",
   "execution_count": 7,
   "metadata": {
    "collapsed": false
   },
   "outputs": [
    {
     "data": {
      "text/plain": [
       "'Salmonella gastroenteritis'"
      ]
     },
     "execution_count": 7,
     "metadata": {},
     "output_type": "execute_result"
    }
   ],
   "source": [
    "code.description"
   ]
  },
  {
   "cell_type": "code",
   "execution_count": 8,
   "metadata": {
    "collapsed": false
   },
   "outputs": [
    {
     "data": {
      "text/plain": [
       "<icd9.Node at 0x108a2d1d0>"
      ]
     },
     "execution_count": 8,
     "metadata": {},
     "output_type": "execute_result"
    }
   ],
   "source": [
    "code"
   ]
  },
  {
   "cell_type": "code",
   "execution_count": 9,
   "metadata": {
    "collapsed": false
   },
   "outputs": [
    {
     "data": {
      "text/plain": [
       "'Salmonella osteomyelitis'"
      ]
     },
     "execution_count": 9,
     "metadata": {},
     "output_type": "execute_result"
    }
   ],
   "source": [
    "node.leaves[2].description"
   ]
  },
  {
   "cell_type": "code",
   "execution_count": 10,
   "metadata": {
    "collapsed": true
   },
   "outputs": [],
   "source": [
    "def print_tree(node):\n",
    "    if node is not None:    \n",
    "        print('Parents:')\n",
    "        for c in node.parents:\n",
    "            print('- {}: {}'.format(c.code, c.description))    \n",
    "\n",
    "        print('\\n-> {}: {}\\n'.format(node.code, node.description))\n",
    "\n",
    "        print('Children:')\n",
    "        for c in node.children:\n",
    "            print('- {}: {}'.format(c.code, c.description))"
   ]
  },
  {
   "cell_type": "code",
   "execution_count": 11,
   "metadata": {
    "collapsed": false
   },
   "outputs": [
    {
     "name": "stdout",
     "output_type": "stream",
     "text": [
      "Parents:\n",
      "- ROOT: ROOT\n",
      "- 001-139: INFECTIOUS AND PARASITIC DISEASES \n",
      "- 001-009: INTESTINAL INFECTIOUS DISEASES \n",
      "- 003: Other salmonella infections\n",
      "\n",
      "-> 003: Other salmonella infections\n",
      "\n",
      "Children:\n",
      "- 003.9: Salmonella infection, unspecified\n",
      "- 003.8: Other specified salmonella infections\n",
      "- 003.1: Salmonella septicemia\n",
      "- 003.0: Salmonella gastroenteritis\n",
      "- 003.2: Localized salmonella infections\n"
     ]
    }
   ],
   "source": [
    "print_tree(node)"
   ]
  },
  {
   "cell_type": "code",
   "execution_count": 12,
   "metadata": {
    "collapsed": false
   },
   "outputs": [
    {
     "name": "stdout",
     "output_type": "stream",
     "text": [
      "Parents:\n",
      "- ROOT: ROOT\n",
      "- 001-139: INFECTIOUS AND PARASITIC DISEASES \n",
      "- 001-009: INTESTINAL INFECTIOUS DISEASES \n",
      "- 003: Other salmonella infections\n",
      "- 003.0: Salmonella gastroenteritis\n",
      "\n",
      "-> 003.0: Salmonella gastroenteritis\n",
      "\n",
      "Children:\n"
     ]
    }
   ],
   "source": [
    "print_tree(tree.find('003.0'))"
   ]
  },
  {
   "cell_type": "code",
   "execution_count": 13,
   "metadata": {
    "collapsed": false
   },
   "outputs": [
    {
     "name": "stdout",
     "output_type": "stream",
     "text": [
      "Parents:\n",
      "- ROOT: ROOT\n",
      "- 001-139: INFECTIOUS AND PARASITIC DISEASES \n",
      "- 001-009: INTESTINAL INFECTIOUS DISEASES \n",
      "- 004: Shigellosis\n",
      "- 004.8: Other specified shigella infections\n",
      "\n",
      "-> 004.8: Other specified shigella infections\n",
      "\n",
      "Children:\n"
     ]
    }
   ],
   "source": [
    "print_tree(tree.find('004.8'))"
   ]
  }
 ],
 "metadata": {
  "anaconda-cloud": {},
  "kernelspec": {
   "display_name": "Python [default]",
   "language": "python",
   "name": "python3"
  },
  "language_info": {
   "codemirror_mode": {
    "name": "ipython",
    "version": 3
   },
   "file_extension": ".py",
   "mimetype": "text/x-python",
   "name": "python",
   "nbconvert_exporter": "python",
   "pygments_lexer": "ipython3",
   "version": "3.5.2"
  }
 },
 "nbformat": 4,
 "nbformat_minor": 1
}
